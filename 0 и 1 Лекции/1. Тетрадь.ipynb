{
  "nbformat": 4,
  "nbformat_minor": 0,
  "metadata": {
    "colab": {
      "name": "1. Тетрадь.ipynb",
      "provenance": []
    },
    "kernelspec": {
      "name": "python3",
      "display_name": "Python 3"
    },
    "language_info": {
      "name": "python"
    }
  },
  "cells": [
    {
      "cell_type": "code",
      "metadata": {
        "id": "if6H1t10kDKn"
      },
      "source": [
        "import sys\n",
        "import gc"
      ],
      "execution_count": null,
      "outputs": []
    },
    {
      "cell_type": "markdown",
      "metadata": {
        "id": "bgmoNyUifxnY"
      },
      "source": [
        "# Переменные Python'а"
      ]
    },
    {
      "cell_type": "markdown",
      "metadata": {
        "id": "1lQrO_2tgDpu"
      },
      "source": [
        "## Создадим переменную и посмотрим на ее адрес и тип"
      ]
    },
    {
      "cell_type": "code",
      "metadata": {
        "id": "61BLgYAtbcvq"
      },
      "source": [
        "x = 5\n",
        "print(id(x))\n",
        "print(type(x))"
      ],
      "execution_count": null,
      "outputs": []
    },
    {
      "cell_type": "code",
      "metadata": {
        "id": "m1_HdvPCb40R"
      },
      "source": [
        "x = 6\n",
        "print(id(x))\n",
        "print(type(x))"
      ],
      "execution_count": null,
      "outputs": []
    },
    {
      "cell_type": "markdown",
      "metadata": {
        "id": "HvO2iWTBgMQm"
      },
      "source": [
        "## Новая переменная? Сравнение?"
      ]
    },
    {
      "cell_type": "markdown",
      "metadata": {
        "id": "Ud1usFgggZhW"
      },
      "source": [
        "### **is** сранивает адреса"
      ]
    },
    {
      "cell_type": "code",
      "metadata": {
        "id": "TJNDrdTnb6aD"
      },
      "source": [
        "y = 6\n",
        "print(x is y)"
      ],
      "execution_count": null,
      "outputs": []
    },
    {
      "cell_type": "markdown",
      "metadata": {
        "id": "65gdPFzigo4_"
      },
      "source": [
        "### **==** сравнивает значения"
      ]
    },
    {
      "cell_type": "code",
      "metadata": {
        "id": "crT7Xnx9ge4u"
      },
      "source": [
        "print(x == y)"
      ],
      "execution_count": null,
      "outputs": []
    },
    {
      "cell_type": "code",
      "metadata": {
        "id": "CTqLdBBlgm-w"
      },
      "source": [
        "z = 100000\n",
        "w = 100000\n",
        "print(z is w)\n",
        "print(z == w)"
      ],
      "execution_count": null,
      "outputs": []
    },
    {
      "cell_type": "markdown",
      "metadata": {
        "id": "TKXxapp5g2X4"
      },
      "source": [
        "Почему?"
      ]
    },
    {
      "cell_type": "markdown",
      "metadata": {
        "id": "MmiQ-390g5ye"
      },
      "source": [
        "## Interned objects"
      ]
    },
    {
      "cell_type": "code",
      "metadata": {
        "id": "u6cXQ6uLg5Eh"
      },
      "source": [
        "def compare_addrs(a, b):\n",
        "  print(a is b)"
      ],
      "execution_count": null,
      "outputs": []
    },
    {
      "cell_type": "code",
      "metadata": {
        "id": "IZ4mOVSqiXkh"
      },
      "source": [
        "a = -6\n",
        "b = -6\n",
        "compare_addrs(a, b)\n",
        "\n",
        "a = -5\n",
        "b = -5\n",
        "compare_addrs(a, b)\n",
        "\n",
        "a = 256\n",
        "b = 256\n",
        "compare_addrs(a, b)\n",
        "\n",
        "a = 257\n",
        "b = 257\n",
        "compare_addrs(a, b)"
      ],
      "execution_count": null,
      "outputs": []
    },
    {
      "cell_type": "code",
      "metadata": {
        "id": "AqU7iZkxitlI"
      },
      "source": [
        "a = \"qwertyuiopasdfghjklz\"\n",
        "b = \"qwertyuiopasdfghjklz\"\n",
        "compare_addrs(a, b)\n",
        "\n",
        "a = \"a\" * 4096\n",
        "b = \"a\" * 4096\n",
        "compare_addrs(a, b)\n",
        "\n",
        "a = \"a\" * 4097\n",
        "b = \"a\" * 4097\n",
        "compare_addrs(a, b)\n",
        "\n",
        "a = \"qwertyuiopasdfghjklz!\"\n",
        "b = \"qwertyuiopasdfghjklz!\"\n",
        "compare_addrs(a, b)\n",
        "\n",
        "a = \"Holberton\"\n",
        "b = \"\".join([\"H\", \"o\", \"l\", \"b\", \"e\", \"r\", \"t\", \"o\", \"n\"])\n",
        "compare_addrs(a, b)"
      ],
      "execution_count": null,
      "outputs": []
    },
    {
      "cell_type": "code",
      "metadata": {
        "id": "OeMNMntbkFoB"
      },
      "source": [
        "a = sys.intern(\"qwertyuiopasdfghjklz!\")\n",
        "b = sys.intern(\"qwertyuiopasdfghjklz!\")\n",
        "compare_addrs(a, b)"
      ],
      "execution_count": null,
      "outputs": []
    },
    {
      "cell_type": "markdown",
      "metadata": {
        "id": "AZLWjhmXkea0"
      },
      "source": [
        "## Изменяемость"
      ]
    },
    {
      "cell_type": "markdown",
      "metadata": {
        "id": "b_B04pVXlK3j"
      },
      "source": [
        "Некоторые типы неизменяемы, то есть операции над переменными ведут к созданию нового PyObject'а"
      ]
    },
    {
      "cell_type": "code",
      "metadata": {
        "id": "lkdxkS8RlATE"
      },
      "source": [
        "a = \"test\"\n",
        "print(id(a))\n",
        "a += \"!\"\n",
        "print(id(a))"
      ],
      "execution_count": null,
      "outputs": []
    },
    {
      "cell_type": "markdown",
      "metadata": {
        "id": "STADQbTdlsDE"
      },
      "source": [
        "Ну а другие..."
      ]
    },
    {
      "cell_type": "code",
      "metadata": {
        "id": "JPGvl7WFlt5T"
      },
      "source": [
        "a = [1,2,3]\n",
        "print(id(a))\n",
        "a[0]=0\n",
        "print(id(a))"
      ],
      "execution_count": null,
      "outputs": []
    },
    {
      "cell_type": "markdown",
      "metadata": {
        "id": "KLtg3dHslz7w"
      },
      "source": [
        "Но!"
      ]
    },
    {
      "cell_type": "code",
      "metadata": {
        "id": "PN8N78Akl1rM"
      },
      "source": [
        "a = [1,2,3]\n",
        "print(id(a[0]))\n",
        "a[0]=0\n",
        "print(id(a[0]))"
      ],
      "execution_count": null,
      "outputs": []
    },
    {
      "cell_type": "markdown",
      "metadata": {
        "id": "XFKCRFm0mGWe"
      },
      "source": [
        "Проблема tuple'ов"
      ]
    },
    {
      "cell_type": "code",
      "metadata": {
        "id": "UsUzJe4GmWYQ"
      },
      "source": [
        "a = (1,2)\n",
        "a[0]=0"
      ],
      "execution_count": null,
      "outputs": []
    },
    {
      "cell_type": "code",
      "metadata": {
        "id": "AVBV2NUImLM5"
      },
      "source": [
        "a = (0, [1,2])\n",
        "print(id(a))\n",
        "a[1].append(3)\n",
        "print(id(a))"
      ],
      "execution_count": null,
      "outputs": []
    },
    {
      "cell_type": "markdown",
      "metadata": {
        "id": "HpPYQUwBmaMx"
      },
      "source": [
        "Зачем в этом разбираться?"
      ]
    },
    {
      "cell_type": "code",
      "metadata": {
        "id": "8Wk9ipDfmZhN"
      },
      "source": [
        "def incr(a):\n",
        "  if type(a) == int:\n",
        "    a += 1\n",
        "  if type(a) == list:\n",
        "    a.append(1)\n",
        "\n",
        "a = 5\n",
        "incr(a)\n",
        "print(a)\n",
        "a = [-1, 0]\n",
        "incr(a)\n",
        "print(a)"
      ],
      "execution_count": null,
      "outputs": []
    },
    {
      "cell_type": "code",
      "metadata": {
        "id": "QeENk7NsmgMl"
      },
      "source": [
        "list1 = [1,2,3]\n",
        "list2 = list1[:]\n",
        "list3 = list(list1)\n",
        "list4 = list1.copy()\n",
        "\n",
        "compare_addrs(list1, list2)\n",
        "compare_addrs(list1, list3)\n",
        "compare_addrs(list1, list4)"
      ],
      "execution_count": null,
      "outputs": []
    },
    {
      "cell_type": "markdown",
      "metadata": {
        "id": "duSO1cuBneTe"
      },
      "source": [
        "## Все есть класс?"
      ]
    },
    {
      "cell_type": "markdown",
      "metadata": {
        "id": "OwP1UQY3o7In"
      },
      "source": [
        "### Посмотрим методы?"
      ]
    },
    {
      "cell_type": "code",
      "metadata": {
        "id": "d_1Nc74ymgQP"
      },
      "source": [
        "a = 5\n",
        "dir(a)"
      ],
      "execution_count": null,
      "outputs": []
    },
    {
      "cell_type": "markdown",
      "metadata": {
        "id": "2m3pUVDxn8Gi"
      },
      "source": [
        "Методы бывают трех типов:\n",
        "- приватные\n",
        "- защищенные\n",
        "- публичные"
      ]
    },
    {
      "cell_type": "markdown",
      "metadata": {
        "id": "EL-sauZspAjo"
      },
      "source": [
        "### Посмотрим поля?"
      ]
    },
    {
      "cell_type": "code",
      "metadata": {
        "id": "ZhLaGtmfo4oo"
      },
      "source": [
        "a.__dict__"
      ],
      "execution_count": null,
      "outputs": []
    },
    {
      "cell_type": "code",
      "metadata": {
        "id": "Hk5HIYk1olNg"
      },
      "source": [
        "class MyClass:\n",
        "  integer = 0\n",
        "\n",
        "  def __init__(self):\n",
        "    self.string = \"my class\""
      ],
      "execution_count": null,
      "outputs": []
    },
    {
      "cell_type": "code",
      "metadata": {
        "id": "KTZd0gIAouxe"
      },
      "source": [
        "c = MyClass()\n",
        "print(c.integer, c.string)\n",
        "c.__dict__"
      ],
      "execution_count": null,
      "outputs": []
    },
    {
      "cell_type": "code",
      "metadata": {
        "id": "NUm4VJSiqEb5"
      },
      "source": [
        "class MyClass:\n",
        "  integer = 0\n",
        "\n",
        "  def __init__(self):\n",
        "    self.string = \"my class\"\n",
        "\n",
        "  @staticmethod\n",
        "  def static_method():\n",
        "    print(\"i'm stuck\")\n",
        "\n",
        "  @classmethod\n",
        "  def class_method(cls):\n",
        "    print(\"our integer:\", cls.integer)"
      ],
      "execution_count": null,
      "outputs": []
    },
    {
      "cell_type": "markdown",
      "metadata": {
        "id": "9Et3d_31rGye"
      },
      "source": [
        "Статические методы как бы привязаны к классу, но вообще не используют его поля  \n",
        "Методы класса привязаны именно к классу, так что и доступ имеют только к его полям"
      ]
    },
    {
      "cell_type": "code",
      "metadata": {
        "id": "d9L2t3c0qdRZ"
      },
      "source": [
        "c1 = MyClass()\n",
        "c2 = MyClass()\n",
        "MyClass.static_method()\n",
        "MyClass.class_method()"
      ],
      "execution_count": null,
      "outputs": []
    },
    {
      "cell_type": "markdown",
      "metadata": {
        "id": "3QPen1EXrWkD"
      },
      "source": [
        "# Видимость переменных"
      ]
    },
    {
      "cell_type": "markdown",
      "metadata": {
        "id": "LAgnQOhlutIx"
      },
      "source": [
        "Локальная"
      ]
    },
    {
      "cell_type": "code",
      "metadata": {
        "id": "GxWjttoTu32Z"
      },
      "source": [
        "def test():\n",
        "  test_x = 1\n",
        "  print(test_x)\n",
        "\n",
        "test()\n",
        "print(test_x)"
      ],
      "execution_count": null,
      "outputs": []
    },
    {
      "cell_type": "markdown",
      "metadata": {
        "id": "D9sGMf3Tu4Zg"
      },
      "source": [
        "Глобальная"
      ]
    },
    {
      "cell_type": "code",
      "metadata": {
        "id": "xg2cTKwqv3C3"
      },
      "source": [
        "test_x = 0"
      ],
      "execution_count": null,
      "outputs": []
    },
    {
      "cell_type": "code",
      "metadata": {
        "id": "IJZYUeD1vtMZ"
      },
      "source": [
        "def test():\n",
        "  print(test_x)\n",
        "  \n",
        "test()"
      ],
      "execution_count": null,
      "outputs": []
    },
    {
      "cell_type": "code",
      "metadata": {
        "id": "XT9rPgEGvEy-"
      },
      "source": [
        "test_y = 0\n",
        "\n",
        "def test():\n",
        "    global test_y\n",
        "    test_y += 1\n",
        "\n",
        "print(test_y)\n",
        "test()\n",
        "print(test_y)"
      ],
      "execution_count": null,
      "outputs": []
    },
    {
      "cell_type": "markdown",
      "metadata": {
        "id": "ThmbSBj0v_sI"
      },
      "source": [
        "Нелокальная"
      ]
    },
    {
      "cell_type": "code",
      "metadata": {
        "id": "vuQL5lNXwBzM"
      },
      "source": [
        "def test():\n",
        "  test_z = 0\n",
        "  def test_2():\n",
        "    nonlocal test_z\n",
        "    test_z += 1\n",
        "  test_2()\n",
        "  print(test_z)\n",
        "\n",
        "test()"
      ],
      "execution_count": null,
      "outputs": []
    },
    {
      "cell_type": "code",
      "metadata": {
        "id": "RnvD5iTnwKG5"
      },
      "source": [
        "def test(a):\n",
        "  test_w = 2\n",
        "  def test_2():\n",
        "    return a + test_w\n",
        "  return test_2()\n",
        "\n",
        "test(5)"
      ],
      "execution_count": null,
      "outputs": []
    },
    {
      "cell_type": "code",
      "metadata": {
        "id": "XcOWsIpJxAAd"
      },
      "source": [
        "def test(a):\n",
        "  test_w = 2\n",
        "  def test_2():\n",
        "    test_w += a\n",
        "    return test_w\n",
        "  return test_2()\n",
        "\n",
        "test(5)"
      ],
      "execution_count": null,
      "outputs": []
    },
    {
      "cell_type": "code",
      "metadata": {
        "id": "TAPYaJ2P8HtR"
      },
      "source": [
        "def test_multi(a):\n",
        "    def test_multi_internal(b):\n",
        "        return b*a\n",
        "    return test_multi_internal\n",
        "    \n",
        "\n",
        "test_multi_5 = test_multi(5)\n",
        "print(test_multi_5(9))"
      ],
      "execution_count": null,
      "outputs": []
    },
    {
      "cell_type": "markdown",
      "metadata": {
        "id": "VBCKltvXw_ZO"
      },
      "source": [
        "Поищем переменную?"
      ]
    },
    {
      "cell_type": "code",
      "metadata": {
        "id": "d7eTI8YhxHbf"
      },
      "source": [
        "int = 0\n",
        "\n",
        "def test():\n",
        "  int = 1\n",
        "  def test_2():\n",
        "    int = 2\n",
        "    print(int)\n",
        "  test_2()\n",
        "\n",
        "test()"
      ],
      "execution_count": null,
      "outputs": []
    },
    {
      "cell_type": "markdown",
      "metadata": {
        "id": "A9__Qef-xtmj"
      },
      "source": [
        "Огласите весь список, пожалуйста!"
      ]
    },
    {
      "cell_type": "code",
      "metadata": {
        "id": "8_1Npd8Gx2Uo"
      },
      "source": [
        "def test():\n",
        "  print(locals())\n",
        "  test_list = 0\n",
        "  print(locals())\n",
        "\n",
        "  print(globals())\n",
        "\n",
        "test()"
      ],
      "execution_count": null,
      "outputs": []
    },
    {
      "cell_type": "markdown",
      "metadata": {
        "id": "5MG88GmT2Dyg"
      },
      "source": [
        "# Работа с памятью"
      ]
    },
    {
      "cell_type": "markdown",
      "metadata": {
        "id": "swMtJPYj2gUt"
      },
      "source": [
        "## Счетчик ссылок"
      ]
    },
    {
      "cell_type": "code",
      "metadata": {
        "id": "PHbt2Krn15z-"
      },
      "source": [
        "garbage_list = [\"g\", \"a\", \"r\", \"b\", \"a\", \"g\", \"e\"]\n",
        "print(sys.getrefcount(garbage_list)) # создает референс\n",
        "garbage_list2 = garbage_list\n",
        "print(sys.getrefcount(garbage_list))"
      ],
      "execution_count": null,
      "outputs": []
    },
    {
      "cell_type": "markdown",
      "metadata": {
        "id": "XtVJVkxU2ijs"
      },
      "source": [
        "## GC"
      ]
    },
    {
      "cell_type": "code",
      "metadata": {
        "id": "zRW7Sf9R2pjW"
      },
      "source": [
        "gc.get_objects() # список всех, за кем следит"
      ],
      "execution_count": null,
      "outputs": []
    },
    {
      "cell_type": "code",
      "metadata": {
        "id": "gbSzPfXO2lHM"
      },
      "source": [
        "gc.collect() # вызов сборщика мусорма"
      ],
      "execution_count": null,
      "outputs": []
    },
    {
      "cell_type": "code",
      "metadata": {
        "id": "CJ5SMC_F2y5-"
      },
      "source": [
        "gc.get_stats() # статистика сбора: 3 поколения, по каждому - сколько раз собирали, сколько собрали, сколько поместили в мусор"
      ],
      "execution_count": null,
      "outputs": []
    },
    {
      "cell_type": "code",
      "metadata": {
        "id": "mUepOPVg24f7"
      },
      "source": [
        "gc.disable() # отключение и включение автоматической сборки\n",
        "gc.enable()\n",
        "gc.get_threshold() # пороговые значения того, сколько раз надо проверить предыдущее поколение, чтобы проверить следующее\n",
        "gc.set_threshold()"
      ],
      "execution_count": null,
      "outputs": []
    },
    {
      "cell_type": "code",
      "metadata": {
        "id": "8ULqxFYb4DMs"
      },
      "source": [
        "print(gc.get_referents(garbage_list)) # на кого мы ссылаемся\n",
        "print(gc.get_referents(garbage_list2))\n",
        "print(gc.get_referents(c1))"
      ],
      "execution_count": null,
      "outputs": []
    },
    {
      "cell_type": "code",
      "metadata": {
        "id": "HJrFycNp4mV6"
      },
      "source": [
        "garbage_integer = 1\n",
        "print(gc.is_tracked(garbage_integer))\n",
        "garbage_tuple = (0, 1)\n",
        "print(gc.is_tracked(garbage_tuple))\n",
        "garbage_dict = {1:1, 2:2}\n",
        "print(gc.is_tracked(garbage_dict))\n",
        "garbage_dict_2 = {1:[1], 2:[2]}\n",
        "print(gc.is_tracked(garbage_dict_2))"
      ],
      "execution_count": null,
      "outputs": []
    },
    {
      "cell_type": "markdown",
      "metadata": {
        "id": "fbTQqKFQ20bm"
      },
      "source": [
        "# Мини домашка"
      ]
    },
    {
      "cell_type": "markdown",
      "metadata": {
        "id": "xfnwSXKY43oY"
      },
      "source": [
        "## Задание 1"
      ]
    },
    {
      "cell_type": "markdown",
      "metadata": {
        "id": "ywhOqhNQ46Pk"
      },
      "source": [
        "Может ли быть такое, что is вернет True, а == вернет False?"
      ]
    },
    {
      "cell_type": "markdown",
      "metadata": {
        "id": "36AREef8225-"
      },
      "source": [
        "## Задание 2"
      ]
    },
    {
      "cell_type": "markdown",
      "metadata": {
        "id": "8sIOdOZm3Ria"
      },
      "source": [
        "Как мы уже смотрели, для каких-то данных есть interned objects, для кого-то их нет"
      ]
    },
    {
      "cell_type": "code",
      "metadata": {
        "id": "-Y6ouVc-26IQ"
      },
      "source": [
        "def compare_addrs(a, b):\n",
        "  print(a is b)\n",
        "\n",
        "a = -6\n",
        "b = -6\n",
        "compare_addrs(a, b)\n",
        "\n",
        "a = \"bad string\"\n",
        "b = \"bad string\"\n",
        "compare_addrs(a, b)"
      ],
      "execution_count": null,
      "outputs": []
    },
    {
      "cell_type": "markdown",
      "metadata": {
        "id": "pXl0Rd6g4WRR"
      },
      "source": [
        "Почему же происхоидт такое?"
      ]
    },
    {
      "cell_type": "code",
      "metadata": {
        "id": "yR9aRF5b3ZFu"
      },
      "source": [
        "bad_vals = [-6, \"bad string\"]\n",
        "for val in bad_vals:\n",
        "  a = val\n",
        "  b = val\n",
        "  compare_addrs(a, b)\n",
        "\n",
        "bad_vals = [-6, \"bad string\"]\n",
        "for i in range(0, len(bad_vals)):\n",
        "  a = bad_vals[i]\n",
        "  b = bad_vals[i]\n",
        "  compare_addrs(a, b)"
      ],
      "execution_count": null,
      "outputs": []
    },
    {
      "cell_type": "markdown",
      "metadata": {
        "id": "8uVSqjrI4aDg"
      },
      "source": [
        "## Задание 3"
      ]
    },
    {
      "cell_type": "markdown",
      "metadata": {
        "id": "PaZWeO-c4aJd"
      },
      "source": [
        "Стоит быть осторожными с изменяемыми типами данных"
      ]
    },
    {
      "cell_type": "markdown",
      "metadata": {
        "id": "yL1cdsxr6w-n"
      },
      "source": [
        "Почему словили ошибку?"
      ]
    },
    {
      "cell_type": "code",
      "metadata": {
        "id": "Q0811xKD5fuV"
      },
      "source": [
        "array_to_cut = [1,1,2,3,4,3,3,5]\n",
        "for i in range(0,len(array_to_cut)):\n",
        "  if array_to_cut[i] == 3:\n",
        "    array_to_cut.pop(i)\n",
        "print(array_to_cut)"
      ],
      "execution_count": null,
      "outputs": []
    },
    {
      "cell_type": "markdown",
      "metadata": {
        "id": "xXZVks6W640h"
      },
      "source": [
        "Почему оно сработало так?"
      ]
    },
    {
      "cell_type": "code",
      "metadata": {
        "id": "RtZHLFvN60N1"
      },
      "source": [
        "array_to_change = [1,2,3,4,5]\n",
        "for i in range(0,len(array_to_change)):\n",
        "  if array_to_change[i] == 3:\n",
        "    array_to_change[i+1] -=1\n",
        "\n",
        "print(array_to_change)"
      ],
      "execution_count": null,
      "outputs": []
    }
  ]
}