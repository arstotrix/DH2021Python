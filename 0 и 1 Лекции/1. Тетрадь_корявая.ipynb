{
  "nbformat": 4,
  "nbformat_minor": 0,
  "metadata": {
    "colab": {
      "provenance": []
    },
    "kernelspec": {
      "name": "python3",
      "display_name": "Python 3"
    },
    "language_info": {
      "name": "python"
    }
  },
  "cells": [
    {
      "cell_type": "code",
      "metadata": {
        "id": "if6H1t10kDKn"
      },
      "source": [
        "import sys\n",
        "import gc"
      ],
      "execution_count": 1,
      "outputs": []
    },
    {
      "cell_type": "markdown",
      "metadata": {
        "id": "bgmoNyUifxnY"
      },
      "source": [
        "# Переменные Python'а"
      ]
    },
    {
      "cell_type": "markdown",
      "metadata": {
        "id": "1lQrO_2tgDpu"
      },
      "source": [
        "## Создадим переменную и посмотрим на ее адрес и тип"
      ]
    },
    {
      "cell_type": "code",
      "metadata": {
        "id": "61BLgYAtbcvq",
        "colab": {
          "base_uri": "https://localhost:8080/"
        },
        "outputId": "f56f3887-2327-423a-8649-cf8da30018cc"
      },
      "source": [
        "x = 5\n",
        "print(id(x))\n",
        "print(type(x))"
      ],
      "execution_count": 2,
      "outputs": [
        {
          "output_type": "stream",
          "name": "stdout",
          "text": [
            "11122720\n",
            "<class 'int'>\n"
          ]
        }
      ]
    },
    {
      "cell_type": "code",
      "metadata": {
        "id": "m1_HdvPCb40R",
        "colab": {
          "base_uri": "https://localhost:8080/"
        },
        "outputId": "7cf13d19-ee82-488c-b636-0cb99e163380"
      },
      "source": [
        "x = 6\n",
        "print(id(x))\n",
        "print(type(x))"
      ],
      "execution_count": 3,
      "outputs": [
        {
          "output_type": "stream",
          "name": "stdout",
          "text": [
            "11122752\n",
            "<class 'int'>\n"
          ]
        }
      ]
    },
    {
      "cell_type": "markdown",
      "metadata": {
        "id": "HvO2iWTBgMQm"
      },
      "source": [
        "## Новая переменная? Сравнение?"
      ]
    },
    {
      "cell_type": "markdown",
      "metadata": {
        "id": "Ud1usFgggZhW"
      },
      "source": [
        "### **is** сранивает адреса"
      ]
    },
    {
      "cell_type": "code",
      "metadata": {
        "id": "TJNDrdTnb6aD",
        "colab": {
          "base_uri": "https://localhost:8080/"
        },
        "outputId": "67bcbe39-910b-4afe-e129-f2b6ded3ae29"
      },
      "source": [
        "y = 6\n",
        "print(id(x), id(y))\n",
        "print(x is y)"
      ],
      "execution_count": 5,
      "outputs": [
        {
          "output_type": "stream",
          "name": "stdout",
          "text": [
            "11122752 11122752\n",
            "True\n"
          ]
        }
      ]
    },
    {
      "cell_type": "markdown",
      "metadata": {
        "id": "65gdPFzigo4_"
      },
      "source": [
        "### **==** сравнивает значения"
      ]
    },
    {
      "cell_type": "code",
      "metadata": {
        "id": "crT7Xnx9ge4u",
        "colab": {
          "base_uri": "https://localhost:8080/"
        },
        "outputId": "239f0a34-4d3d-45fa-c6db-c3339693b2da"
      },
      "source": [
        "print(x == y)"
      ],
      "execution_count": 6,
      "outputs": [
        {
          "output_type": "stream",
          "name": "stdout",
          "text": [
            "True\n"
          ]
        }
      ]
    },
    {
      "cell_type": "code",
      "metadata": {
        "id": "CTqLdBBlgm-w",
        "colab": {
          "base_uri": "https://localhost:8080/"
        },
        "outputId": "8cc85fd6-0001-4b8d-e995-83bd7c4311dc"
      },
      "source": [
        "z = 100000\n",
        "w = 100000\n",
        "print(z is w)\n",
        "print(z == w)"
      ],
      "execution_count": 7,
      "outputs": [
        {
          "output_type": "stream",
          "name": "stdout",
          "text": [
            "False\n",
            "True\n"
          ]
        }
      ]
    },
    {
      "cell_type": "markdown",
      "metadata": {
        "id": "TKXxapp5g2X4"
      },
      "source": [
        "Почему?"
      ]
    },
    {
      "cell_type": "markdown",
      "metadata": {
        "id": "MmiQ-390g5ye"
      },
      "source": [
        "## Interned objects"
      ]
    },
    {
      "cell_type": "code",
      "metadata": {
        "id": "u6cXQ6uLg5Eh"
      },
      "source": [
        "def compare_addrs(a, b):\n",
        "  print(a is b)"
      ],
      "execution_count": 8,
      "outputs": []
    },
    {
      "cell_type": "code",
      "metadata": {
        "id": "IZ4mOVSqiXkh",
        "colab": {
          "base_uri": "https://localhost:8080/"
        },
        "outputId": "f14c4387-cdcd-4f81-a55f-39a54671d12d"
      },
      "source": [
        "a = -6\n",
        "b = -6\n",
        "compare_addrs(a, b)\n",
        "\n",
        "a = -5\n",
        "b = -5\n",
        "compare_addrs(a, b)\n",
        "\n",
        "a = 256\n",
        "b = 256\n",
        "compare_addrs(a, b)\n",
        "\n",
        "a = 257\n",
        "b = 257\n",
        "compare_addrs(a, b)"
      ],
      "execution_count": 9,
      "outputs": [
        {
          "output_type": "stream",
          "name": "stdout",
          "text": [
            "False\n",
            "True\n",
            "True\n",
            "False\n"
          ]
        }
      ]
    },
    {
      "cell_type": "code",
      "metadata": {
        "id": "AqU7iZkxitlI",
        "colab": {
          "base_uri": "https://localhost:8080/"
        },
        "outputId": "36035d24-5af5-4035-9b68-1389b9d3e353"
      },
      "source": [
        "a = \"qwertyuiopasdfghjklz\"\n",
        "b = \"qwertyuiopasdfghjklz\"\n",
        "compare_addrs(a, b)\n",
        "\n",
        "a = \"a\" * 4096\n",
        "b = \"a\" * 4096\n",
        "compare_addrs(a, b)\n",
        "\n",
        "a = \"a\" * 4097\n",
        "b = \"a\" * 4097\n",
        "compare_addrs(a, b)\n",
        "\n",
        "a = \"qwertyuiopasdfghjklz!\"\n",
        "b = \"qwertyuiopasdfghjklz!\"\n",
        "compare_addrs(a, b)\n",
        "\n",
        "a = \"Holberton\"\n",
        "b = \"\".join([\"H\", \"o\", \"l\", \"b\", \"e\", \"r\", \"t\", \"o\", \"n\"])\n",
        "compare_addrs(a, b)"
      ],
      "execution_count": 10,
      "outputs": [
        {
          "output_type": "stream",
          "name": "stdout",
          "text": [
            "True\n",
            "True\n",
            "False\n",
            "False\n",
            "False\n"
          ]
        }
      ]
    },
    {
      "cell_type": "code",
      "metadata": {
        "id": "OeMNMntbkFoB",
        "colab": {
          "base_uri": "https://localhost:8080/"
        },
        "outputId": "efd5bbc1-beb9-43bb-a744-f43683d17419"
      },
      "source": [
        "a = sys.intern(\"qwertyuiopasdfghjklz!\")\n",
        "b = sys.intern(\"qwertyuiopasdfghjklz!\")\n",
        "compare_addrs(a, b)"
      ],
      "execution_count": 11,
      "outputs": [
        {
          "output_type": "stream",
          "name": "stdout",
          "text": [
            "True\n"
          ]
        }
      ]
    },
    {
      "cell_type": "markdown",
      "metadata": {
        "id": "AZLWjhmXkea0"
      },
      "source": [
        "## Изменяемость"
      ]
    },
    {
      "cell_type": "markdown",
      "metadata": {
        "id": "b_B04pVXlK3j"
      },
      "source": [
        "Некоторые типы неизменяемы, то есть операции над переменными ведут к созданию нового PyObject'а"
      ]
    },
    {
      "cell_type": "code",
      "metadata": {
        "id": "lkdxkS8RlATE",
        "colab": {
          "base_uri": "https://localhost:8080/"
        },
        "outputId": "ff3b0d62-14ac-4aeb-cf8a-50e3bc4172a2"
      },
      "source": [
        "a = \"test\"\n",
        "print(id(a))\n",
        "a += \"!\"\n",
        "print(id(a))"
      ],
      "execution_count": 12,
      "outputs": [
        {
          "output_type": "stream",
          "name": "stdout",
          "text": [
            "140211477262576\n",
            "140211074468208\n"
          ]
        }
      ]
    },
    {
      "cell_type": "markdown",
      "metadata": {
        "id": "STADQbTdlsDE"
      },
      "source": [
        "Ну а другие..."
      ]
    },
    {
      "cell_type": "code",
      "metadata": {
        "id": "JPGvl7WFlt5T",
        "colab": {
          "base_uri": "https://localhost:8080/"
        },
        "outputId": "971fb614-b776-449e-8185-effea153231c"
      },
      "source": [
        "a = [1,2,3]\n",
        "print(id(a))\n",
        "a[0]=0\n",
        "print(id(a))"
      ],
      "execution_count": 13,
      "outputs": [
        {
          "output_type": "stream",
          "name": "stdout",
          "text": [
            "140211146258704\n",
            "140211146258704\n"
          ]
        }
      ]
    },
    {
      "cell_type": "markdown",
      "metadata": {
        "id": "KLtg3dHslz7w"
      },
      "source": [
        "Но!"
      ]
    },
    {
      "cell_type": "code",
      "metadata": {
        "id": "PN8N78Akl1rM",
        "colab": {
          "base_uri": "https://localhost:8080/"
        },
        "outputId": "dd06c2bb-bb98-4ee2-9562-5e753ba71643"
      },
      "source": [
        "a = [1,2,3]\n",
        "print(id(a[0]))\n",
        "a[0]=0\n",
        "print(id(a[0]))"
      ],
      "execution_count": 14,
      "outputs": [
        {
          "output_type": "stream",
          "name": "stdout",
          "text": [
            "11122592\n",
            "11122560\n"
          ]
        }
      ]
    },
    {
      "cell_type": "markdown",
      "metadata": {
        "id": "XFKCRFm0mGWe"
      },
      "source": [
        "Проблема tuple'ов"
      ]
    },
    {
      "cell_type": "code",
      "metadata": {
        "id": "UsUzJe4GmWYQ"
      },
      "source": [
        "a = (1,2)\n",
        "a[0]=0\n",
        "\n",
        "# (addr1, addr2) -> (addr0, addr2)"
      ],
      "execution_count": null,
      "outputs": []
    },
    {
      "cell_type": "code",
      "metadata": {
        "id": "AVBV2NUImLM5",
        "colab": {
          "base_uri": "https://localhost:8080/"
        },
        "outputId": "920b5af8-ce1a-482a-cbc3-008695d8e50a"
      },
      "source": [
        "a = (0, [1,2])\n",
        "print(id(a))\n",
        "a[1].append(3)\n",
        "print(id(a))\n",
        "\n",
        "# (addr0, addrlist) -> (addr0, addrlist)"
      ],
      "execution_count": 16,
      "outputs": [
        {
          "output_type": "stream",
          "name": "stdout",
          "text": [
            "140211073926240\n",
            "140211073926240\n"
          ]
        }
      ]
    },
    {
      "cell_type": "markdown",
      "metadata": {
        "id": "HpPYQUwBmaMx"
      },
      "source": [
        "Зачем в этом разбираться?"
      ]
    },
    {
      "cell_type": "code",
      "metadata": {
        "id": "8Wk9ipDfmZhN",
        "colab": {
          "base_uri": "https://localhost:8080/"
        },
        "outputId": "dd226f13-0606-4777-8c16-04cf0ac620d0"
      },
      "source": [
        "def incr(a):\n",
        "  if type(a) == int:\n",
        "    a += 1\n",
        "  if type(a) == list:\n",
        "    a.append(1)\n",
        "\n",
        "a = 5\n",
        "incr(a)\n",
        "print(a)\n",
        "a = [-1, 0]\n",
        "incr(a)\n",
        "print(a)"
      ],
      "execution_count": 17,
      "outputs": [
        {
          "output_type": "stream",
          "name": "stdout",
          "text": [
            "5\n",
            "[-1, 0, 1]\n"
          ]
        }
      ]
    },
    {
      "cell_type": "code",
      "metadata": {
        "id": "QeENk7NsmgMl",
        "colab": {
          "base_uri": "https://localhost:8080/"
        },
        "outputId": "f000c2a3-3a7c-4968-ece3-b9e5ba09a9a6"
      },
      "source": [
        "list1 = [1,2,3]\n",
        "list2 = list1[:]\n",
        "list3 = list(list1)\n",
        "list4 = list1.copy()\n",
        "\n",
        "compare_addrs(list1, list2)\n",
        "compare_addrs(list1, list3)\n",
        "compare_addrs(list1, list4)"
      ],
      "execution_count": 18,
      "outputs": [
        {
          "output_type": "stream",
          "name": "stdout",
          "text": [
            "False\n",
            "False\n",
            "False\n"
          ]
        }
      ]
    },
    {
      "cell_type": "markdown",
      "metadata": {
        "id": "duSO1cuBneTe"
      },
      "source": [
        "## Все есть класс?"
      ]
    },
    {
      "cell_type": "markdown",
      "metadata": {
        "id": "OwP1UQY3o7In"
      },
      "source": [
        "### Посмотрим методы?"
      ]
    },
    {
      "cell_type": "code",
      "metadata": {
        "id": "d_1Nc74ymgQP",
        "colab": {
          "base_uri": "https://localhost:8080/"
        },
        "outputId": "6267df87-3629-4692-da23-77133c21995e"
      },
      "source": [
        "a = 5\n",
        "dir(a)"
      ],
      "execution_count": 19,
      "outputs": [
        {
          "output_type": "execute_result",
          "data": {
            "text/plain": [
              "['__abs__',\n",
              " '__add__',\n",
              " '__and__',\n",
              " '__bool__',\n",
              " '__ceil__',\n",
              " '__class__',\n",
              " '__delattr__',\n",
              " '__dir__',\n",
              " '__divmod__',\n",
              " '__doc__',\n",
              " '__eq__',\n",
              " '__float__',\n",
              " '__floor__',\n",
              " '__floordiv__',\n",
              " '__format__',\n",
              " '__ge__',\n",
              " '__getattribute__',\n",
              " '__getnewargs__',\n",
              " '__gt__',\n",
              " '__hash__',\n",
              " '__index__',\n",
              " '__init__',\n",
              " '__init_subclass__',\n",
              " '__int__',\n",
              " '__invert__',\n",
              " '__le__',\n",
              " '__lshift__',\n",
              " '__lt__',\n",
              " '__mod__',\n",
              " '__mul__',\n",
              " '__ne__',\n",
              " '__neg__',\n",
              " '__new__',\n",
              " '__or__',\n",
              " '__pos__',\n",
              " '__pow__',\n",
              " '__radd__',\n",
              " '__rand__',\n",
              " '__rdivmod__',\n",
              " '__reduce__',\n",
              " '__reduce_ex__',\n",
              " '__repr__',\n",
              " '__rfloordiv__',\n",
              " '__rlshift__',\n",
              " '__rmod__',\n",
              " '__rmul__',\n",
              " '__ror__',\n",
              " '__round__',\n",
              " '__rpow__',\n",
              " '__rrshift__',\n",
              " '__rshift__',\n",
              " '__rsub__',\n",
              " '__rtruediv__',\n",
              " '__rxor__',\n",
              " '__setattr__',\n",
              " '__sizeof__',\n",
              " '__str__',\n",
              " '__sub__',\n",
              " '__subclasshook__',\n",
              " '__truediv__',\n",
              " '__trunc__',\n",
              " '__xor__',\n",
              " 'bit_length',\n",
              " 'conjugate',\n",
              " 'denominator',\n",
              " 'from_bytes',\n",
              " 'imag',\n",
              " 'numerator',\n",
              " 'real',\n",
              " 'to_bytes']"
            ]
          },
          "metadata": {},
          "execution_count": 19
        }
      ]
    },
    {
      "cell_type": "markdown",
      "metadata": {
        "id": "2m3pUVDxn8Gi"
      },
      "source": [
        "Методы бывают трех типов:\n",
        "- приватные\n",
        "- защищенные\n",
        "- публичные"
      ]
    },
    {
      "cell_type": "markdown",
      "metadata": {
        "id": "EL-sauZspAjo"
      },
      "source": [
        "### Посмотрим поля?"
      ]
    },
    {
      "cell_type": "code",
      "metadata": {
        "id": "ZhLaGtmfo4oo",
        "colab": {
          "base_uri": "https://localhost:8080/",
          "height": 166
        },
        "outputId": "a94b5bcf-7f36-40ff-dcf6-c2a467802b9a"
      },
      "source": [
        "a.__dict__"
      ],
      "execution_count": 20,
      "outputs": [
        {
          "output_type": "error",
          "ename": "AttributeError",
          "evalue": "ignored",
          "traceback": [
            "\u001b[0;31m---------------------------------------------------------------------------\u001b[0m",
            "\u001b[0;31mAttributeError\u001b[0m                            Traceback (most recent call last)",
            "\u001b[0;32m<ipython-input-20-24d50c1843f4>\u001b[0m in \u001b[0;36m<module>\u001b[0;34m\u001b[0m\n\u001b[0;32m----> 1\u001b[0;31m \u001b[0ma\u001b[0m\u001b[0;34m.\u001b[0m\u001b[0m__dict__\u001b[0m\u001b[0;34m\u001b[0m\u001b[0;34m\u001b[0m\u001b[0m\n\u001b[0m",
            "\u001b[0;31mAttributeError\u001b[0m: 'int' object has no attribute '__dict__'"
          ]
        }
      ]
    },
    {
      "cell_type": "code",
      "metadata": {
        "id": "Hk5HIYk1olNg"
      },
      "source": [
        "class MyClass:\n",
        "  integer = 0\n",
        "\n",
        "  def __init__(self):\n",
        "    self.string = \"my class\""
      ],
      "execution_count": 21,
      "outputs": []
    },
    {
      "cell_type": "code",
      "metadata": {
        "id": "KTZd0gIAouxe",
        "colab": {
          "base_uri": "https://localhost:8080/"
        },
        "outputId": "81878668-6eea-44aa-db54-33ffaf822266"
      },
      "source": [
        "c = MyClass()\n",
        "print(c.integer, c.string)\n",
        "c.__dict__"
      ],
      "execution_count": 22,
      "outputs": [
        {
          "output_type": "stream",
          "name": "stdout",
          "text": [
            "0 my class\n"
          ]
        },
        {
          "output_type": "execute_result",
          "data": {
            "text/plain": [
              "{'string': 'my class'}"
            ]
          },
          "metadata": {},
          "execution_count": 22
        }
      ]
    },
    {
      "cell_type": "code",
      "metadata": {
        "id": "NUm4VJSiqEb5"
      },
      "source": [
        "class MyClass:\n",
        "  integer = 0\n",
        "\n",
        "  def __init__(self):\n",
        "    self.string = \"my class\"\n",
        "\n",
        "  @staticmethod\n",
        "  def static_method():\n",
        "    print(\"i'm stuck\")\n",
        "\n",
        "  @classmethod\n",
        "  def class_method(cls):\n",
        "    print(\"our integer:\", cls.integer)"
      ],
      "execution_count": 23,
      "outputs": []
    },
    {
      "cell_type": "markdown",
      "metadata": {
        "id": "9Et3d_31rGye"
      },
      "source": [
        "Статические методы как бы привязаны к классу, но вообще не используют его поля  \n",
        "Методы класса привязаны именно к классу, так что и доступ имеют только к его полям"
      ]
    },
    {
      "cell_type": "code",
      "metadata": {
        "id": "d9L2t3c0qdRZ",
        "colab": {
          "base_uri": "https://localhost:8080/"
        },
        "outputId": "14471703-b7f5-4311-e9dd-42023f58ec61"
      },
      "source": [
        "c1 = MyClass()\n",
        "c2 = MyClass()\n",
        "MyClass.static_method()\n",
        "MyClass.class_method()"
      ],
      "execution_count": 24,
      "outputs": [
        {
          "output_type": "stream",
          "name": "stdout",
          "text": [
            "i'm stuck\n",
            "our integer: 0\n"
          ]
        }
      ]
    },
    {
      "cell_type": "markdown",
      "metadata": {
        "id": "3QPen1EXrWkD"
      },
      "source": [
        "# Видимость переменных"
      ]
    },
    {
      "cell_type": "markdown",
      "metadata": {
        "id": "LAgnQOhlutIx"
      },
      "source": [
        "Локальная"
      ]
    },
    {
      "cell_type": "code",
      "metadata": {
        "id": "GxWjttoTu32Z",
        "colab": {
          "base_uri": "https://localhost:8080/",
          "height": 218
        },
        "outputId": "ffd8821e-2624-448d-b4bc-661e1c67c16f"
      },
      "source": [
        "def test():\n",
        "  test_x = 1\n",
        "  print(test_x)\n",
        "\n",
        "test()\n",
        "print(test_x)"
      ],
      "execution_count": 25,
      "outputs": [
        {
          "output_type": "stream",
          "name": "stdout",
          "text": [
            "1\n"
          ]
        },
        {
          "output_type": "error",
          "ename": "NameError",
          "evalue": "ignored",
          "traceback": [
            "\u001b[0;31m---------------------------------------------------------------------------\u001b[0m",
            "\u001b[0;31mNameError\u001b[0m                                 Traceback (most recent call last)",
            "\u001b[0;32m<ipython-input-25-d286e7047330>\u001b[0m in \u001b[0;36m<module>\u001b[0;34m\u001b[0m\n\u001b[1;32m      4\u001b[0m \u001b[0;34m\u001b[0m\u001b[0m\n\u001b[1;32m      5\u001b[0m \u001b[0mtest\u001b[0m\u001b[0;34m(\u001b[0m\u001b[0;34m)\u001b[0m\u001b[0;34m\u001b[0m\u001b[0;34m\u001b[0m\u001b[0m\n\u001b[0;32m----> 6\u001b[0;31m \u001b[0mprint\u001b[0m\u001b[0;34m(\u001b[0m\u001b[0mtest_x\u001b[0m\u001b[0;34m)\u001b[0m\u001b[0;34m\u001b[0m\u001b[0;34m\u001b[0m\u001b[0m\n\u001b[0m",
            "\u001b[0;31mNameError\u001b[0m: name 'test_x' is not defined"
          ]
        }
      ]
    },
    {
      "cell_type": "markdown",
      "metadata": {
        "id": "D9sGMf3Tu4Zg"
      },
      "source": [
        "Глобальная"
      ]
    },
    {
      "cell_type": "code",
      "metadata": {
        "id": "xg2cTKwqv3C3"
      },
      "source": [
        "test_x = 0"
      ],
      "execution_count": 26,
      "outputs": []
    },
    {
      "cell_type": "code",
      "metadata": {
        "id": "IJZYUeD1vtMZ",
        "colab": {
          "base_uri": "https://localhost:8080/"
        },
        "outputId": "0f7cd4eb-aaad-43cb-9ce5-bf8e787d50c6"
      },
      "source": [
        "def test():\n",
        "  print(test_x)\n",
        "  \n",
        "test()\n",
        "print(test_x)"
      ],
      "execution_count": 27,
      "outputs": [
        {
          "output_type": "stream",
          "name": "stdout",
          "text": [
            "0\n",
            "0\n"
          ]
        }
      ]
    },
    {
      "cell_type": "code",
      "metadata": {
        "id": "XT9rPgEGvEy-",
        "colab": {
          "base_uri": "https://localhost:8080/"
        },
        "outputId": "3895b96b-1290-447c-9336-86d3fa3a880c"
      },
      "source": [
        "test_y = 0\n",
        "\n",
        "def test():\n",
        "    global test_y\n",
        "    test_y += 1\n",
        "\n",
        "print(test_y)\n",
        "test()\n",
        "print(test_y)"
      ],
      "execution_count": 28,
      "outputs": [
        {
          "output_type": "stream",
          "name": "stdout",
          "text": [
            "0\n",
            "1\n"
          ]
        }
      ]
    },
    {
      "cell_type": "markdown",
      "metadata": {
        "id": "ThmbSBj0v_sI"
      },
      "source": [
        "Нелокальная"
      ]
    },
    {
      "cell_type": "code",
      "metadata": {
        "id": "vuQL5lNXwBzM",
        "colab": {
          "base_uri": "https://localhost:8080/"
        },
        "outputId": "ff7f986f-071c-4067-dabe-1222a1519708"
      },
      "source": [
        "def test():\n",
        "  test_z = 0\n",
        "  def test_2():\n",
        "    nonlocal test_z\n",
        "    test_z += 1\n",
        "  test_2()\n",
        "  print(test_z)\n",
        "\n",
        "test()"
      ],
      "execution_count": 31,
      "outputs": [
        {
          "output_type": "stream",
          "name": "stdout",
          "text": [
            "1\n"
          ]
        }
      ]
    },
    {
      "cell_type": "code",
      "metadata": {
        "id": "RnvD5iTnwKG5",
        "colab": {
          "base_uri": "https://localhost:8080/"
        },
        "outputId": "f364baf7-2eb5-4398-a749-c86926a7d3c2"
      },
      "source": [
        "def test(a):\n",
        "  test_w = 2\n",
        "  def test_2():\n",
        "    return a + test_w\n",
        "  return test_2()\n",
        "\n",
        "test(5)"
      ],
      "execution_count": 32,
      "outputs": [
        {
          "output_type": "execute_result",
          "data": {
            "text/plain": [
              "7"
            ]
          },
          "metadata": {},
          "execution_count": 32
        }
      ]
    },
    {
      "cell_type": "code",
      "metadata": {
        "id": "XcOWsIpJxAAd"
      },
      "source": [
        "def test(a):\n",
        "  test_w = 2\n",
        "  def test_2():\n",
        "    test_w += a\n",
        "    return test_w\n",
        "  return test_2()\n",
        "\n",
        "test(5)"
      ],
      "execution_count": null,
      "outputs": []
    },
    {
      "cell_type": "code",
      "metadata": {
        "id": "TAPYaJ2P8HtR",
        "colab": {
          "base_uri": "https://localhost:8080/"
        },
        "outputId": "7a772c65-7321-4488-c70a-0c770a498d06"
      },
      "source": [
        "def test_multi(a):\n",
        "    def test_multi_internal(b):\n",
        "        return b*a\n",
        "    return test_multi_internal\n",
        "    \n",
        "\n",
        "test_multi_5 = test_multi(5)\n",
        "print(test_multi_5(9))"
      ],
      "execution_count": 34,
      "outputs": [
        {
          "output_type": "stream",
          "name": "stdout",
          "text": [
            "45\n"
          ]
        }
      ]
    },
    {
      "cell_type": "markdown",
      "metadata": {
        "id": "VBCKltvXw_ZO"
      },
      "source": [
        "Поищем переменную?"
      ]
    },
    {
      "cell_type": "code",
      "metadata": {
        "id": "d7eTI8YhxHbf",
        "colab": {
          "base_uri": "https://localhost:8080/"
        },
        "outputId": "9c46abaa-59b7-4575-cf04-1d46d95884b2"
      },
      "source": [
        "# int = 0\n",
        "\n",
        "def test():\n",
        "  # int = 1\n",
        "  def test_2():\n",
        "    # int = 2\n",
        "    print(str)\n",
        "  test_2()\n",
        "\n",
        "test()"
      ],
      "execution_count": 39,
      "outputs": [
        {
          "output_type": "stream",
          "name": "stdout",
          "text": [
            "<class 'str'>\n"
          ]
        }
      ]
    },
    {
      "cell_type": "markdown",
      "metadata": {
        "id": "A9__Qef-xtmj"
      },
      "source": [
        "Огласите весь список, пожалуйста!"
      ]
    },
    {
      "cell_type": "code",
      "metadata": {
        "id": "8_1Npd8Gx2Uo",
        "colab": {
          "base_uri": "https://localhost:8080/"
        },
        "outputId": "c6dabd35-6b60-4540-fc20-6ddf6f32caa1"
      },
      "source": [
        "def test():\n",
        "  print(locals())\n",
        "  test_list = 0\n",
        "  print(locals())\n",
        "\n",
        "  print(globals())\n",
        "\n",
        "test()"
      ],
      "execution_count": 40,
      "outputs": [
        {
          "output_type": "stream",
          "name": "stdout",
          "text": [
            "{}\n",
            "{'test_list': 0}\n",
            "{'__name__': '__main__', '__doc__': 'Automatically created module for IPython interactive environment', '__package__': None, '__loader__': None, '__spec__': None, '__builtin__': <module 'builtins' (built-in)>, '__builtins__': <module 'builtins' (built-in)>, '_ih': ['', 'import sys\\nimport gc', 'x = 5\\nprint(id(x))\\nprint(type(x))', 'x = 6\\nprint(id(x))\\nprint(type(x))', 'y = 6\\nprint(x is y)', 'y = 6\\nprint(id(x), id(y))\\nprint(x is y)', 'print(x == y)', 'z = 100000\\nw = 100000\\nprint(z is w)\\nprint(z == w)', 'def compare_addrs(a, b):\\n  print(a is b)', 'a = -6\\nb = -6\\ncompare_addrs(a, b)\\n\\na = -5\\nb = -5\\ncompare_addrs(a, b)\\n\\na = 256\\nb = 256\\ncompare_addrs(a, b)\\n\\na = 257\\nb = 257\\ncompare_addrs(a, b)', 'a = \"qwertyuiopasdfghjklz\"\\nb = \"qwertyuiopasdfghjklz\"\\ncompare_addrs(a, b)\\n\\na = \"a\" * 4096\\nb = \"a\" * 4096\\ncompare_addrs(a, b)\\n\\na = \"a\" * 4097\\nb = \"a\" * 4097\\ncompare_addrs(a, b)\\n\\na = \"qwertyuiopasdfghjklz!\"\\nb = \"qwertyuiopasdfghjklz!\"\\ncompare_addrs(a, b)\\n\\na = \"Holberton\"\\nb = \"\".join([\"H\", \"o\", \"l\", \"b\", \"e\", \"r\", \"t\", \"o\", \"n\"])\\ncompare_addrs(a, b)', 'a = sys.intern(\"qwertyuiopasdfghjklz!\")\\nb = sys.intern(\"qwertyuiopasdfghjklz!\")\\ncompare_addrs(a, b)', 'a = \"test\"\\nprint(id(a))\\na += \"!\"\\nprint(id(a))', 'a = [1,2,3]\\nprint(id(a))\\na[0]=0\\nprint(id(a))', 'a = [1,2,3]\\nprint(id(a[0]))\\na[0]=0\\nprint(id(a[0]))', 'a = (1,2)\\na[0]=0', 'a = (0, [1,2])\\nprint(id(a))\\na[1].append(3)\\nprint(id(a))', 'def incr(a):\\n  if type(a) == int:\\n    a += 1\\n  if type(a) == list:\\n    a.append(1)\\n\\na = 5\\nincr(a)\\nprint(a)\\na = [-1, 0]\\nincr(a)\\nprint(a)', 'list1 = [1,2,3]\\nlist2 = list1[:]\\nlist3 = list(list1)\\nlist4 = list1.copy()\\n\\ncompare_addrs(list1, list2)\\ncompare_addrs(list1, list3)\\ncompare_addrs(list1, list4)', 'a = 5\\ndir(a)', 'a.__dict__', 'class MyClass:\\n  integer = 0\\n\\n  def __init__(self):\\n    self.string = \"my class\"', 'c = MyClass()\\nprint(c.integer, c.string)\\nc.__dict__', 'class MyClass:\\n  integer = 0\\n\\n  def __init__(self):\\n    self.string = \"my class\"\\n\\n  @staticmethod\\n  def static_method():\\n    print(\"i\\'m stuck\")\\n\\n  @classmethod\\n  def class_method(cls):\\n    print(\"our integer:\", cls.integer)', 'c1 = MyClass()\\nc2 = MyClass()\\nMyClass.static_method()\\nMyClass.class_method()', 'def test():\\n  test_x = 1\\n  print(test_x)\\n\\ntest()\\nprint(test_x)', 'test_x = 0', 'def test():\\n  print(test_x)\\n  \\ntest()\\nprint(test_x)', 'test_y = 0\\n\\ndef test():\\n    global test_y\\n    test_y += 1\\n\\nprint(test_y)\\ntest()\\nprint(test_y)', 'def test():\\n  test_z = 0\\n  def test_2():\\n    test_z\\n    test_z += 1\\n  test_2()\\n  print(test_z)\\n\\ntest()', 'def test():\\n  test_z = 0\\n  def test_2():\\n    # nonlocal test_z\\n    test_z += 1\\n  test_2()\\n  print(test_z)\\n\\ntest()', 'def test():\\n  test_z = 0\\n  def test_2():\\n    nonlocal test_z\\n    test_z += 1\\n  test_2()\\n  print(test_z)\\n\\ntest()', 'def test(a):\\n  test_w = 2\\n  def test_2():\\n    return a + test_w\\n  return test_2()\\n\\ntest(5)', 'def test(a):\\n  test_w = 2\\n  def test_2():\\n    test_w += a\\n    return test_w\\n  return test_2()\\n\\ntest(5)', 'def test_multi(a):\\n    def test_multi_internal(b):\\n        return b*a\\n    return test_multi_internal\\n    \\n\\ntest_multi_5 = test_multi(5)\\nprint(test_multi_5(9))', 'int = 0\\n\\ndef test():\\n  int = 1\\n  def test_2():\\n    int = 2\\n    print(int)\\n  test_2()\\n\\ntest()', 'int = 0\\n\\ndef test():\\n  int = 1\\n  def test_2():\\n    # int = 2\\n    print(int)\\n  test_2()\\n\\ntest()', 'int = 0\\n\\ndef test():\\n  # int = 1\\n  def test_2():\\n    # int = 2\\n    print(int)\\n  test_2()\\n\\ntest()', '# int = 0\\n\\ndef test():\\n  # int = 1\\n  def test_2():\\n    # int = 2\\n    print(int)\\n  test_2()\\n\\ntest()', '# int = 0\\n\\ndef test():\\n  # int = 1\\n  def test_2():\\n    # int = 2\\n    print(str)\\n  test_2()\\n\\ntest()', 'def test():\\n  print(locals())\\n  test_list = 0\\n  print(locals())\\n\\n  print(globals())\\n\\ntest()'], '_oh': {19: ['__abs__', '__add__', '__and__', '__bool__', '__ceil__', '__class__', '__delattr__', '__dir__', '__divmod__', '__doc__', '__eq__', '__float__', '__floor__', '__floordiv__', '__format__', '__ge__', '__getattribute__', '__getnewargs__', '__gt__', '__hash__', '__index__', '__init__', '__init_subclass__', '__int__', '__invert__', '__le__', '__lshift__', '__lt__', '__mod__', '__mul__', '__ne__', '__neg__', '__new__', '__or__', '__pos__', '__pow__', '__radd__', '__rand__', '__rdivmod__', '__reduce__', '__reduce_ex__', '__repr__', '__rfloordiv__', '__rlshift__', '__rmod__', '__rmul__', '__ror__', '__round__', '__rpow__', '__rrshift__', '__rshift__', '__rsub__', '__rtruediv__', '__rxor__', '__setattr__', '__sizeof__', '__str__', '__sub__', '__subclasshook__', '__truediv__', '__trunc__', '__xor__', 'bit_length', 'conjugate', 'denominator', 'from_bytes', 'imag', 'numerator', 'real', 'to_bytes'], 22: {'string': 'my class'}, 32: 7}, '_dh': ['/content'], 'In': ['', 'import sys\\nimport gc', 'x = 5\\nprint(id(x))\\nprint(type(x))', 'x = 6\\nprint(id(x))\\nprint(type(x))', 'y = 6\\nprint(x is y)', 'y = 6\\nprint(id(x), id(y))\\nprint(x is y)', 'print(x == y)', 'z = 100000\\nw = 100000\\nprint(z is w)\\nprint(z == w)', 'def compare_addrs(a, b):\\n  print(a is b)', 'a = -6\\nb = -6\\ncompare_addrs(a, b)\\n\\na = -5\\nb = -5\\ncompare_addrs(a, b)\\n\\na = 256\\nb = 256\\ncompare_addrs(a, b)\\n\\na = 257\\nb = 257\\ncompare_addrs(a, b)', 'a = \"qwertyuiopasdfghjklz\"\\nb = \"qwertyuiopasdfghjklz\"\\ncompare_addrs(a, b)\\n\\na = \"a\" * 4096\\nb = \"a\" * 4096\\ncompare_addrs(a, b)\\n\\na = \"a\" * 4097\\nb = \"a\" * 4097\\ncompare_addrs(a, b)\\n\\na = \"qwertyuiopasdfghjklz!\"\\nb = \"qwertyuiopasdfghjklz!\"\\ncompare_addrs(a, b)\\n\\na = \"Holberton\"\\nb = \"\".join([\"H\", \"o\", \"l\", \"b\", \"e\", \"r\", \"t\", \"o\", \"n\"])\\ncompare_addrs(a, b)', 'a = sys.intern(\"qwertyuiopasdfghjklz!\")\\nb = sys.intern(\"qwertyuiopasdfghjklz!\")\\ncompare_addrs(a, b)', 'a = \"test\"\\nprint(id(a))\\na += \"!\"\\nprint(id(a))', 'a = [1,2,3]\\nprint(id(a))\\na[0]=0\\nprint(id(a))', 'a = [1,2,3]\\nprint(id(a[0]))\\na[0]=0\\nprint(id(a[0]))', 'a = (1,2)\\na[0]=0', 'a = (0, [1,2])\\nprint(id(a))\\na[1].append(3)\\nprint(id(a))', 'def incr(a):\\n  if type(a) == int:\\n    a += 1\\n  if type(a) == list:\\n    a.append(1)\\n\\na = 5\\nincr(a)\\nprint(a)\\na = [-1, 0]\\nincr(a)\\nprint(a)', 'list1 = [1,2,3]\\nlist2 = list1[:]\\nlist3 = list(list1)\\nlist4 = list1.copy()\\n\\ncompare_addrs(list1, list2)\\ncompare_addrs(list1, list3)\\ncompare_addrs(list1, list4)', 'a = 5\\ndir(a)', 'a.__dict__', 'class MyClass:\\n  integer = 0\\n\\n  def __init__(self):\\n    self.string = \"my class\"', 'c = MyClass()\\nprint(c.integer, c.string)\\nc.__dict__', 'class MyClass:\\n  integer = 0\\n\\n  def __init__(self):\\n    self.string = \"my class\"\\n\\n  @staticmethod\\n  def static_method():\\n    print(\"i\\'m stuck\")\\n\\n  @classmethod\\n  def class_method(cls):\\n    print(\"our integer:\", cls.integer)', 'c1 = MyClass()\\nc2 = MyClass()\\nMyClass.static_method()\\nMyClass.class_method()', 'def test():\\n  test_x = 1\\n  print(test_x)\\n\\ntest()\\nprint(test_x)', 'test_x = 0', 'def test():\\n  print(test_x)\\n  \\ntest()\\nprint(test_x)', 'test_y = 0\\n\\ndef test():\\n    global test_y\\n    test_y += 1\\n\\nprint(test_y)\\ntest()\\nprint(test_y)', 'def test():\\n  test_z = 0\\n  def test_2():\\n    test_z\\n    test_z += 1\\n  test_2()\\n  print(test_z)\\n\\ntest()', 'def test():\\n  test_z = 0\\n  def test_2():\\n    # nonlocal test_z\\n    test_z += 1\\n  test_2()\\n  print(test_z)\\n\\ntest()', 'def test():\\n  test_z = 0\\n  def test_2():\\n    nonlocal test_z\\n    test_z += 1\\n  test_2()\\n  print(test_z)\\n\\ntest()', 'def test(a):\\n  test_w = 2\\n  def test_2():\\n    return a + test_w\\n  return test_2()\\n\\ntest(5)', 'def test(a):\\n  test_w = 2\\n  def test_2():\\n    test_w += a\\n    return test_w\\n  return test_2()\\n\\ntest(5)', 'def test_multi(a):\\n    def test_multi_internal(b):\\n        return b*a\\n    return test_multi_internal\\n    \\n\\ntest_multi_5 = test_multi(5)\\nprint(test_multi_5(9))', 'int = 0\\n\\ndef test():\\n  int = 1\\n  def test_2():\\n    int = 2\\n    print(int)\\n  test_2()\\n\\ntest()', 'int = 0\\n\\ndef test():\\n  int = 1\\n  def test_2():\\n    # int = 2\\n    print(int)\\n  test_2()\\n\\ntest()', 'int = 0\\n\\ndef test():\\n  # int = 1\\n  def test_2():\\n    # int = 2\\n    print(int)\\n  test_2()\\n\\ntest()', '# int = 0\\n\\ndef test():\\n  # int = 1\\n  def test_2():\\n    # int = 2\\n    print(int)\\n  test_2()\\n\\ntest()', '# int = 0\\n\\ndef test():\\n  # int = 1\\n  def test_2():\\n    # int = 2\\n    print(str)\\n  test_2()\\n\\ntest()', 'def test():\\n  print(locals())\\n  test_list = 0\\n  print(locals())\\n\\n  print(globals())\\n\\ntest()'], 'Out': {19: ['__abs__', '__add__', '__and__', '__bool__', '__ceil__', '__class__', '__delattr__', '__dir__', '__divmod__', '__doc__', '__eq__', '__float__', '__floor__', '__floordiv__', '__format__', '__ge__', '__getattribute__', '__getnewargs__', '__gt__', '__hash__', '__index__', '__init__', '__init_subclass__', '__int__', '__invert__', '__le__', '__lshift__', '__lt__', '__mod__', '__mul__', '__ne__', '__neg__', '__new__', '__or__', '__pos__', '__pow__', '__radd__', '__rand__', '__rdivmod__', '__reduce__', '__reduce_ex__', '__repr__', '__rfloordiv__', '__rlshift__', '__rmod__', '__rmul__', '__ror__', '__round__', '__rpow__', '__rrshift__', '__rshift__', '__rsub__', '__rtruediv__', '__rxor__', '__setattr__', '__sizeof__', '__str__', '__sub__', '__subclasshook__', '__truediv__', '__trunc__', '__xor__', 'bit_length', 'conjugate', 'denominator', 'from_bytes', 'imag', 'numerator', 'real', 'to_bytes'], 22: {'string': 'my class'}, 32: 7}, 'get_ipython': <bound method InteractiveShell.get_ipython of <google.colab._shell.Shell object at 0x7f8580ec5e10>>, 'exit': <IPython.core.autocall.ZMQExitAutocall object at 0x7f857de85890>, 'quit': <IPython.core.autocall.ZMQExitAutocall object at 0x7f857de85890>, '_': 7, '__': {'string': 'my class'}, '___': ['__abs__', '__add__', '__and__', '__bool__', '__ceil__', '__class__', '__delattr__', '__dir__', '__divmod__', '__doc__', '__eq__', '__float__', '__floor__', '__floordiv__', '__format__', '__ge__', '__getattribute__', '__getnewargs__', '__gt__', '__hash__', '__index__', '__init__', '__init_subclass__', '__int__', '__invert__', '__le__', '__lshift__', '__lt__', '__mod__', '__mul__', '__ne__', '__neg__', '__new__', '__or__', '__pos__', '__pow__', '__radd__', '__rand__', '__rdivmod__', '__reduce__', '__reduce_ex__', '__repr__', '__rfloordiv__', '__rlshift__', '__rmod__', '__rmul__', '__ror__', '__round__', '__rpow__', '__rrshift__', '__rshift__', '__rsub__', '__rtruediv__', '__rxor__', '__setattr__', '__sizeof__', '__str__', '__sub__', '__subclasshook__', '__truediv__', '__trunc__', '__xor__', 'bit_length', 'conjugate', 'denominator', 'from_bytes', 'imag', 'numerator', 'real', 'to_bytes'], '_i': '# int = 0\\n\\ndef test():\\n  # int = 1\\n  def test_2():\\n    # int = 2\\n    print(str)\\n  test_2()\\n\\ntest()', '_ii': '# int = 0\\n\\ndef test():\\n  # int = 1\\n  def test_2():\\n    # int = 2\\n    print(int)\\n  test_2()\\n\\ntest()', '_iii': 'int = 0\\n\\ndef test():\\n  # int = 1\\n  def test_2():\\n    # int = 2\\n    print(int)\\n  test_2()\\n\\ntest()', '_i1': 'import sys\\nimport gc', 'sys': <module 'sys' (built-in)>, 'gc': <module 'gc' (built-in)>, '_i2': 'x = 5\\nprint(id(x))\\nprint(type(x))', 'x': 6, '_i3': 'x = 6\\nprint(id(x))\\nprint(type(x))', '_i4': 'y = 6\\nprint(x is y)', 'y': 6, '_i5': 'y = 6\\nprint(id(x), id(y))\\nprint(x is y)', '_i6': 'print(x == y)', '_i7': 'z = 100000\\nw = 100000\\nprint(z is w)\\nprint(z == w)', 'z': 100000, 'w': 100000, '_i8': 'def compare_addrs(a, b):\\n  print(a is b)', 'compare_addrs': <function compare_addrs at 0x7f856f410170>, '_i9': 'a = -6\\nb = -6\\ncompare_addrs(a, b)\\n\\na = -5\\nb = -5\\ncompare_addrs(a, b)\\n\\na = 256\\nb = 256\\ncompare_addrs(a, b)\\n\\na = 257\\nb = 257\\ncompare_addrs(a, b)', 'a': 5, 'b': 'qwertyuiopasdfghjklz!', '_i10': 'a = \"qwertyuiopasdfghjklz\"\\nb = \"qwertyuiopasdfghjklz\"\\ncompare_addrs(a, b)\\n\\na = \"a\" * 4096\\nb = \"a\" * 4096\\ncompare_addrs(a, b)\\n\\na = \"a\" * 4097\\nb = \"a\" * 4097\\ncompare_addrs(a, b)\\n\\na = \"qwertyuiopasdfghjklz!\"\\nb = \"qwertyuiopasdfghjklz!\"\\ncompare_addrs(a, b)\\n\\na = \"Holberton\"\\nb = \"\".join([\"H\", \"o\", \"l\", \"b\", \"e\", \"r\", \"t\", \"o\", \"n\"])\\ncompare_addrs(a, b)', '_i11': 'a = sys.intern(\"qwertyuiopasdfghjklz!\")\\nb = sys.intern(\"qwertyuiopasdfghjklz!\")\\ncompare_addrs(a, b)', '_i12': 'a = \"test\"\\nprint(id(a))\\na += \"!\"\\nprint(id(a))', '_i13': 'a = [1,2,3]\\nprint(id(a))\\na[0]=0\\nprint(id(a))', '_i14': 'a = [1,2,3]\\nprint(id(a[0]))\\na[0]=0\\nprint(id(a[0]))', '_i15': 'a = (1,2)\\na[0]=0', '_i16': 'a = (0, [1,2])\\nprint(id(a))\\na[1].append(3)\\nprint(id(a))', '_i17': 'def incr(a):\\n  if type(a) == int:\\n    a += 1\\n  if type(a) == list:\\n    a.append(1)\\n\\na = 5\\nincr(a)\\nprint(a)\\na = [-1, 0]\\nincr(a)\\nprint(a)', 'incr': <function incr at 0x7f856f3904d0>, '_i18': 'list1 = [1,2,3]\\nlist2 = list1[:]\\nlist3 = list(list1)\\nlist4 = list1.copy()\\n\\ncompare_addrs(list1, list2)\\ncompare_addrs(list1, list3)\\ncompare_addrs(list1, list4)', 'list1': [1, 2, 3], 'list2': [1, 2, 3], 'list3': [1, 2, 3], 'list4': [1, 2, 3], '_i19': 'a = 5\\ndir(a)', '_19': ['__abs__', '__add__', '__and__', '__bool__', '__ceil__', '__class__', '__delattr__', '__dir__', '__divmod__', '__doc__', '__eq__', '__float__', '__floor__', '__floordiv__', '__format__', '__ge__', '__getattribute__', '__getnewargs__', '__gt__', '__hash__', '__index__', '__init__', '__init_subclass__', '__int__', '__invert__', '__le__', '__lshift__', '__lt__', '__mod__', '__mul__', '__ne__', '__neg__', '__new__', '__or__', '__pos__', '__pow__', '__radd__', '__rand__', '__rdivmod__', '__reduce__', '__reduce_ex__', '__repr__', '__rfloordiv__', '__rlshift__', '__rmod__', '__rmul__', '__ror__', '__round__', '__rpow__', '__rrshift__', '__rshift__', '__rsub__', '__rtruediv__', '__rxor__', '__setattr__', '__sizeof__', '__str__', '__sub__', '__subclasshook__', '__truediv__', '__trunc__', '__xor__', 'bit_length', 'conjugate', 'denominator', 'from_bytes', 'imag', 'numerator', 'real', 'to_bytes'], '_i20': 'a.__dict__', '_i21': 'class MyClass:\\n  integer = 0\\n\\n  def __init__(self):\\n    self.string = \"my class\"', 'MyClass': <class '__main__.MyClass'>, '_i22': 'c = MyClass()\\nprint(c.integer, c.string)\\nc.__dict__', 'c': <__main__.MyClass object at 0x7f856741e110>, '_22': {'string': 'my class'}, '_i23': 'class MyClass:\\n  integer = 0\\n\\n  def __init__(self):\\n    self.string = \"my class\"\\n\\n  @staticmethod\\n  def static_method():\\n    print(\"i\\'m stuck\")\\n\\n  @classmethod\\n  def class_method(cls):\\n    print(\"our integer:\", cls.integer)', '_i24': 'c1 = MyClass()\\nc2 = MyClass()\\nMyClass.static_method()\\nMyClass.class_method()', 'c1': <__main__.MyClass object at 0x7f8575372110>, 'c2': <__main__.MyClass object at 0x7f8569c99350>, '_i25': 'def test():\\n  test_x = 1\\n  print(test_x)\\n\\ntest()\\nprint(test_x)', 'test': <function test at 0x7f85673ef3b0>, '_i26': 'test_x = 0', 'test_x': 0, '_i27': 'def test():\\n  print(test_x)\\n  \\ntest()\\nprint(test_x)', '_i28': 'test_y = 0\\n\\ndef test():\\n    global test_y\\n    test_y += 1\\n\\nprint(test_y)\\ntest()\\nprint(test_y)', 'test_y': 1, '_i29': 'def test():\\n  test_z = 0\\n  def test_2():\\n    test_z\\n    test_z += 1\\n  test_2()\\n  print(test_z)\\n\\ntest()', '_i30': 'def test():\\n  test_z = 0\\n  def test_2():\\n    # nonlocal test_z\\n    test_z += 1\\n  test_2()\\n  print(test_z)\\n\\ntest()', '_i31': 'def test():\\n  test_z = 0\\n  def test_2():\\n    nonlocal test_z\\n    test_z += 1\\n  test_2()\\n  print(test_z)\\n\\ntest()', '_i32': 'def test(a):\\n  test_w = 2\\n  def test_2():\\n    return a + test_w\\n  return test_2()\\n\\ntest(5)', '_32': 7, '_i33': 'def test(a):\\n  test_w = 2\\n  def test_2():\\n    test_w += a\\n    return test_w\\n  return test_2()\\n\\ntest(5)', '_i34': 'def test_multi(a):\\n    def test_multi_internal(b):\\n        return b*a\\n    return test_multi_internal\\n    \\n\\ntest_multi_5 = test_multi(5)\\nprint(test_multi_5(9))', 'test_multi': <function test_multi at 0x7f85673d6290>, 'test_multi_5': <function test_multi.<locals>.test_multi_internal at 0x7f85673d6560>, '_i35': 'int = 0\\n\\ndef test():\\n  int = 1\\n  def test_2():\\n    int = 2\\n    print(int)\\n  test_2()\\n\\ntest()', 'int': 0, '_i36': 'int = 0\\n\\ndef test():\\n  int = 1\\n  def test_2():\\n    # int = 2\\n    print(int)\\n  test_2()\\n\\ntest()', '_i37': 'int = 0\\n\\ndef test():\\n  # int = 1\\n  def test_2():\\n    # int = 2\\n    print(int)\\n  test_2()\\n\\ntest()', '_i38': '# int = 0\\n\\ndef test():\\n  # int = 1\\n  def test_2():\\n    # int = 2\\n    print(int)\\n  test_2()\\n\\ntest()', '_i39': '# int = 0\\n\\ndef test():\\n  # int = 1\\n  def test_2():\\n    # int = 2\\n    print(str)\\n  test_2()\\n\\ntest()', '_i40': 'def test():\\n  print(locals())\\n  test_list = 0\\n  print(locals())\\n\\n  print(globals())\\n\\ntest()'}\n"
          ]
        }
      ]
    },
    {
      "cell_type": "code",
      "source": [
        "class TextPiece:\n",
        "  def __init__(self, name, author, text):\n",
        "    self.name = name\n",
        "    self._author = author\n",
        "    self.__text = text\n",
        "  \n",
        "  def get_text_length(self):\n",
        "    return len(self.__text)\n",
        "\n",
        "t = TextPiece(\"\",\"\",\"\")\n",
        "t.name"
      ],
      "metadata": {
        "colab": {
          "base_uri": "https://localhost:8080/",
          "height": 35
        },
        "id": "qDfxPzzTEIPu",
        "outputId": "712fbe2d-2af7-4845-df9b-b4b413711712"
      },
      "execution_count": 47,
      "outputs": [
        {
          "output_type": "execute_result",
          "data": {
            "text/plain": [
              "''"
            ],
            "application/vnd.google.colaboratory.intrinsic+json": {
              "type": "string"
            }
          },
          "metadata": {},
          "execution_count": 47
        }
      ]
    },
    {
      "cell_type": "markdown",
      "metadata": {
        "id": "5MG88GmT2Dyg"
      },
      "source": [
        "# Работа с памятью"
      ]
    },
    {
      "cell_type": "markdown",
      "metadata": {
        "id": "swMtJPYj2gUt"
      },
      "source": [
        "## Счетчик ссылок"
      ]
    },
    {
      "cell_type": "code",
      "metadata": {
        "id": "PHbt2Krn15z-",
        "colab": {
          "base_uri": "https://localhost:8080/"
        },
        "outputId": "e8901bb6-2e08-48bd-a7a9-dcdf1d417123"
      },
      "source": [
        "garbage_list = [\"g\", \"a\", \"r\", \"b\", \"a\", \"g\", \"e\"]\n",
        "print(sys.getrefcount(garbage_list)) # создает референс\n",
        "garbage_list2 = garbage_list\n",
        "print(sys.getrefcount(garbage_list))"
      ],
      "execution_count": 41,
      "outputs": [
        {
          "output_type": "stream",
          "name": "stdout",
          "text": [
            "2\n",
            "3\n"
          ]
        }
      ]
    },
    {
      "cell_type": "markdown",
      "metadata": {
        "id": "XtVJVkxU2ijs"
      },
      "source": [
        "## GC"
      ]
    },
    {
      "cell_type": "code",
      "source": [
        "def my_func():\n",
        "  a = 500000\n",
        "  print(a)\n",
        "\n",
        "b = 10000000000\n",
        "my_func()\n",
        "c = 500000"
      ],
      "metadata": {
        "id": "pzzQwvxtF0RD"
      },
      "execution_count": null,
      "outputs": []
    },
    {
      "cell_type": "code",
      "metadata": {
        "id": "zRW7Sf9R2pjW"
      },
      "source": [
        "gc.get_objects() # список всех, за кем следит"
      ],
      "execution_count": null,
      "outputs": []
    },
    {
      "cell_type": "code",
      "metadata": {
        "id": "gbSzPfXO2lHM"
      },
      "source": [
        "gc.collect() # вызов сборщика мусорма"
      ],
      "execution_count": null,
      "outputs": []
    },
    {
      "cell_type": "code",
      "metadata": {
        "id": "CJ5SMC_F2y5-"
      },
      "source": [
        "gc.get_stats() # статистика сбора: 3 поколения, по каждому - сколько раз собирали, сколько собрали, сколько поместили в мусор"
      ],
      "execution_count": null,
      "outputs": []
    },
    {
      "cell_type": "code",
      "metadata": {
        "id": "mUepOPVg24f7"
      },
      "source": [
        "gc.disable() # отключение и включение автоматической сборки\n",
        "gc.enable()\n",
        "gc.get_threshold() # пороговые значения того, сколько раз надо проверить предыдущее поколение, чтобы проверить следующее\n",
        "gc.set_threshold()"
      ],
      "execution_count": null,
      "outputs": []
    },
    {
      "cell_type": "code",
      "metadata": {
        "id": "8ULqxFYb4DMs"
      },
      "source": [
        "print(gc.get_referents(garbage_list)) # на кого мы ссылаемся\n",
        "print(gc.get_referents(garbage_list2))\n",
        "print(gc.get_referents(c1))"
      ],
      "execution_count": null,
      "outputs": []
    },
    {
      "cell_type": "code",
      "metadata": {
        "id": "HJrFycNp4mV6"
      },
      "source": [
        "garbage_integer = 1\n",
        "print(gc.is_tracked(garbage_integer))\n",
        "garbage_tuple = (0, 1)\n",
        "print(gc.is_tracked(garbage_tuple))\n",
        "garbage_dict = {1:1, 2:2}\n",
        "print(gc.is_tracked(garbage_dict))\n",
        "garbage_dict_2 = {1:[1], 2:[2]}\n",
        "print(gc.is_tracked(garbage_dict_2))"
      ],
      "execution_count": null,
      "outputs": []
    },
    {
      "cell_type": "markdown",
      "metadata": {
        "id": "fbTQqKFQ20bm"
      },
      "source": [
        "# Мини домашка"
      ]
    },
    {
      "cell_type": "markdown",
      "metadata": {
        "id": "xfnwSXKY43oY"
      },
      "source": [
        "## Задание 1"
      ]
    },
    {
      "cell_type": "markdown",
      "metadata": {
        "id": "ywhOqhNQ46Pk"
      },
      "source": [
        "Может ли быть такое, что is вернет True, а == вернет False?"
      ]
    },
    {
      "cell_type": "markdown",
      "metadata": {
        "id": "36AREef8225-"
      },
      "source": [
        "## Задание 2"
      ]
    },
    {
      "cell_type": "markdown",
      "metadata": {
        "id": "8sIOdOZm3Ria"
      },
      "source": [
        "Как мы уже смотрели, для каких-то данных есть interned objects, для кого-то их нет"
      ]
    },
    {
      "cell_type": "code",
      "metadata": {
        "id": "-Y6ouVc-26IQ"
      },
      "source": [
        "def compare_addrs(a, b):\n",
        "  print(a is b)\n",
        "\n",
        "a = -6\n",
        "b = -6\n",
        "compare_addrs(a, b)\n",
        "\n",
        "a = \"bad string\"\n",
        "b = \"bad string\"\n",
        "compare_addrs(a, b)"
      ],
      "execution_count": null,
      "outputs": []
    },
    {
      "cell_type": "markdown",
      "metadata": {
        "id": "pXl0Rd6g4WRR"
      },
      "source": [
        "Почему же происхоидт такое?"
      ]
    },
    {
      "cell_type": "code",
      "metadata": {
        "id": "yR9aRF5b3ZFu"
      },
      "source": [
        "bad_vals = [-6, \"bad string\"]\n",
        "for val in bad_vals:\n",
        "  a = val\n",
        "  b = val\n",
        "  compare_addrs(a, b)\n",
        "\n",
        "bad_vals = [-6, \"bad string\"]\n",
        "for i in range(0, len(bad_vals)):\n",
        "  a = bad_vals[i]\n",
        "  b = bad_vals[i]\n",
        "  compare_addrs(a, b)"
      ],
      "execution_count": null,
      "outputs": []
    },
    {
      "cell_type": "markdown",
      "metadata": {
        "id": "8uVSqjrI4aDg"
      },
      "source": [
        "## Задание 3"
      ]
    },
    {
      "cell_type": "markdown",
      "metadata": {
        "id": "PaZWeO-c4aJd"
      },
      "source": [
        "Стоит быть осторожными с изменяемыми типами данных"
      ]
    },
    {
      "cell_type": "markdown",
      "metadata": {
        "id": "yL1cdsxr6w-n"
      },
      "source": [
        "Почему словили ошибку?"
      ]
    },
    {
      "cell_type": "code",
      "metadata": {
        "id": "Q0811xKD5fuV"
      },
      "source": [
        "array_to_cut = [1,1,2,3,4,3,3,5]\n",
        "for i in range(0,len(array_to_cut)):\n",
        "  if array_to_cut[i] == 3:\n",
        "    array_to_cut.pop(i)\n",
        "print(array_to_cut)"
      ],
      "execution_count": null,
      "outputs": []
    },
    {
      "cell_type": "markdown",
      "metadata": {
        "id": "xXZVks6W640h"
      },
      "source": [
        "Почему оно сработало так?"
      ]
    },
    {
      "cell_type": "code",
      "metadata": {
        "id": "RtZHLFvN60N1"
      },
      "source": [
        "array_to_change = [1,2,3,4,5]\n",
        "for i in range(0,len(array_to_change)):\n",
        "  if array_to_change[i] == 3:\n",
        "    array_to_change[i+1] -=1\n",
        "\n",
        "print(array_to_change)"
      ],
      "execution_count": null,
      "outputs": []
    }
  ]
}