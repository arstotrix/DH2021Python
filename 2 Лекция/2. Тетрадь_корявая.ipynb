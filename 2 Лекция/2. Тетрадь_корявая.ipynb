{
  "nbformat": 4,
  "nbformat_minor": 0,
  "metadata": {
    "colab": {
      "provenance": []
    },
    "kernelspec": {
      "name": "python3",
      "display_name": "Python 3"
    },
    "language_info": {
      "name": "python"
    }
  },
  "cells": [
    {
      "cell_type": "code",
      "metadata": {
        "id": "jpe4ovD60CFs"
      },
      "source": [
        "import types\n",
        "import abc\n",
        "import math\n",
        "import time"
      ],
      "execution_count": 1,
      "outputs": []
    },
    {
      "cell_type": "markdown",
      "metadata": {
        "id": "pti6nSnSi0u1"
      },
      "source": [
        "# ООП"
      ]
    },
    {
      "cell_type": "markdown",
      "metadata": {
        "id": "IRbAesBui3zi"
      },
      "source": [
        "## Определение"
      ]
    },
    {
      "cell_type": "markdown",
      "metadata": {
        "id": "qWfXmVd2i6OK"
      },
      "source": [
        "Часто говорят, что ООП это три принципа:\n",
        "- инкапсуляция\n",
        "- полиморфизм\n",
        "- наследование\n",
        "\n",
        "На самом деле, это не совсем так. Если обратиться к словам Алана Кэя (http://userpage.fu-berlin.de/~ram/pub/pub_jf47ht81Ht/doc_kay_oop_en), можно обратить внимание, что он, отвечая на вопрос о том, что же такое ООП, отвечал, что \"OOP to me means only messaging, local retention and protection and hiding of state-process, and extreme late-binding of all things.\"  "
      ]
    },
    {
      "cell_type": "markdown",
      "metadata": {
        "id": "GYslrn-8kROb"
      },
      "source": [
        "Разберем это высказывание.\n",
        "- messaging - мы присылаем какие-либо данные объекту, а он решает, как на них ответить\n",
        "- local retention - поля и методы класса недоступны извне\n",
        "- extreme late-binding - связывание происходит в рантайме\n"
      ]
    },
    {
      "cell_type": "markdown",
      "metadata": {
        "id": "OMzI8SqLlCx_"
      },
      "source": [
        "Конечно, можно сказать, что изначальная задумка эволюционировала и изменилась; тем не менее, стоит понимать, что есть ООП языки, которые могут не подчиняться этим самым \"трем принципам\""
      ]
    },
    {
      "cell_type": "markdown",
      "metadata": {
        "id": "lWKOi1hBmLws"
      },
      "source": [
        "## Наш базовый класс"
      ]
    },
    {
      "cell_type": "code",
      "metadata": {
        "id": "rKf-zGceoKzQ"
      },
      "source": [
        "class Point():\n",
        "  dummy = 0\n",
        "  def __init__(self, x, y):\n",
        "    self.x = x\n",
        "    self.y = y\n",
        "    self.sum = x + y\n",
        "    self.test_method()\n",
        "\n",
        "\n",
        "  def test_method(self):\n",
        "    print(self.x)\n",
        "\n",
        "  def test_x(self, a):\n",
        "    return self.x + a\n",
        "\n",
        "  @staticmethod\n",
        "  def test_static():\n",
        "    return \"test\"\n",
        "\n",
        "  @classmethod\n",
        "  def test_class(cls):\n",
        "    return cls.dummy"
      ],
      "execution_count": 7,
      "outputs": []
    },
    {
      "cell_type": "code",
      "source": [],
      "metadata": {
        "id": "7jUAIWWVMz7k"
      },
      "execution_count": null,
      "outputs": []
    },
    {
      "cell_type": "code",
      "source": [
        "p = Point(1,1) #__init__(Point_ex, 1, 1)\n",
        "a = 10\n",
        "print(p.test_x(a)) #test_x(p, a)\n",
        "print(Point.test_class()) #test_class(Point)\n",
        "print(p.test_static())"
      ],
      "metadata": {
        "colab": {
          "base_uri": "https://localhost:8080/"
        },
        "id": "_V6F58j_ouJY",
        "outputId": "b9fdedf8-ce94-40d0-b52c-70d241165a0e"
      },
      "execution_count": 8,
      "outputs": [
        {
          "output_type": "stream",
          "name": "stdout",
          "text": [
            "1\n",
            "11\n",
            "0\n",
            "test\n"
          ]
        }
      ]
    },
    {
      "cell_type": "code",
      "source": [
        "class TextRUPiece():\n",
        "  def __init__(self, text, author, date):\n",
        "    self.__text = text\n",
        "    self.__author = author\n",
        "    self.__date = date\n",
        "\n",
        "  def get_author(self):\n",
        "    return self.__author\n",
        "\n",
        "  def analyze_text(self):\n",
        "    # analyze russian text\n",
        "    pass\n",
        "\n",
        "  @staticmethod\n",
        "  def get_language():\n",
        "    return \"RU\"\n",
        "\n",
        "class TextENPiece():\n",
        "  def __init__(self, text, author, date):\n",
        "    self.__text = text\n",
        "    self.__author = author\n",
        "    self.__date = date\n",
        "\n",
        "  def get_author(self):\n",
        "    return self.__author\n",
        "\n",
        "  def analyze_text(self):\n",
        "    # analyze english text\n",
        "    pass\n",
        "\n",
        "  @staticmethod\n",
        "  def get_language():\n",
        "    return \"EN\"\n",
        "\n",
        "piece = TextENPiece(\"text\", \"author\", \"date\")\n",
        "# ...\n",
        "piece.get_language()"
      ],
      "metadata": {
        "id": "3Zr1HAxrpxZw"
      },
      "execution_count": null,
      "outputs": []
    },
    {
      "cell_type": "code",
      "metadata": {
        "id": "jyqqzZzYu03F"
      },
      "source": [
        "def delete_doubles(words):\n",
        "  # deleting doubles\n",
        "  return words\n",
        "\n",
        "class Morphology():\n",
        "  def __init__(self, words):\n",
        "    self.__words = delete_doubles(words)\n",
        "\n",
        "  def get_words(self):\n",
        "    count = len(self.__words)\n",
        "    return self.__words, count\n",
        "\n",
        "class Test_Money():\n",
        "  def __init__(self, sum):\n",
        "    self.__sum = sum\n",
        "\n",
        "  def get_sum(self):\n",
        "    return self.__sum\n",
        "\n",
        "class Money():\n",
        "  def __init__(self, sum) # 100.12\n",
        "    self.__rubles = int(sum / 100) # 100\n",
        "    self.__kopejkas = int((sum - self.__rubles)*100) # 12\n",
        "    self.__send_to_my_server()\n",
        "\n",
        "  def __send_to_my_server(self):\n",
        "    # отправка данных о поступлении новой суммы на сервер\n",
        "    print(\"got new money!\")\n",
        "\n",
        "  def get(self):\n",
        "    return self.__rubles + self.__kopejkas / 100\n",
        "\n",
        "# 0 - 0\n",
        "# 1 - 1\n",
        "# 2 - 10 (2^1 * 1 + 2^0 * 0)\n",
        "# 2^7 * 0/1 + 2^6 * 0/1 + .... + 2^0 * 0/1 (xxxxxxxx) x = {0,1}\n",
        "# max = 2^8-1 = 255\n",
        "\n",
        "# 2^-1 = 1/2\n",
        "# 2.5 = 2^1 + 2^0*0 + 2^-1*1\n",
        "\n",
        "# 0.33 = 2^-1*0 + 2^-2*1 + 2^-3*0......\n",
        "# 0.25 + 0.25/4 = 0.25 + 0.125/2 = 0.25 + 0.0625 = 0.3125\n",
        "\n",
        "# 100 = 1 * 2^6 + 1 * 2^5 + 0 * 2^4 + 0 * 2 ^ 3 + 1 * 2 ^ 2 + 1 * 2 ^ 1 + 0 * 2 ^ 0 # 1100110\n",
        "# 0.25 = 0 * 2 ^ -1 + 1 * 2 ^ -2 + 0 * ..... # 010000000000000\n",
        "# 0.33 = 0 * 2 ^ -1 + 1 * 2 ^ -2 + 0 * 2 ^ -3 + 1 * 2 ^-4 ... # 010100000001000000000000000100000000000001000"
      ],
      "execution_count": null,
      "outputs": []
    },
    {
      "cell_type": "code",
      "metadata": {
        "id": "arYSzfF3i5i6"
      },
      "source": [
        "class MyClass():\n",
        "  field_0 = \"field 0\"\n",
        "\n",
        "  # def __new__():\n",
        "    # создает экземпляр\n",
        "    # return self\n",
        "    # pass\n",
        "  \n",
        "  # def __exit__(self):\n",
        "  #   print(\"goodbye\")\n",
        "    # ...\n",
        "\n",
        "  def __init__(self):\n",
        "    self.field_1 = \"field 1\"\n",
        "    self._field_2 = \"field 2\"\n",
        "    self.__field_3 = \"field 3\"\n",
        "  \n",
        "  def m_1(self):\n",
        "    return self.field_1\n",
        "\n",
        "  def _m_2(self):\n",
        "    print(self.__m_3())\n",
        "    return self._field_2\n",
        "  \n",
        "  def __m_3(self):\n",
        "    return self.__field_3\n",
        "\n",
        "  @staticmethod\n",
        "  def s_m():\n",
        "    return \"no field\"\n",
        "\n",
        "  def help(self):\n",
        "    return \"m_1 returns public field field_1\\_m_2 returns private field _field_2\"\n",
        "\n",
        "  @staticmethod \n",
        "  def static_help():\n",
        "    return \"m_1 returns public field field_1\\_m_2 returns private field _field_2\"\n",
        "\n",
        "  @classmethod\n",
        "  def c_m(cls):\n",
        "    return cls.field_0"
      ],
      "execution_count": 54,
      "outputs": []
    },
    {
      "cell_type": "code",
      "metadata": {
        "id": "q8d3W3NM0uav"
      },
      "source": [
        "# 0) мы создали некий класс\n",
        "# 1) мы хотим сделать экземпляр класса = класс()\n",
        "# 1.1) мы вызываем класс.__new__\n",
        "# 1.2) мы вызываем экземпляр.__init__\n",
        "# ....\n",
        "# final) мы вызываем метод экземпляр.__exit__"
      ],
      "execution_count": 14,
      "outputs": []
    },
    {
      "cell_type": "code",
      "metadata": {
        "id": "E5iFzKXsl8uV"
      },
      "source": [
        "c = MyClass()"
      ],
      "execution_count": 55,
      "outputs": []
    },
    {
      "cell_type": "code",
      "metadata": {
        "id": "uqcaMiJYzfAB",
        "colab": {
          "base_uri": "https://localhost:8080/",
          "height": 36
        },
        "outputId": "f4f37cf0-abdb-40df-ca46-546876ad1105"
      },
      "source": [
        "c.help() # help(c)"
      ],
      "execution_count": 30,
      "outputs": [
        {
          "output_type": "execute_result",
          "data": {
            "text/plain": [
              "'m_1 returns public field field_1\\\\_m_2 returns private field _field_2'"
            ],
            "application/vnd.google.colaboratory.intrinsic+json": {
              "type": "string"
            }
          },
          "metadata": {},
          "execution_count": 30
        }
      ]
    },
    {
      "cell_type": "code",
      "metadata": {
        "id": "VaVLzhlq0bgI",
        "colab": {
          "base_uri": "https://localhost:8080/",
          "height": 36
        },
        "outputId": "06d718f3-9095-4f2d-c9dc-6c659e73a1d2"
      },
      "source": [
        "c.static_help()"
      ],
      "execution_count": 19,
      "outputs": [
        {
          "output_type": "execute_result",
          "data": {
            "text/plain": [
              "'m_1 returns public field field_1\\\\_m_2 returns private field _field_2'"
            ],
            "application/vnd.google.colaboratory.intrinsic+json": {
              "type": "string"
            }
          },
          "metadata": {},
          "execution_count": 19
        }
      ]
    },
    {
      "cell_type": "code",
      "metadata": {
        "id": "m-D5IxGTz1fE"
      },
      "source": [
        "class Adder():\n",
        "  def __init__(self, initial):\n",
        "    self.initial = initial\n",
        "\n",
        "  def change_value(self):\n",
        "    self.initial += 1\n",
        "  \n",
        "  def add(self, value):\n",
        "    return self.initial + value\n",
        "\n",
        "a = Adder(10)\n",
        "a.add(4)\n",
        "print(a.initial)\n",
        "a.change_value()\n",
        "print(a.initial)\n",
        "a.__init__(5)\n",
        "print(a.initial)"
      ],
      "execution_count": null,
      "outputs": []
    },
    {
      "cell_type": "markdown",
      "metadata": {
        "id": "N2ba8y1GnzCu"
      },
      "source": [
        "### Инкапсуляция"
      ]
    },
    {
      "cell_type": "markdown",
      "metadata": {
        "id": "hSlpERQZnIDi"
      },
      "source": [
        "Публичные и приватные методы можно вызывать"
      ]
    },
    {
      "cell_type": "code",
      "metadata": {
        "id": "KQqJRZe_i0GH",
        "colab": {
          "base_uri": "https://localhost:8080/"
        },
        "outputId": "3226ab29-9bf4-4218-996c-503a0f62ca4c"
      },
      "source": [
        "print(c.m_1())\n",
        "print(c._m_2())"
      ],
      "execution_count": 41,
      "outputs": [
        {
          "output_type": "stream",
          "name": "stdout",
          "text": [
            "field 1\n",
            "field 3\n",
            "field 2\n"
          ]
        }
      ]
    },
    {
      "cell_type": "markdown",
      "metadata": {
        "id": "Ba7ize10nP89"
      },
      "source": [
        "Защищенные - нельзя(?)"
      ]
    },
    {
      "cell_type": "code",
      "metadata": {
        "id": "kGsCeBE4nG4u",
        "colab": {
          "base_uri": "https://localhost:8080/",
          "height": 168
        },
        "outputId": "4e258db2-701f-4ba2-b5f2-528de217723c"
      },
      "source": [
        "print(c.__field_3) "
      ],
      "execution_count": 56,
      "outputs": [
        {
          "output_type": "error",
          "ename": "AttributeError",
          "evalue": "ignored",
          "traceback": [
            "\u001b[0;31m---------------------------------------------------------------------------\u001b[0m",
            "\u001b[0;31mAttributeError\u001b[0m                            Traceback (most recent call last)",
            "\u001b[0;32m<ipython-input-56-a5388c806c3d>\u001b[0m in \u001b[0;36m<module>\u001b[0;34m\u001b[0m\n\u001b[0;32m----> 1\u001b[0;31m \u001b[0mprint\u001b[0m\u001b[0;34m(\u001b[0m\u001b[0mc\u001b[0m\u001b[0;34m.\u001b[0m\u001b[0m__field_3\u001b[0m\u001b[0;34m)\u001b[0m\u001b[0;34m\u001b[0m\u001b[0;34m\u001b[0m\u001b[0m\n\u001b[0m",
            "\u001b[0;31mAttributeError\u001b[0m: 'MyClass' object has no attribute '__field_3'"
          ]
        }
      ]
    },
    {
      "cell_type": "markdown",
      "metadata": {
        "id": "_j9CKNsWnjwd"
      },
      "source": [
        "С помощью __dict__ можно посмотреть все поля, с помощью __dir()__ все методы, там мы увидим кое-что интересное"
      ]
    },
    {
      "cell_type": "code",
      "metadata": {
        "id": "QiNEuKFOni7Z",
        "colab": {
          "base_uri": "https://localhost:8080/"
        },
        "outputId": "73665d8a-3427-4a81-8291-74439641c194"
      },
      "source": [
        "c.__dict__"
      ],
      "execution_count": 33,
      "outputs": [
        {
          "output_type": "execute_result",
          "data": {
            "text/plain": [
              "{'field_1': 'field 1', '_field_2': 'field 2', '_MyClass__field_3': 'field 3'}"
            ]
          },
          "metadata": {},
          "execution_count": 33
        }
      ]
    },
    {
      "cell_type": "code",
      "metadata": {
        "id": "3Sn_BiosnxHk"
      },
      "source": [
        "dir(c)"
      ],
      "execution_count": null,
      "outputs": []
    },
    {
      "cell_type": "code",
      "metadata": {
        "id": "K4_q9Ts5nbv-"
      },
      "source": [
        "print(c._MyClass__field_3)"
      ],
      "execution_count": null,
      "outputs": []
    },
    {
      "cell_type": "code",
      "metadata": {
        "id": "Ktna1T8tnek2",
        "colab": {
          "base_uri": "https://localhost:8080/"
        },
        "outputId": "0f96bf72-e678-4597-fa44-e6f993dd99a1"
      },
      "source": [
        "print(c._MyClass__m_3())"
      ],
      "execution_count": 35,
      "outputs": [
        {
          "output_type": "stream",
          "name": "stdout",
          "text": [
            "field 3\n"
          ]
        }
      ]
    },
    {
      "cell_type": "markdown",
      "metadata": {
        "id": "fXpuNs-9oAep"
      },
      "source": [
        "Статические методы"
      ]
    },
    {
      "cell_type": "code",
      "metadata": {
        "id": "4p_aF31EnF5H",
        "colab": {
          "base_uri": "https://localhost:8080/"
        },
        "outputId": "cf0e162e-a5ef-4479-c6a6-6411fd998c5c"
      },
      "source": [
        "print(c.s_m())\n",
        "print(MyClass.s_m())"
      ],
      "execution_count": 57,
      "outputs": [
        {
          "output_type": "stream",
          "name": "stdout",
          "text": [
            "no field\n",
            "no field\n"
          ]
        }
      ]
    },
    {
      "cell_type": "markdown",
      "metadata": {
        "id": "VaIlPxUhoJJp"
      },
      "source": [
        "Методы класса"
      ]
    },
    {
      "cell_type": "code",
      "metadata": {
        "id": "msKXKh8EmnY9",
        "colab": {
          "base_uri": "https://localhost:8080/"
        },
        "outputId": "7863c3e4-4a76-4299-aba4-33d90f9cc6c8"
      },
      "source": [
        "print(c.c_m())\n",
        "print(MyClass.c_m())"
      ],
      "execution_count": 58,
      "outputs": [
        {
          "output_type": "stream",
          "name": "stdout",
          "text": [
            "field 0\n",
            "field 0\n"
          ]
        }
      ]
    },
    {
      "cell_type": "markdown",
      "metadata": {
        "id": "5RPC-EZroU6K"
      },
      "source": [
        "## Полиморфизм"
      ]
    },
    {
      "cell_type": "code",
      "source": [
        "def adder(value):\n",
        "  if type(value) == int:\n",
        "    return value + 1\n",
        "  elif type(value) == list:\n",
        "    value.append(1)\n",
        "    return value"
      ],
      "metadata": {
        "id": "MSS92J471b8_"
      },
      "execution_count": 71,
      "outputs": []
    },
    {
      "cell_type": "code",
      "source": [
        "adder([1,2])"
      ],
      "metadata": {
        "colab": {
          "base_uri": "https://localhost:8080/"
        },
        "id": "8PUVzlKF1tpX",
        "outputId": "32fae658-9db0-4668-bf18-a5076a8807c4"
      },
      "execution_count": 72,
      "outputs": [
        {
          "output_type": "execute_result",
          "data": {
            "text/plain": [
              "[1, 2, 1]"
            ]
          },
          "metadata": {},
          "execution_count": 72
        }
      ]
    },
    {
      "cell_type": "code",
      "source": [
        "# if a == b:\n",
        "def compare_values(a,b):\n",
        "  if type(a) == str and type(b) == str:\n",
        "    return compare_strings(a, b)\n",
        "  if type(a) == int and type(b) == int:\n",
        "    return compare_ints(a, b)"
      ],
      "metadata": {
        "id": "ocWaleLu3m91"
      },
      "execution_count": null,
      "outputs": []
    },
    {
      "cell_type": "code",
      "metadata": {
        "id": "QvWULbSgoyjf"
      },
      "source": [
        "class Point():\n",
        "  def __init__(self, x, y):\n",
        "    self.x = x\n",
        "    self.y = y\n",
        "\n",
        "  def __eq__(self, other):\n",
        "    return isinstance(other, Point) and self.x == other.x and self.y == other.y\n",
        "\n",
        "class Triangle():\n",
        "  def __init__(self, p1, p2, p3):\n",
        "    self.point1 = p1\n",
        "    self.point2 = p2\n",
        "    self.point3 = p3\n",
        "  \n",
        "  def __eq__(self, other):\n",
        "    return isinstance(other, Triangle) and self.point1 == other.point1 and self.point2 == other.point2 and self.point3 == other.point3"
      ],
      "execution_count": 74,
      "outputs": []
    },
    {
      "cell_type": "code",
      "source": [
        "# 2 == 2 ?\n",
        "# point(1,2) == point(1,2) ?"
      ],
      "metadata": {
        "id": "VR-QSK0G3VcT"
      },
      "execution_count": null,
      "outputs": []
    },
    {
      "cell_type": "code",
      "metadata": {
        "id": "Hqs69koPpXrA",
        "colab": {
          "base_uri": "https://localhost:8080/"
        },
        "outputId": "f6321a33-7ce2-4a67-8fe0-4ab46390db1e"
      },
      "source": [
        "p1 = Point(1,2)\n",
        "p1_2 = Point(1,2)\n",
        "p2 = Point(2,3)\n",
        "p3 = Point(3,4)\n",
        "print(p1 == 2)\n",
        "print(p1 == p1_2)\n",
        "print(p1 == p2)"
      ],
      "execution_count": 75,
      "outputs": [
        {
          "output_type": "stream",
          "name": "stdout",
          "text": [
            "False\n",
            "True\n",
            "False\n"
          ]
        }
      ]
    },
    {
      "cell_type": "code",
      "metadata": {
        "id": "CSdxoiY_qToz",
        "colab": {
          "base_uri": "https://localhost:8080/"
        },
        "outputId": "15483e64-cef9-4637-a390-e6ad52d907bf"
      },
      "source": [
        "t1 = Triangle(1,2,3)\n",
        "t1_2 = Triangle(1,2,3)\n",
        "t2 = Triangle(2,3,4)\n",
        "print(t1 == t1_2)\n",
        "print(t1 == t2)"
      ],
      "execution_count": 76,
      "outputs": [
        {
          "output_type": "stream",
          "name": "stdout",
          "text": [
            "True\n",
            "False\n"
          ]
        }
      ]
    },
    {
      "cell_type": "code",
      "metadata": {
        "id": "9-hgUsgZqwS3",
        "colab": {
          "base_uri": "https://localhost:8080/"
        },
        "outputId": "ebfee850-5cc8-4e69-b897-1b2822dcb090"
      },
      "source": [
        "tp1 = Triangle(p1,p2,p3)\n",
        "tp1_2 = Triangle(p1,p2,p3)\n",
        "tp2 = Triangle(p2,p3,p2)\n",
        "print(tp1 == tp1_2)\n",
        "print(tp1 == tp2)"
      ],
      "execution_count": 77,
      "outputs": [
        {
          "output_type": "stream",
          "name": "stdout",
          "text": [
            "True\n",
            "False\n"
          ]
        }
      ]
    },
    {
      "cell_type": "markdown",
      "metadata": {
        "id": "qEf4jM7IoVAL"
      },
      "source": [
        "## Наследование"
      ]
    },
    {
      "cell_type": "code",
      "metadata": {
        "id": "HIyQZlgjmwck"
      },
      "source": [
        "class NewsSource(object):\n",
        "  val = 0\n",
        "  def __init__(self, url):\n",
        "    self.url = url\n",
        "\n",
        "  def get_data(self):\n",
        "    # http request to url\n",
        "    print(\"getting data from\", self.url)\n",
        "\n",
        "class WashingtonPost(NewsSource):\n",
        "  pass\n",
        "\n",
        "class VKontakte(NewsSource):\n",
        "  def __init__(self, login, password):\n",
        "    self.login = login\n",
        "    self.password = password\n",
        "\n",
        "  def get_data(self):\n",
        "    print(\"logging in personal account using credentials\")\n",
        "\n",
        "class Twitter(NewsSource):\n",
        "  def solve_captcha(self):\n",
        "    print(\"solving captcha\")\n",
        "\n",
        "  def get_data_super(self):\n",
        "    super().get_data()\n",
        "\n",
        "  def get_data(self):\n",
        "    self.solve_captcha()\n",
        "    print(\"getting data from twitter\")"
      ],
      "execution_count": 80,
      "outputs": []
    },
    {
      "cell_type": "code",
      "source": [
        "#  A\n",
        "# /\\\n",
        "# B C\n",
        "# |/\n",
        "# D"
      ],
      "metadata": {
        "id": "hRrGv9VF5Uh3"
      },
      "execution_count": null,
      "outputs": []
    },
    {
      "cell_type": "code",
      "metadata": {
        "id": "X1g1OtI56ctf",
        "colab": {
          "base_uri": "https://localhost:8080/"
        },
        "outputId": "89de6095-8e0c-4fa9-dd8b-26b543ee31f3"
      },
      "source": [
        "sources = [NewsSource(\"izvestia\"), NewsSource(\"thetimes\"), VKontakte(\"login\", \"password\"), Twitter(\"twitter.com\")]\n",
        "for s in sources:\n",
        "  # if isinstance(s, NewsSource) ...\n",
        "  s.get_data()"
      ],
      "execution_count": 81,
      "outputs": [
        {
          "output_type": "stream",
          "name": "stdout",
          "text": [
            "getting data from izvestia\n",
            "getting data from thetimes\n",
            "logging in personal account using credentials\n",
            "solving captcha\n",
            "getting data from twitter\n"
          ]
        }
      ]
    },
    {
      "cell_type": "code",
      "metadata": {
        "id": "K5vWef2ntoIo",
        "colab": {
          "base_uri": "https://localhost:8080/"
        },
        "outputId": "a3a415dc-8709-4c3d-e620-3a722521a892"
      },
      "source": [
        "source = NewsSource(\"url 1\")\n",
        "source_2 = NewsSource(\"url 2\")\n",
        "source.get_data()\n",
        "source_2.get_data()"
      ],
      "execution_count": 82,
      "outputs": [
        {
          "output_type": "stream",
          "name": "stdout",
          "text": [
            "getting data from url 1\n",
            "getting data from url 2\n"
          ]
        }
      ]
    },
    {
      "cell_type": "code",
      "metadata": {
        "id": "ULWzrzr7zVjm",
        "colab": {
          "base_uri": "https://localhost:8080/"
        },
        "outputId": "b2896854-7fa7-4e81-97e3-5774d8337b9a"
      },
      "source": [
        "wp = WashingtonPost(\"http://wp.com\")\n",
        "wp.get_data()"
      ],
      "execution_count": 83,
      "outputs": [
        {
          "output_type": "stream",
          "name": "stdout",
          "text": [
            "getting data from http://wp.com\n"
          ]
        }
      ]
    },
    {
      "cell_type": "code",
      "metadata": {
        "id": "Y8PSbNWwt0-H",
        "colab": {
          "base_uri": "https://localhost:8080/"
        },
        "outputId": "bc38ff18-5df4-441e-fa5d-0b24534853c2"
      },
      "source": [
        "vk = VKontakte(\"login\", \"password\")\n",
        "vk.get_data()"
      ],
      "execution_count": 84,
      "outputs": [
        {
          "output_type": "stream",
          "name": "stdout",
          "text": [
            "logging in personal account using credentials\n"
          ]
        }
      ]
    },
    {
      "cell_type": "markdown",
      "metadata": {
        "id": "ZtL46MMQyiLz"
      },
      "source": [
        "Т.к. мы переопределили метод __init__, поле __url__ нам уже недоступно"
      ]
    },
    {
      "cell_type": "code",
      "source": [
        "wp.__dict__"
      ],
      "metadata": {
        "colab": {
          "base_uri": "https://localhost:8080/"
        },
        "id": "I-ydq3F86dBP",
        "outputId": "de716dc5-6b6b-4048-fb80-8d733c4f895e"
      },
      "execution_count": 86,
      "outputs": [
        {
          "output_type": "execute_result",
          "data": {
            "text/plain": [
              "{'url': 'http://wp.com'}"
            ]
          },
          "metadata": {},
          "execution_count": 86
        }
      ]
    },
    {
      "cell_type": "code",
      "metadata": {
        "id": "Kazq8kUqyRXJ",
        "colab": {
          "base_uri": "https://localhost:8080/"
        },
        "outputId": "880b0dac-6352-4b73-f32c-0ae7cca96ebf"
      },
      "source": [
        "print(vk.__dict__)"
      ],
      "execution_count": 85,
      "outputs": [
        {
          "output_type": "stream",
          "name": "stdout",
          "text": [
            "{'login': 'login', 'password': 'password'}\n"
          ]
        }
      ]
    },
    {
      "cell_type": "code",
      "metadata": {
        "id": "s42LGAYmyu3e",
        "colab": {
          "base_uri": "https://localhost:8080/"
        },
        "outputId": "5bd8c844-d0be-4d31-b3d5-76245c4efc8d"
      },
      "source": [
        "tw = Twitter(\"http://twitter.com\")\n",
        "tw.get_data()"
      ],
      "execution_count": 88,
      "outputs": [
        {
          "output_type": "stream",
          "name": "stdout",
          "text": [
            "solving captcha\n",
            "getting data from twitter\n"
          ]
        }
      ]
    },
    {
      "cell_type": "markdown",
      "metadata": {
        "id": "wxs-omZo4qK5"
      },
      "source": [
        "Что, если мы хотим вызвать метод родительского класса?"
      ]
    },
    {
      "cell_type": "code",
      "metadata": {
        "id": "v7srrJuI4uD8",
        "colab": {
          "base_uri": "https://localhost:8080/"
        },
        "outputId": "42ad8f00-7126-4cfd-db2e-3de47ca38e0c"
      },
      "source": [
        "tw.get_data_super()"
      ],
      "execution_count": 89,
      "outputs": [
        {
          "output_type": "stream",
          "name": "stdout",
          "text": [
            "getting data from http://twitter.com\n"
          ]
        }
      ]
    },
    {
      "cell_type": "markdown",
      "metadata": {
        "id": "agA5qNtp4-P8"
      },
      "source": [
        "При этом мы можем искать во всех классах-родственниках (только вверх, правда). Чтобы узнать, в ком мы можем искать, можно вызвать метод __mro__:"
      ]
    },
    {
      "cell_type": "code",
      "metadata": {
        "id": "kwhtx24g5KyR",
        "colab": {
          "base_uri": "https://localhost:8080/"
        },
        "outputId": "df078b7b-81a0-4e7d-8b2b-824662eb6062"
      },
      "source": [
        "Twitter.mro()"
      ],
      "execution_count": 90,
      "outputs": [
        {
          "output_type": "execute_result",
          "data": {
            "text/plain": [
              "[__main__.Twitter, __main__.NewsSource, object]"
            ]
          },
          "metadata": {},
          "execution_count": 90
        }
      ]
    },
    {
      "cell_type": "code",
      "source": [
        "# Twitter.__init__(\"url\")\n",
        "# 1) ?? Twitter.__init__\n",
        "# 2) ?? NewsSource.__init__ +\n",
        "\n",
        "# Twitter.__eq__(tw)\n",
        "# 1) ?? Twitter.__eq__\n",
        "# 2) ?? NewsSource.__eq__ \n",
        "# 3) ?? object.__eq__ +"
      ],
      "metadata": {
        "id": "4_vUyz5d9YBU"
      },
      "execution_count": null,
      "outputs": []
    },
    {
      "cell_type": "markdown",
      "metadata": {
        "id": "lBTu-ZfIz4aE"
      },
      "source": [
        "Что, если мы хотим привязать какую-нибудь функцию к экземпляру классу?"
      ]
    },
    {
      "cell_type": "code",
      "metadata": {
        "id": "axG8IPkpzj8E",
        "colab": {
          "base_uri": "https://localhost:8080/",
          "height": 203
        },
        "outputId": "afcfbcd6-00ff-45a2-ce2a-c3ad1ccdeb5b"
      },
      "source": [
        "def wp_specific(self):\n",
        "  print(\"this is washington post\")\n",
        "\n",
        "wp.get_data = wp_specific\n",
        "wp.get_data()"
      ],
      "execution_count": 91,
      "outputs": [
        {
          "output_type": "error",
          "ename": "TypeError",
          "evalue": "ignored",
          "traceback": [
            "\u001b[0;31m---------------------------------------------------------------------------\u001b[0m",
            "\u001b[0;31mTypeError\u001b[0m                                 Traceback (most recent call last)",
            "\u001b[0;32m<ipython-input-91-16d14899f6d8>\u001b[0m in \u001b[0;36m<module>\u001b[0;34m\u001b[0m\n\u001b[1;32m      3\u001b[0m \u001b[0;34m\u001b[0m\u001b[0m\n\u001b[1;32m      4\u001b[0m \u001b[0mwp\u001b[0m\u001b[0;34m.\u001b[0m\u001b[0mget_data\u001b[0m \u001b[0;34m=\u001b[0m \u001b[0mwp_specific\u001b[0m\u001b[0;34m\u001b[0m\u001b[0;34m\u001b[0m\u001b[0m\n\u001b[0;32m----> 5\u001b[0;31m \u001b[0mwp\u001b[0m\u001b[0;34m.\u001b[0m\u001b[0mget_data\u001b[0m\u001b[0;34m(\u001b[0m\u001b[0;34m)\u001b[0m\u001b[0;34m\u001b[0m\u001b[0;34m\u001b[0m\u001b[0m\n\u001b[0m",
            "\u001b[0;31mTypeError\u001b[0m: wp_specific() missing 1 required positional argument: 'self'"
          ]
        }
      ]
    },
    {
      "cell_type": "code",
      "metadata": {
        "id": "84SWG9HK0duV",
        "colab": {
          "base_uri": "https://localhost:8080/"
        },
        "outputId": "82ea88bf-434a-44e1-aeda-93a72471e4d3"
      },
      "source": [
        "wp.get_data=types.MethodType(wp_specific, wp)\n",
        "wp.get_data()"
      ],
      "execution_count": 92,
      "outputs": [
        {
          "output_type": "stream",
          "name": "stdout",
          "text": [
            "this is washington post\n"
          ]
        }
      ]
    },
    {
      "cell_type": "markdown",
      "metadata": {
        "id": "4irKlFVz2Jyo"
      },
      "source": [
        "А если к самому классу?"
      ]
    },
    {
      "cell_type": "code",
      "metadata": {
        "id": "BVYvMMWr0vSN",
        "colab": {
          "base_uri": "https://localhost:8080/"
        },
        "outputId": "a3b4cfc2-ddc0-4fe8-e6ec-a61ad590fd0c"
      },
      "source": [
        "def wp_class_specific(self):\n",
        "  print(\"i belong to wp\")\n",
        "\n",
        "WashingtonPost.get_data = wp_class_specific\n",
        "wp.get_data()"
      ],
      "execution_count": 93,
      "outputs": [
        {
          "output_type": "stream",
          "name": "stdout",
          "text": [
            "this is washington post\n"
          ]
        }
      ]
    },
    {
      "cell_type": "code",
      "metadata": {
        "id": "fuRgrklU1meo",
        "colab": {
          "base_uri": "https://localhost:8080/"
        },
        "outputId": "9be7951a-7ac2-4723-83c1-242266ea63a5"
      },
      "source": [
        "wp2 = WashingtonPost(\"https://wp.com\")\n",
        "wp2.get_data()"
      ],
      "execution_count": 94,
      "outputs": [
        {
          "output_type": "stream",
          "name": "stdout",
          "text": [
            "i belong to wp\n"
          ]
        }
      ]
    },
    {
      "cell_type": "markdown",
      "metadata": {
        "id": "Socjl09fZqdD"
      },
      "source": [
        "Наследоваться, кстати, можно и от нескольких классов"
      ]
    },
    {
      "cell_type": "code",
      "metadata": {
        "id": "BbHLRJPSZthn"
      },
      "source": [
        "class ParentA():\n",
        "  def a_exclusive(self):\n",
        "    print(\"i'm a exclusive\")\n",
        "\n",
        "  def common(self):\n",
        "    print(\"i'm a common\")\n",
        "\n",
        "class ParentB():\n",
        "  def b_exclusive(self):\n",
        "    print(\"i'm b exclusive\")\n",
        "  \n",
        "  def common(self):\n",
        "    print(\"i'm b common\")\n",
        "\n",
        "class ChildAB(ParentA, ParentB):\n",
        "  pass\n",
        "\n",
        "class ChildBA(ParentB, ParentA):\n",
        "  pass"
      ],
      "execution_count": 95,
      "outputs": []
    },
    {
      "cell_type": "code",
      "metadata": {
        "id": "IFtIE0Uqafn3",
        "colab": {
          "base_uri": "https://localhost:8080/"
        },
        "outputId": "f42f6fa8-6b4d-42e9-f153-fc4ce3da347a"
      },
      "source": [
        "ab = ChildAB()\n",
        "ab.common()\n",
        "ba = ChildBA()\n",
        "ba.common()"
      ],
      "execution_count": 96,
      "outputs": [
        {
          "output_type": "stream",
          "name": "stdout",
          "text": [
            "i'm a common\n",
            "i'm b common\n"
          ]
        }
      ]
    },
    {
      "cell_type": "code",
      "source": [
        "ChildAB.mro()"
      ],
      "metadata": {
        "colab": {
          "base_uri": "https://localhost:8080/"
        },
        "id": "fxxgKNOG8cdN",
        "outputId": "0170079a-0948-4307-a38d-f297402f9a3b"
      },
      "execution_count": 98,
      "outputs": [
        {
          "output_type": "execute_result",
          "data": {
            "text/plain": [
              "[__main__.ChildAB, __main__.ParentA, __main__.ParentB, object]"
            ]
          },
          "metadata": {},
          "execution_count": 98
        }
      ]
    },
    {
      "cell_type": "code",
      "source": [
        "ChildBA.mro()"
      ],
      "metadata": {
        "colab": {
          "base_uri": "https://localhost:8080/"
        },
        "id": "6nh3wz_W8jG0",
        "outputId": "3b4ebe89-1671-433a-aa24-9d0353a8ad94"
      },
      "execution_count": 99,
      "outputs": [
        {
          "output_type": "execute_result",
          "data": {
            "text/plain": [
              "[__main__.ChildBA, __main__.ParentB, __main__.ParentA, object]"
            ]
          },
          "metadata": {},
          "execution_count": 99
        }
      ]
    },
    {
      "cell_type": "code",
      "source": [
        "class TestSource(NewsSource):\n",
        "  def __init__(self):\n",
        "    self.is_test = True\n",
        "    super().__init__(\"testing rule\")\n",
        "\n",
        "t = TestSource()\n",
        "t.__dict__"
      ],
      "metadata": {
        "colab": {
          "base_uri": "https://localhost:8080/"
        },
        "id": "HIdX3OPy-HDc",
        "outputId": "a5656c1b-d263-4cf8-9500-0926170780f0"
      },
      "execution_count": 101,
      "outputs": [
        {
          "output_type": "execute_result",
          "data": {
            "text/plain": [
              "{'is_test': True, 'url': 'testing rule'}"
            ]
          },
          "metadata": {},
          "execution_count": 101
        }
      ]
    },
    {
      "cell_type": "markdown",
      "metadata": {
        "id": "jbuvyrl22qpZ"
      },
      "source": [
        "## Абстрактные классы"
      ]
    },
    {
      "cell_type": "markdown",
      "metadata": {
        "id": "vD3uBvU62uqF"
      },
      "source": [
        "Иногда нам хочется просто описать ожидаемое поведение от класса-родителя, а уже в классах-потомках это поведение реализовать. Можно, конечно, сделать так:"
      ]
    },
    {
      "cell_type": "code",
      "metadata": {
        "id": "mPIgYW5S1vhV"
      },
      "source": [
        "class Dummy():\n",
        "  def __init__(self):\n",
        "    pass\n",
        "\n",
        "  def dummy_method(self):\n",
        "    pass\n",
        "\n",
        "  def dummy_method_2(self):\n",
        "    pass\n",
        "\n",
        "class Real(Dummy):\n",
        "  pass"
      ],
      "execution_count": 102,
      "outputs": []
    },
    {
      "cell_type": "code",
      "source": [
        "d = Dummy()\n",
        "d.dummy_method()"
      ],
      "metadata": {
        "id": "Fi1ZiJg2BeZt"
      },
      "execution_count": 104,
      "outputs": []
    },
    {
      "cell_type": "markdown",
      "metadata": {
        "id": "Egy2z2ST3MLb"
      },
      "source": [
        "Но можно использовать абстрактные классы"
      ]
    },
    {
      "cell_type": "code",
      "metadata": {
        "id": "xk57QpMR3PhP"
      },
      "source": [
        "class NewsSourceV2(abc.ABC):\n",
        "  def tell_class(self):\n",
        "    print(\"i'm a news source\")\n",
        "\n",
        "  @abc.abstractmethod\n",
        "  def get_data(self):\n",
        "    pass\n",
        "\n",
        "  @abc.abstractmethod\n",
        "  def process_data(self):\n",
        "    pass"
      ],
      "execution_count": 105,
      "outputs": []
    },
    {
      "cell_type": "markdown",
      "metadata": {
        "id": "GzzW01OA3x41"
      },
      "source": [
        "Создавать экземпляры абстрактного класса нельзя"
      ]
    },
    {
      "cell_type": "code",
      "metadata": {
        "id": "b9ooj8P13xSc",
        "colab": {
          "base_uri": "https://localhost:8080/",
          "height": 168
        },
        "outputId": "1c32ce8b-07e6-4e8e-8e6e-11e9ac985cf3"
      },
      "source": [
        "s = NewsSourceV2()"
      ],
      "execution_count": 106,
      "outputs": [
        {
          "output_type": "error",
          "ename": "TypeError",
          "evalue": "ignored",
          "traceback": [
            "\u001b[0;31m---------------------------------------------------------------------------\u001b[0m",
            "\u001b[0;31mTypeError\u001b[0m                                 Traceback (most recent call last)",
            "\u001b[0;32m<ipython-input-106-704523e8ed63>\u001b[0m in \u001b[0;36m<module>\u001b[0;34m\u001b[0m\n\u001b[0;32m----> 1\u001b[0;31m \u001b[0ms\u001b[0m \u001b[0;34m=\u001b[0m \u001b[0mNewsSourceV2\u001b[0m\u001b[0;34m(\u001b[0m\u001b[0;34m)\u001b[0m\u001b[0;34m\u001b[0m\u001b[0;34m\u001b[0m\u001b[0m\n\u001b[0m",
            "\u001b[0;31mTypeError\u001b[0m: Can't instantiate abstract class NewsSourceV2 with abstract methods get_data, process_data"
          ]
        }
      ]
    },
    {
      "cell_type": "markdown",
      "metadata": {
        "id": "SR_W_xZb4GjT"
      },
      "source": [
        "Как и нельзя пытаться создать экземпляр класса-потомка, в котором мы не реализовали абстрактные методы"
      ]
    },
    {
      "cell_type": "code",
      "metadata": {
        "id": "VN9Pf80s32Kg",
        "colab": {
          "base_uri": "https://localhost:8080/",
          "height": 203
        },
        "outputId": "5e491ee2-b25a-42dd-b168-d67dde68de9f"
      },
      "source": [
        "class TwitterV2(NewsSourceV2):\n",
        "  pass\n",
        "\n",
        "tw = TwitterV2()"
      ],
      "execution_count": 107,
      "outputs": [
        {
          "output_type": "error",
          "ename": "TypeError",
          "evalue": "ignored",
          "traceback": [
            "\u001b[0;31m---------------------------------------------------------------------------\u001b[0m",
            "\u001b[0;31mTypeError\u001b[0m                                 Traceback (most recent call last)",
            "\u001b[0;32m<ipython-input-107-7fef58e4099b>\u001b[0m in \u001b[0;36m<module>\u001b[0;34m\u001b[0m\n\u001b[1;32m      2\u001b[0m   \u001b[0;32mpass\u001b[0m\u001b[0;34m\u001b[0m\u001b[0;34m\u001b[0m\u001b[0m\n\u001b[1;32m      3\u001b[0m \u001b[0;34m\u001b[0m\u001b[0m\n\u001b[0;32m----> 4\u001b[0;31m \u001b[0mtw\u001b[0m \u001b[0;34m=\u001b[0m \u001b[0mTwitterV2\u001b[0m\u001b[0;34m(\u001b[0m\u001b[0;34m)\u001b[0m\u001b[0;34m\u001b[0m\u001b[0;34m\u001b[0m\u001b[0m\n\u001b[0m",
            "\u001b[0;31mTypeError\u001b[0m: Can't instantiate abstract class TwitterV2 with abstract methods get_data, process_data"
          ]
        }
      ]
    },
    {
      "cell_type": "code",
      "metadata": {
        "id": "4ypl-CPt4DtI",
        "colab": {
          "base_uri": "https://localhost:8080/"
        },
        "outputId": "092e44df-5a4a-43f6-d123-de8f56fd1f25"
      },
      "source": [
        "class TwitterV2(NewsSourceV2):\n",
        "  def get_data(self):\n",
        "    print(\"getting data from twitter\")\n",
        "    \n",
        "  def process_data(self):\n",
        "    print(\"processing data from twitter\")\n",
        "\n",
        "tw = TwitterV2()\n",
        "tw.get_data()"
      ],
      "execution_count": 110,
      "outputs": [
        {
          "output_type": "stream",
          "name": "stdout",
          "text": [
            "getting data from twitter\n"
          ]
        }
      ]
    },
    {
      "cell_type": "code",
      "metadata": {
        "id": "ByII5317_vrt"
      },
      "source": [
        "dir(tw)"
      ],
      "execution_count": null,
      "outputs": []
    },
    {
      "cell_type": "markdown",
      "metadata": {
        "id": "_0yq28kp5uCu"
      },
      "source": [
        "## Как же проектировать классы"
      ]
    },
    {
      "cell_type": "code",
      "source": [
        "# A B C D E\n",
        "# ||\n",
        "# A\n",
        "# |\n",
        "# B - C\n",
        "# |\n",
        "# D - E"
      ],
      "metadata": {
        "id": "gXS_DEaiDxwc"
      },
      "execution_count": 118,
      "outputs": []
    },
    {
      "cell_type": "markdown",
      "metadata": {
        "id": "GsAOr-2L6Hcd"
      },
      "source": [
        "Что такое хорошая система классов?  \n",
        "\n",
        "Это такая система, которой удобно пользоваться.  \n",
        "Это такая система, которую будет легко расширять.  \n",
        "Это такая система, которая хорошо описывает предметную область."
      ]
    },
    {
      "cell_type": "code",
      "source": [
        "class Message():\n",
        "  def __init__(self, text, address):\n",
        "    self.text = text\n",
        "    self.address = Address(address)\n",
        "    self.address_v2 = address\n",
        "\n",
        "  def get_country(self):\n",
        "    return self.address.country\n",
        "\n",
        "  def get_country_v2(self):\n",
        "    return country_by_address(self.address_v2)\n",
        "\n",
        "def country_by_address(address):\n",
        "  # ...\n",
        "  return \"\"\n",
        "\n",
        "class Address():\n",
        "  # RU, msk, st, 4\n",
        "  def __init__(self, raw):\n",
        "    self.country = None\n",
        "    self.city = None\n",
        "    self.street = None\n",
        "    self.house = None\n",
        "\n",
        "  def parse_raw(self, raw):\n",
        "    self.country = \"\"\n",
        "    # ...\n",
        "\n",
        "  def __eq__(self, other):\n",
        "    return self.country == other.country and self.city == other.city and self.street == other.street"
      ],
      "metadata": {
        "id": "qpRSswQqEXYr"
      },
      "execution_count": null,
      "outputs": []
    },
    {
      "cell_type": "code",
      "source": [],
      "metadata": {
        "id": "SOSRcWqTEUwU"
      },
      "execution_count": null,
      "outputs": []
    },
    {
      "cell_type": "markdown",
      "metadata": {
        "id": "gNJoltbK7XJZ"
      },
      "source": [
        "# QoL improvements"
      ]
    },
    {
      "cell_type": "markdown",
      "metadata": {
        "id": "ofRBBb-O7b-X"
      },
      "source": [
        "## Декораторы"
      ]
    },
    {
      "cell_type": "markdown",
      "metadata": {
        "id": "8qlSpFslJ_f5"
      },
      "source": [
        "Обычно есть 3 функции:\n",
        "- декорирующая\n",
        "- декорируемая\n",
        "- та, которой декорируют"
      ]
    },
    {
      "cell_type": "code",
      "metadata": {
        "id": "TlUUePum7bWs"
      },
      "source": [
        "def trace(func): # декорирующая\n",
        "  def inner(*args, **kwargs): # та, которой декорируют\n",
        "    print(\"calling function:\", func.__name__, \", parameters\", args, kwargs)\n",
        "    return func(*args, **kwargs)\n",
        "  return inner\n",
        "\n",
        "@trace\n",
        "def calc(a, b, **kwargs): # декорируемая\n",
        "  return a + b\n",
        "\n",
        "calc(1,2, p=\"param\")\n",
        "# trace(calc(1,2, p=\"param\"))\n",
        "# ->\n",
        "# inner(1,2, p=\"param\")\n",
        "# -> \n",
        "# calc(1,2, p=\"param\")"
      ],
      "execution_count": null,
      "outputs": []
    },
    {
      "cell_type": "markdown",
      "metadata": {
        "id": "jvROXRKhKYPP"
      },
      "source": [
        "Но мы вполне можем жить и без той, кем декорируют"
      ]
    },
    {
      "cell_type": "code",
      "metadata": {
        "id": "CHFkdAucJrbg"
      },
      "source": [
        "def logger(func):\n",
        "  print(\"logging\")\n",
        "  return func\n",
        "\n",
        "@logger\n",
        "def sum(a, b):\n",
        "  return a + b\n",
        "\n",
        "sum(1,2)"
      ],
      "execution_count": null,
      "outputs": []
    },
    {
      "cell_type": "markdown",
      "metadata": {
        "id": "rdtufpYXKfG0"
      },
      "source": [
        "Декораторов может быть и много!  \n",
        "При этом выполняются они снизу вверх"
      ]
    },
    {
      "cell_type": "code",
      "metadata": {
        "id": "8r_Ik7-IKewC"
      },
      "source": [
        "def first(func):\n",
        "  print(\"i'm the first\")\n",
        "  return func\n",
        "\n",
        "def second(func):\n",
        "  print(\"i'm the second\")\n",
        "  return func\n",
        "\n",
        "@second\n",
        "@first \n",
        "def last():\n",
        "  print(\"i'm the last\")\n",
        "\n",
        "@second\n",
        "def last_2():\n",
        "  print(\"a\")\n",
        "\n",
        "last()\n",
        "print()\n",
        "first(second(last()))"
      ],
      "execution_count": null,
      "outputs": []
    },
    {
      "cell_type": "markdown",
      "source": [
        "## Dataclasses"
      ],
      "metadata": {
        "id": "Uwig42JIEC6h"
      }
    },
    {
      "cell_type": "markdown",
      "source": [
        "Делаем самый простой класс"
      ],
      "metadata": {
        "id": "Kr_XBt_TEKkN"
      }
    },
    {
      "cell_type": "code",
      "source": [
        "class Author:\n",
        "  def __init__(self, name, birthday):\n",
        "    self.name = name\n",
        "    self.birthday = birthday"
      ],
      "metadata": {
        "id": "5ByjqCZnECSu"
      },
      "execution_count": null,
      "outputs": []
    },
    {
      "cell_type": "markdown",
      "source": [
        "Но можно и не писать это все самим"
      ],
      "metadata": {
        "id": "YatsVp2zET36"
      }
    },
    {
      "cell_type": "code",
      "source": [
        "from dataclasses import dataclass\n",
        "\n",
        "@dataclass\n",
        "class Author:\n",
        "    name: str\n",
        "    birthday: str"
      ],
      "metadata": {
        "id": "ReaF9gY_EXPk"
      },
      "execution_count": 112,
      "outputs": []
    },
    {
      "cell_type": "code",
      "source": [
        "a = Author(\"Ivan\", \"01.01.1990\")\n",
        "print(a)\n",
        "a.name = \"Mike\"\n",
        "print(a)"
      ],
      "metadata": {
        "id": "uAMRQKzcEx_D",
        "colab": {
          "base_uri": "https://localhost:8080/"
        },
        "outputId": "f0efa58e-8f04-47ec-e1c4-343052f69260"
      },
      "execution_count": 113,
      "outputs": [
        {
          "output_type": "stream",
          "name": "stdout",
          "text": [
            "Author(name='Ivan', birthday='01.01.1990')\n",
            "Author(name='Mike', birthday='01.01.1990')\n"
          ]
        }
      ]
    },
    {
      "cell_type": "markdown",
      "source": [
        "Есть и значения по умолчанию"
      ],
      "metadata": {
        "id": "xu-W5ENlEqYS"
      }
    },
    {
      "cell_type": "code",
      "source": [
        "@dataclass\n",
        "class Author:\n",
        "    name: str = \"Ivan\"\n",
        "    birthday: str = \"01.01.1990\""
      ],
      "metadata": {
        "id": "-Pr67WztEtHT"
      },
      "execution_count": 114,
      "outputs": []
    },
    {
      "cell_type": "code",
      "source": [
        "a = Author()\n",
        "print(a)"
      ],
      "metadata": {
        "id": "djJYeAkAFHhF",
        "colab": {
          "base_uri": "https://localhost:8080/"
        },
        "outputId": "92cd616b-e1dd-4f29-c888-4372125cc3e2"
      },
      "execution_count": 115,
      "outputs": [
        {
          "output_type": "stream",
          "name": "stdout",
          "text": [
            "Author(name='Ivan', birthday='01.01.1990')\n"
          ]
        }
      ]
    },
    {
      "cell_type": "markdown",
      "source": [
        "А если мы хотим иметь иммутабельные экзмепляры?"
      ],
      "metadata": {
        "id": "7yFbHNkwFxp7"
      }
    },
    {
      "cell_type": "code",
      "source": [
        "@dataclass(frozen=True)\n",
        "class Author:\n",
        "    name: str\n",
        "    birthday: str"
      ],
      "metadata": {
        "id": "gvRu7IkTFZl5"
      },
      "execution_count": 116,
      "outputs": []
    },
    {
      "cell_type": "code",
      "source": [
        "a = Author(\"Ivan\", \"01.01.1990\")\n",
        "print(a)\n",
        "a.name = \"Mike\"\n",
        "print(a)"
      ],
      "metadata": {
        "id": "7HfAapTuFrCX",
        "colab": {
          "base_uri": "https://localhost:8080/",
          "height": 274
        },
        "outputId": "acca99e9-a1fc-4eae-c34a-f6260cb0ecdb"
      },
      "execution_count": 117,
      "outputs": [
        {
          "output_type": "stream",
          "name": "stdout",
          "text": [
            "Author(name='Ivan', birthday='01.01.1990')\n"
          ]
        },
        {
          "output_type": "error",
          "ename": "FrozenInstanceError",
          "evalue": "ignored",
          "traceback": [
            "\u001b[0;31m---------------------------------------------------------------------------\u001b[0m",
            "\u001b[0;31mFrozenInstanceError\u001b[0m                       Traceback (most recent call last)",
            "\u001b[0;32m<ipython-input-117-8a5a983534b3>\u001b[0m in \u001b[0;36m<module>\u001b[0;34m\u001b[0m\n\u001b[1;32m      1\u001b[0m \u001b[0ma\u001b[0m \u001b[0;34m=\u001b[0m \u001b[0mAuthor\u001b[0m\u001b[0;34m(\u001b[0m\u001b[0;34m\"Ivan\"\u001b[0m\u001b[0;34m,\u001b[0m \u001b[0;34m\"01.01.1990\"\u001b[0m\u001b[0;34m)\u001b[0m\u001b[0;34m\u001b[0m\u001b[0;34m\u001b[0m\u001b[0m\n\u001b[1;32m      2\u001b[0m \u001b[0mprint\u001b[0m\u001b[0;34m(\u001b[0m\u001b[0ma\u001b[0m\u001b[0;34m)\u001b[0m\u001b[0;34m\u001b[0m\u001b[0;34m\u001b[0m\u001b[0m\n\u001b[0;32m----> 3\u001b[0;31m \u001b[0ma\u001b[0m\u001b[0;34m.\u001b[0m\u001b[0mname\u001b[0m \u001b[0;34m=\u001b[0m \u001b[0;34m\"Mike\"\u001b[0m\u001b[0;34m\u001b[0m\u001b[0;34m\u001b[0m\u001b[0m\n\u001b[0m\u001b[1;32m      4\u001b[0m \u001b[0mprint\u001b[0m\u001b[0;34m(\u001b[0m\u001b[0ma\u001b[0m\u001b[0;34m)\u001b[0m\u001b[0;34m\u001b[0m\u001b[0;34m\u001b[0m\u001b[0m\n",
            "\u001b[0;32m<string>\u001b[0m in \u001b[0;36m__setattr__\u001b[0;34m(self, name, value)\u001b[0m\n",
            "\u001b[0;31mFrozenInstanceError\u001b[0m: cannot assign to field 'name'"
          ]
        }
      ]
    },
    {
      "cell_type": "markdown",
      "metadata": {
        "id": "KiAgjerw7pWv"
      },
      "source": [
        "## Перегрузка"
      ]
    },
    {
      "cell_type": "code",
      "metadata": {
        "id": "7A6sE_LF7fQg"
      },
      "source": [
        "class InsensitiveString():\n",
        "  def __init__(self, string):\n",
        "    self.string = string\n",
        "\n",
        "s1 = InsensitiveString(\"abc\")\n",
        "s2 = InsensitiveString(\"ABc\")\n",
        "print(s1 == s2)\n",
        "print(s1 != s2)"
      ],
      "execution_count": null,
      "outputs": []
    },
    {
      "cell_type": "code",
      "metadata": {
        "id": "6QLJNPYFD45q"
      },
      "source": [
        "class InsensitiveString():\n",
        "  def __init__(self, string):\n",
        "    self.string = string\n",
        "\n",
        "  def __eq__(self, other):\n",
        "    return self.string.lower() == other.string.lower()\n",
        "\n",
        "  def __ne__(self, other):\n",
        "    return self.string.lower() != other.string.lower()\n",
        "\n",
        "  def __add__(self, other):\n",
        "    return self.string + other.string\n",
        "\n",
        "  # нужно задавать, потому что Python сначала пытается сделать self.__add__(other), если не получается, то other.__radd__(self)\n",
        "  def __radd__(self, other):\n",
        "    return other.string + self.string"
      ],
      "execution_count": null,
      "outputs": []
    },
    {
      "cell_type": "code",
      "metadata": {
        "id": "YnQJ_1qFEO7y"
      },
      "source": [
        "s1 = InsensitiveString(\"abc\")\n",
        "s2 = InsensitiveString(\"ABc\")\n",
        "print(s1 == s2)\n",
        "print(s1 != s2)\n",
        "print(s1 + s2)"
      ],
      "execution_count": null,
      "outputs": []
    },
    {
      "cell_type": "markdown",
      "metadata": {
        "id": "QBGJFPghBngN"
      },
      "source": [
        "## Сеттеры и Геттеры"
      ]
    },
    {
      "cell_type": "code",
      "metadata": {
        "id": "LN2bZMymBpab"
      },
      "source": [
        "class MyClass():\n",
        "  def __init__(self):\n",
        "    self.value = 0"
      ],
      "execution_count": 44,
      "outputs": []
    },
    {
      "cell_type": "markdown",
      "metadata": {
        "id": "lj0Hj_-pByop"
      },
      "source": [
        "Конечно, мы можем напрямую работать с полем __value__"
      ]
    },
    {
      "cell_type": "code",
      "metadata": {
        "id": "UVz6PufzB4vO",
        "colab": {
          "base_uri": "https://localhost:8080/"
        },
        "outputId": "6113c66b-8af3-46cb-9bf4-39d61e6a3c4e"
      },
      "source": [
        "c = MyClass()\n",
        "c.value += 1\n",
        "print(c.value)"
      ],
      "execution_count": 45,
      "outputs": [
        {
          "output_type": "stream",
          "name": "stdout",
          "text": [
            "1\n"
          ]
        }
      ]
    },
    {
      "cell_type": "markdown",
      "metadata": {
        "id": "5-I9N96xCGOw"
      },
      "source": [
        "Однако в таком случае мы можем случайно изменять значения полей, что может быть критичным. Более того, мы можем хотеть скрыть внутренности класса."
      ]
    },
    {
      "cell_type": "code",
      "metadata": {
        "id": "JUs7mPVyCO8V"
      },
      "source": [
        "class MyProtectedClass():\n",
        "  def __init__(self):\n",
        "    self.__value = 0\n",
        "    self.__value_copy = 0\n",
        "\n",
        "  def get_value(self):\n",
        "    return self.__value\n",
        "\n",
        "  def set_value(self, new_value):\n",
        "    self.__value = new_value\n",
        "    self.__value_copy = new_value"
      ],
      "execution_count": 46,
      "outputs": []
    },
    {
      "cell_type": "code",
      "metadata": {
        "id": "Vf8xdPWMCkZ7"
      },
      "source": [
        "c = MyProtectedClass()"
      ],
      "execution_count": 47,
      "outputs": []
    },
    {
      "cell_type": "code",
      "source": [
        "c.__value += 1"
      ],
      "metadata": {
        "id": "EFx9J0KQ0Uen"
      },
      "execution_count": null,
      "outputs": []
    },
    {
      "cell_type": "code",
      "source": [
        "c.set_value(5)\n",
        "c.get_value()"
      ],
      "metadata": {
        "colab": {
          "base_uri": "https://localhost:8080/"
        },
        "id": "JvMSSebw0XHD",
        "outputId": "22c6c5bf-7821-42d1-c072-d7b9b985e3a3"
      },
      "execution_count": 49,
      "outputs": [
        {
          "output_type": "execute_result",
          "data": {
            "text/plain": [
              "5"
            ]
          },
          "metadata": {},
          "execution_count": 49
        }
      ]
    },
    {
      "cell_type": "code",
      "source": [
        "class MySuperProtectedClass():\n",
        "  def __init__(self):\n",
        "    self.__value = 0\n",
        "    self.__value_copy = 0\n",
        "\n",
        "  def get_value(self):\n",
        "    return self.__value"
      ],
      "metadata": {
        "id": "02m3jXee0Zy4"
      },
      "execution_count": 50,
      "outputs": []
    },
    {
      "cell_type": "code",
      "source": [
        "c = MySuperProtectedClass()"
      ],
      "metadata": {
        "id": "onNVT6nV0dhl"
      },
      "execution_count": 51,
      "outputs": []
    },
    {
      "cell_type": "code",
      "source": [
        "c.get_value()"
      ],
      "metadata": {
        "colab": {
          "base_uri": "https://localhost:8080/"
        },
        "id": "jffL0tK60f_g",
        "outputId": "f696f8dd-ecb6-4ba5-b32f-b118b8d09cd5"
      },
      "execution_count": 52,
      "outputs": [
        {
          "output_type": "execute_result",
          "data": {
            "text/plain": [
              "0"
            ]
          },
          "metadata": {},
          "execution_count": 52
        }
      ]
    },
    {
      "cell_type": "markdown",
      "metadata": {
        "id": "qEBm8BTQ7nDN"
      },
      "source": [
        "## Значения по умолчанию"
      ]
    },
    {
      "cell_type": "markdown",
      "metadata": {
        "id": "zauC7YyEGgsn"
      },
      "source": [
        "Для аргументов можно указывать значение по умолчанию"
      ]
    },
    {
      "cell_type": "code",
      "metadata": {
        "id": "RoU6SwMC7tUd"
      },
      "source": [
        "def predefined(a, b, c = 3):\n",
        "  print(a, b, c)\n",
        "\n",
        "predefined(1,2)\n",
        "predefined(3,4,5)"
      ],
      "execution_count": null,
      "outputs": []
    },
    {
      "cell_type": "markdown",
      "metadata": {
        "id": "8R15o-e6GkZH"
      },
      "source": [
        "Но они обязательно идут после аргументов без значения по умолчанию"
      ]
    },
    {
      "cell_type": "code",
      "metadata": {
        "id": "wwkn-EuIGl69"
      },
      "source": [
        "def predefined(a = 1, b, c = 3):\n",
        "  print(a, b, c)\n",
        "\n",
        "predefined(1,2)\n",
        "predefined(3,4,5)"
      ],
      "execution_count": null,
      "outputs": []
    },
    {
      "cell_type": "code",
      "metadata": {
        "id": "MEusF8PrFboB"
      },
      "source": [
        "predefined(2,3) #?"
      ],
      "execution_count": null,
      "outputs": []
    },
    {
      "cell_type": "code",
      "metadata": {
        "id": "UoPuxB2mFwB2"
      },
      "source": [
        "def tokenize(data, tokenizer=T, mtc:max_token_count=2, token_lngth,...)\n",
        "\n",
        "tokenize(data, mtc=2)"
      ],
      "execution_count": null,
      "outputs": []
    },
    {
      "cell_type": "markdown",
      "metadata": {
        "id": "6a5FaLaj7eYZ"
      },
      "source": [
        "## Произвольные аргументы"
      ]
    },
    {
      "cell_type": "markdown",
      "metadata": {
        "id": "6psJxbm7GMMb"
      },
      "source": [
        "Перед массивом произвольных неименованных аргументов может быть что угодно"
      ]
    },
    {
      "cell_type": "code",
      "metadata": {
        "id": "ZBQ_mnw97k8R"
      },
      "source": [
        "def multiplier(start, *args):\n",
        "  for arg in args:\n",
        "    start *= arg\n",
        "  return start\n",
        "\n",
        "print(multiplier(5))\n",
        "print(multiplier(0,2,3,4))\n",
        "print(multiplier(5,2,3,4,10,1))"
      ],
      "execution_count": null,
      "outputs": []
    },
    {
      "cell_type": "markdown",
      "metadata": {
        "id": "Q8MlIUrOGSPY"
      },
      "source": [
        "После массива также можно указать аргументы, но образатсья к ним можно только по имени"
      ]
    },
    {
      "cell_type": "code",
      "metadata": {
        "id": "SFlKi7I1F5Dx"
      },
      "source": [
        "def multiplier2(start, *args, end):\n",
        "  res = start\n",
        "  for arg in args:\n",
        "    res *= arg\n",
        "  return res + end"
      ],
      "execution_count": null,
      "outputs": []
    },
    {
      "cell_type": "code",
      "metadata": {
        "id": "1ZmoFAGCGCa9"
      },
      "source": [
        "multiplier2(1,2,3,4)"
      ],
      "execution_count": null,
      "outputs": []
    },
    {
      "cell_type": "code",
      "metadata": {
        "id": "sOnEc7niGCdw"
      },
      "source": [
        "multiplier2(1,2,3,end=4)"
      ],
      "execution_count": null,
      "outputs": []
    },
    {
      "cell_type": "markdown",
      "metadata": {
        "id": "S4uWLCTmItY-"
      },
      "source": [
        "Можно также задавать массив именованных аргументов"
      ]
    },
    {
      "cell_type": "code",
      "metadata": {
        "id": "w38UsjqLIszj"
      },
      "source": [
        "def summer(start, **kwargs):\n",
        "  return start + kwargs[\"end\"]\n",
        "\n",
        "print(summer(\"s\", middle=\"middle\", middle2=\"m2\", end=\"end\"))"
      ],
      "execution_count": null,
      "outputs": []
    },
    {
      "cell_type": "markdown",
      "metadata": {
        "id": "SqXxhul_72aV"
      },
      "source": [
        "## Указание типов"
      ]
    },
    {
      "cell_type": "markdown",
      "metadata": {
        "id": "Rf2VVajaG8Qk"
      },
      "source": [
        "Мы можем писать, какие мы ожидаем увидеть типы у аргументов и результатов"
      ]
    },
    {
      "cell_type": "code",
      "metadata": {
        "id": "8ouXRbz374nJ"
      },
      "source": [
        "def power(value_1: int, value_2: int) -> int:\n",
        "  return math.pow(value_1, value_2)"
      ],
      "execution_count": null,
      "outputs": []
    },
    {
      "cell_type": "code",
      "metadata": {
        "id": "gCADWDO7H5ve"
      },
      "source": [
        "print(power(2, 3))"
      ],
      "execution_count": null,
      "outputs": []
    },
    {
      "cell_type": "markdown",
      "metadata": {
        "id": "TAtd-XTvH95R"
      },
      "source": [
        "Но это все просто комментарии.."
      ]
    },
    {
      "cell_type": "code",
      "metadata": {
        "id": "zqVK-kQGH5y9"
      },
      "source": [
        "print(power(\"s\", 3))"
      ],
      "execution_count": null,
      "outputs": []
    },
    {
      "cell_type": "markdown",
      "metadata": {
        "id": "hPJSYj448CYO"
      },
      "source": [
        "## Имена"
      ]
    },
    {
      "cell_type": "markdown",
      "metadata": {
        "id": "xu1O4FI3RSCM"
      },
      "source": [
        "Именование переменных, функций, классов - важная вещь. По идее, одного взгляда на них должно быть достаточно доя того, чтобы понять, для чего они существуют"
      ]
    },
    {
      "cell_type": "code",
      "metadata": {
        "id": "NJcikgdd8Bzt"
      },
      "source": [
        "def func(a, b):\n",
        "  return [x * y for x in a for y in b] \n",
        "\n",
        "def array_zipper(source, source_2):\n",
        "  return [x * y for x in source for y in source_2] "
      ],
      "execution_count": null,
      "outputs": []
    },
    {
      "cell_type": "code",
      "metadata": {
        "id": "bZyZt4FASE8H"
      },
      "source": [
        "a = [1,2,3]\n",
        "b = [2,4]\n",
        "print(func(a, b))"
      ],
      "execution_count": null,
      "outputs": []
    },
    {
      "cell_type": "code",
      "metadata": {
        "id": "VWR8HtglIIk_"
      },
      "source": [
        "for range_counter in range(0, 10):\n",
        "  range_counter += 1\n",
        "  pass"
      ],
      "execution_count": null,
      "outputs": []
    },
    {
      "cell_type": "markdown",
      "metadata": {
        "id": "9EUOCTY-S25V"
      },
      "source": [
        "При этом очевидно, что все очень сильно зависит от того, какое время жизни у переменной - если переменная нужна лишь на одной строке, нет ничего зазорного в том, чтобы назвать ее __a__ или __x__"
      ]
    },
    {
      "cell_type": "markdown",
      "metadata": {
        "id": "4po8kQ8o986n"
      },
      "source": [
        "## Контекст"
      ]
    },
    {
      "cell_type": "markdown",
      "metadata": {
        "id": "pBPSE2ITAJbR"
      },
      "source": [
        "Обычно контекст используют при работе с файлами:"
      ]
    },
    {
      "cell_type": "code",
      "metadata": {
        "id": "WEtgrhI09-9n"
      },
      "source": [
        "f = open(\"test.txt\", \"w\")\n",
        "f.write(\"test line\")\n",
        "f.close()\n",
        "\n",
        "with open(\"test2.txt\", \"w\") as f:\n",
        "  f.write(\"test line\")"
      ],
      "execution_count": null,
      "outputs": []
    },
    {
      "cell_type": "markdown",
      "metadata": {
        "id": "0Ig7NNrXAMiU"
      },
      "source": [
        "Но на самом деле мы можем написать свой менеджер контекста:"
      ]
    },
    {
      "cell_type": "code",
      "metadata": {
        "id": "hgZ5FSEkAO7y"
      },
      "source": [
        "class Manager():\n",
        "    def __enter__(self):\n",
        "        print(\"enter\")\n",
        "    def __exit__(self, type, value, traceback):\n",
        "        print(\"exit\")\n",
        "\n",
        "with Manager() as m:\n",
        "  print(\"managing\")"
      ],
      "execution_count": null,
      "outputs": []
    },
    {
      "cell_type": "markdown",
      "metadata": {
        "id": "lXw5NUjd8kOP"
      },
      "source": [
        "## Pattern matching (Python 3.10+)"
      ]
    },
    {
      "cell_type": "code",
      "metadata": {
        "id": "Bpy5asoL8kZa"
      },
      "source": [
        "def do_stuff_v1(value):\n",
        "  if value == \"a\":\n",
        "    print(1)\n",
        "  elif value == \"b\":\n",
        "    print(2)\n",
        "  elif value == \"c\":\n",
        "    print(3)\n",
        "  else:\n",
        "    print(0)"
      ],
      "execution_count": null,
      "outputs": []
    },
    {
      "cell_type": "code",
      "metadata": {
        "id": "w5UAUEYR88tB"
      },
      "source": [
        "do_stuff_v1(\"a\")\n",
        "do_stuff_v1(\"asd\")"
      ],
      "execution_count": null,
      "outputs": []
    },
    {
      "cell_type": "code",
      "metadata": {
        "id": "WHVx4GJd9Bkv"
      },
      "source": [
        "def do_stuff_v2(value):\n",
        "  match value:\n",
        "    case \"a\":\n",
        "      print(1)\n",
        "    case \"b\":\n",
        "      print(2)\n",
        "    case \"c\":\n",
        "      print(3)\n",
        "    case _:\n",
        "      print(0)"
      ],
      "execution_count": null,
      "outputs": []
    },
    {
      "cell_type": "markdown",
      "metadata": {
        "id": "ELcBs6J982X2"
      },
      "source": [
        "## Кэширование"
      ]
    },
    {
      "cell_type": "markdown",
      "metadata": {
        "id": "seYLmYlPLCPE"
      },
      "source": [
        "Часто нам необходимо долго обрабатывать данные, при этом входные данные могут повторяться. Для того, чтобы сэкономить себе время, мы можем сделать себе кэш"
      ]
    },
    {
      "cell_type": "code",
      "metadata": {
        "id": "a9UUEboy87On"
      },
      "source": [
        "cache = {}\n",
        "\n",
        "def compute_output(input):\n",
        "  time.sleep(2)\n",
        "  return input * 10\n",
        "\n",
        "def compute(input):\n",
        "  if input in cache.keys():\n",
        "    return cache[input]\n",
        "  output = compute_output(input)\n",
        "  cache[input] = output\n",
        "  return output"
      ],
      "execution_count": null,
      "outputs": []
    },
    {
      "cell_type": "code",
      "metadata": {
        "id": "7JfDX3eQLsA3"
      },
      "source": [
        "%%time \n",
        "compute(\"a\")"
      ],
      "execution_count": null,
      "outputs": []
    },
    {
      "cell_type": "code",
      "metadata": {
        "id": "8-ZLrwgQME9h"
      },
      "source": [
        "%%time\n",
        "compute(\"a\")"
      ],
      "execution_count": null,
      "outputs": []
    },
    {
      "cell_type": "markdown",
      "metadata": {
        "id": "1trd4WZxA5s0"
      },
      "source": [
        "## Работа с исключениями"
      ]
    },
    {
      "cell_type": "markdown",
      "metadata": {
        "id": "ZqJvatgsN3fQ"
      },
      "source": [
        "Иногда мы хотим написать простую функцию"
      ]
    },
    {
      "cell_type": "code",
      "metadata": {
        "id": "P83-VeGxA7KR"
      },
      "source": [
        "def divider(a, b):\n",
        "  res = a / b\n",
        "  return res"
      ],
      "execution_count": null,
      "outputs": []
    },
    {
      "cell_type": "markdown",
      "metadata": {
        "id": "hsJPnKzSOBSv"
      },
      "source": [
        "Но что-то может пойти не так"
      ]
    },
    {
      "cell_type": "code",
      "metadata": {
        "id": "As0Ue1VRNV0A"
      },
      "source": [
        "print(divider(1, 0))"
      ],
      "execution_count": null,
      "outputs": []
    },
    {
      "cell_type": "markdown",
      "metadata": {
        "id": "ryhx8LyTOB_5"
      },
      "source": [
        "Для того, чтобы уберечь себя, мы можем использовать конструкцию try-except:\n",
        "- try - что пытаемся сделать\n",
        "- except - какие исключения пытаемся ловить и что делаем, если их поймаем\n",
        "- else - что делаем, если не словили ошибку\n",
        "- finally - что делаем при любом исходе"
      ]
    },
    {
      "cell_type": "code",
      "metadata": {
        "id": "mzr40ZRFNZQ5"
      },
      "source": [
        "def safe_divider(a, b):\n",
        "  try:\n",
        "    res = a / b\n",
        "  except ZeroDivisionError:\n",
        "    print(\"unsafe division!\")\n",
        "    res = 0\n",
        "  else:\n",
        "    print(\"safe division!\")\n",
        "  finally:\n",
        "    return res"
      ],
      "execution_count": null,
      "outputs": []
    },
    {
      "cell_type": "code",
      "metadata": {
        "id": "BgUWeRVXN1P2"
      },
      "source": [
        "print(safe_divider(1,1))"
      ],
      "execution_count": null,
      "outputs": []
    },
    {
      "cell_type": "code",
      "metadata": {
        "id": "FYRnxak_N1rF"
      },
      "source": [
        "print(safe_divider(1,0))"
      ],
      "execution_count": null,
      "outputs": []
    },
    {
      "cell_type": "markdown",
      "metadata": {
        "id": "TTa-vMg2Bi4y"
      },
      "source": [
        "## Итераторы"
      ]
    },
    {
      "cell_type": "markdown",
      "metadata": {
        "id": "ZXEuq5Z5Orob"
      },
      "source": [
        "Итераторы нужны для того, чтобы можно было удобно проходить по элементам некоей сущности. Обычно при проходе по элементам списка мы делаем так:"
      ]
    },
    {
      "cell_type": "code",
      "metadata": {
        "id": "4FshnOSeBlNi"
      },
      "source": [
        "num_list = [1, 2, 3]\n",
        "for i in num_list:\n",
        "  print(i)"
      ],
      "execution_count": null,
      "outputs": []
    },
    {
      "cell_type": "markdown",
      "metadata": {
        "id": "px6bfw0qPIc8"
      },
      "source": [
        "Но можно создать итератор - объект, который может вернуть нам очередной элемент или же кинуть исключение"
      ]
    },
    {
      "cell_type": "code",
      "metadata": {
        "id": "Qe5QI8NoO1Vm"
      },
      "source": [
        "itr = iter(num_list)\n",
        "print(next(itr))\n",
        "print(next(itr))\n",
        "print(next(itr))\n",
        "print(next(itr))"
      ],
      "execution_count": null,
      "outputs": []
    },
    {
      "cell_type": "markdown",
      "metadata": {
        "id": "WxMdQPcjPd3n"
      },
      "source": [
        "Мы можем делать и собственные итераторы "
      ]
    },
    {
      "cell_type": "code",
      "metadata": {
        "id": "ylGb9a4aPdSx"
      },
      "source": [
        "class SimpleIterator:\n",
        "  def __init__(self, limit):\n",
        "    self.limit = limit\n",
        "    self.counter = 0\n",
        "\n",
        "  def __next__(self):\n",
        "    if self.counter < self.limit:\n",
        "      self.counter += 1\n",
        "      return 1\n",
        "    else:\n",
        "      raise StopIteration\n",
        "\n",
        "s_iter1 = SimpleIterator(3)\n",
        "print(next(s_iter1))\n",
        "print(next(s_iter1))\n",
        "print(next(s_iter1))\n",
        "print(next(s_iter1))"
      ],
      "execution_count": null,
      "outputs": []
    },
    {
      "cell_type": "markdown",
      "metadata": {
        "id": "J27B7A4RP0EE"
      },
      "source": [
        "## Генераторы"
      ]
    },
    {
      "cell_type": "markdown",
      "metadata": {
        "id": "qX83f49HQEre"
      },
      "source": [
        "Генератор - функция, которая определяет правила для __next__  \n",
        "При этом вместо того, чтобы возвращать значение с помощью __return__, мы их __yield__'им"
      ]
    },
    {
      "cell_type": "code",
      "metadata": {
        "id": "0W6_PS2yKwFw"
      },
      "source": [],
      "execution_count": null,
      "outputs": []
    },
    {
      "cell_type": "code",
      "metadata": {
        "id": "uuQ_sZaqP3F7"
      },
      "source": [
        "def simple_generator(val):\n",
        "  while val > 0:\n",
        "    val -= 1\n",
        "    yield 1\n",
        "\n",
        "g = simple_generator(3)\n",
        "print(next(g))\n",
        "print(next(g))\n",
        "print(next(g))\n",
        "print(next(g))"
      ],
      "execution_count": null,
      "outputs": []
    },
    {
      "cell_type": "markdown",
      "metadata": {
        "id": "A-1rJ-GeQz0F"
      },
      "source": [
        "Важно учитывать, что:\n",
        "- генератор не хранит в себе все значения\n",
        "- генератор как бы замораживается в процессе работы, ожидая очередную своб итерацию\n",
        "- можно добавить сообщение в конце!"
      ]
    },
    {
      "cell_type": "code",
      "metadata": {
        "id": "5vHsgPnaRHXx"
      },
      "source": [
        "def simple_generator(val):\n",
        "  while val > 0:\n",
        "    val -= 1\n",
        "    yield 1\n",
        "  return \"the end!\"\n",
        "  \n",
        "\n",
        "g = simple_generator(3)\n",
        "print(next(g))\n",
        "print(next(g))\n",
        "print(next(g))\n",
        "print(next(g))"
      ],
      "execution_count": null,
      "outputs": []
    },
    {
      "cell_type": "markdown",
      "metadata": {
        "id": "xZpIsU_O8J3g"
      },
      "source": [
        "## Линтеры"
      ]
    },
    {
      "cell_type": "markdown",
      "metadata": {
        "id": "bfTbD_KXM6_K"
      },
      "source": [
        "Существуют инструменты, которые проверяют как стиль написания кода, так и сам код (к примеру, говорят, что объявленная переменная нигде не используется). Их называют линтерами. Самым известным линтером можно назвать Flake8"
      ]
    },
    {
      "cell_type": "markdown",
      "metadata": {
        "id": "gXgchJ3OTVgs"
      },
      "source": [
        "# Некоторые из частых ошибок"
      ]
    },
    {
      "cell_type": "markdown",
      "metadata": {
        "id": "gzZd_7qUTZza"
      },
      "source": [
        "## Работа с массивом, а не с его копией"
      ]
    },
    {
      "cell_type": "code",
      "metadata": {
        "id": "Vb32nW2WTVCN"
      },
      "source": [
        "aa = [1,2,3,4,5]\n",
        "for i in range(0, len(aa)):\n",
        "  a = aa[i]\n",
        "  if a == 3 or a == 4:\n",
        "    aa.pop(i)\n",
        "print(aa)"
      ],
      "execution_count": null,
      "outputs": []
    },
    {
      "cell_type": "code",
      "metadata": {
        "id": "bmhLwlasToJk"
      },
      "source": [
        "aa = [1,2,3,4,5]\n",
        "for a in aa:\n",
        "  if a == 3 or a == 4:\n",
        "    aa.remove(a)\n",
        "print(aa)"
      ],
      "execution_count": null,
      "outputs": []
    },
    {
      "cell_type": "code",
      "metadata": {
        "id": "tmlGBockMbA_"
      },
      "source": [
        "aa = [1,2,3,4,5]\n",
        "for a in aa.copy():\n",
        "  if a == 3 or a == 4:\n",
        "    aa.remove(a)\n",
        "print(aa)"
      ],
      "execution_count": null,
      "outputs": []
    },
    {
      "cell_type": "markdown",
      "metadata": {
        "id": "PPd3HcD7UFrB"
      },
      "source": [
        "##Значение по умолчанию, являющееся изменяемым объектом"
      ]
    },
    {
      "cell_type": "code",
      "metadata": {
        "id": "ZvYlOpF-UDtS"
      },
      "source": [
        "def test_list(a=[]):\n",
        "  a.append(\"a\")\n",
        "  return a\n",
        "\n",
        "print(test_list())\n",
        "print(test_list())"
      ],
      "execution_count": null,
      "outputs": []
    },
    {
      "cell_type": "code",
      "metadata": {
        "id": "XJyGKm5xUUMU"
      },
      "source": [
        "def test_dict(key, a={}):\n",
        "  a[key] = 0\n",
        "  return a\n",
        "\n",
        "print(test_dict(\"a\"))\n",
        "print(test_dict(\"b\"))"
      ],
      "execution_count": null,
      "outputs": []
    },
    {
      "cell_type": "markdown",
      "metadata": {
        "id": "AVAppWZwU0-m"
      },
      "source": [
        "## Поля класса"
      ]
    },
    {
      "cell_type": "code",
      "metadata": {
        "id": "ZlcKyidbUnOv"
      },
      "source": [
        "class A():\n",
        "  val = 1\n",
        "\n",
        "class B(A):\n",
        "  pass\n",
        "\n",
        "class C(A):\n",
        "  pass\n",
        "\n",
        "a = A()\n",
        "b = B()\n",
        "c = C()"
      ],
      "execution_count": null,
      "outputs": []
    },
    {
      "cell_type": "code",
      "metadata": {
        "id": "rw48-vuJVE80"
      },
      "source": [
        "print(a.val, b.val, c.val)\n",
        "print(a.__dict__, b.__dict__, c.__dict__)"
      ],
      "execution_count": null,
      "outputs": []
    },
    {
      "cell_type": "markdown",
      "metadata": {
        "id": "9xY5Xz7NONts"
      },
      "source": [
        "При изменении __val__ у экземпляра __b__ на самом деле мы добавляем ему такое поле  (раньше он искал его у __super()__'а"
      ]
    },
    {
      "cell_type": "code",
      "metadata": {
        "id": "JJWokNtWOfEA"
      },
      "source": [
        "b.val = 2\n",
        "print(a.val, b.val, c.val)\n",
        "print(a.__dict__, b.__dict__, c.__dict__)"
      ],
      "execution_count": null,
      "outputs": []
    },
    {
      "cell_type": "markdown",
      "metadata": {
        "id": "y2euyVxXOy19"
      },
      "source": [
        "Даже если мы у экземлпяра класса родителя изменим __val__, это ни на кого не повлияет"
      ]
    },
    {
      "cell_type": "code",
      "metadata": {
        "id": "hHoz2MSAOjuS"
      },
      "source": [
        "a.val = 10\n",
        "print(a.val, b.val, c.val)\n",
        "print(a.__dict__, b.__dict__, c.__dict__)"
      ],
      "execution_count": null,
      "outputs": []
    },
    {
      "cell_type": "markdown",
      "metadata": {
        "id": "Yh2HswDsO8Z7"
      },
      "source": [
        "Изменение же значения поля всего класса повлечет изменение значения у __c__, потому что __c.val__ на самом деле ссылается на __A.val__"
      ]
    },
    {
      "cell_type": "code",
      "metadata": {
        "id": "XVLVz7OMOkuo"
      },
      "source": [
        "A.val=9\n",
        "print(a.val, b.val, c.val)\n",
        "print(a.__dict__, b.__dict__, c.__dict__)"
      ],
      "execution_count": null,
      "outputs": []
    }
  ]
}