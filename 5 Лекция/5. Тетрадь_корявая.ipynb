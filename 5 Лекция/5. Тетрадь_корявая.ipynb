{
  "nbformat": 4,
  "nbformat_minor": 0,
  "metadata": {
    "colab": {
      "provenance": []
    },
    "kernelspec": {
      "name": "python3",
      "display_name": "Python 3"
    },
    "language_info": {
      "name": "python"
    }
  },
  "cells": [
    {
      "cell_type": "markdown",
      "source": [
        "# Структуры и алгоритмы"
      ],
      "metadata": {
        "id": "hHMNvgukzlj1"
      }
    },
    {
      "cell_type": "markdown",
      "source": [
        "Структуры - объекты, хранящие в себе однотипные данные. Рассмотрим некоторые из них."
      ],
      "metadata": {
        "id": "diVXA05j0Jtz"
      }
    },
    {
      "cell_type": "markdown",
      "source": [
        "## Списки"
      ],
      "metadata": {
        "id": "inawvqla0cU5"
      }
    },
    {
      "cell_type": "markdown",
      "source": [
        "Списки бывают односвязные (самые простые) и двусвязные. "
      ],
      "metadata": {
        "id": "Ve30mcyy0gmo"
      }
    },
    {
      "cell_type": "code",
      "source": [
        "# elem1 -> elem2 -> elem3...\n",
        "# elem1 -> elem2 -> elem3\n",
        "#       <-       <-"
      ],
      "metadata": {
        "id": "kM4cquDp2UD0"
      },
      "execution_count": null,
      "outputs": []
    },
    {
      "cell_type": "code",
      "source": [
        "class LinkedList():\n",
        "  def __init__(self, value):\n",
        "    self.next = None\n",
        "    self.value = value\n",
        "\n",
        "  def bind_next(self, other):\n",
        "    self.next = other\n",
        "\n",
        "  def print_all(self):\n",
        "    curr_node = self\n",
        "    vals = []\n",
        "    while curr_node:\n",
        "      vals.append(curr_node.value)\n",
        "      curr_node = curr_node.next\n",
        "    print(vals)\n",
        "\n",
        "class DoubleLinkedList():\n",
        "  def __init__(self, value):\n",
        "    self.prev = None\n",
        "    self.next = None\n",
        "    self.value = value\n",
        "\n",
        "  def bind_next(self, other):\n",
        "    self.next = other\n",
        "    other.prev = self"
      ],
      "metadata": {
        "id": "FhrWdN8Gzkwb"
      },
      "execution_count": 1,
      "outputs": []
    },
    {
      "cell_type": "code",
      "execution_count": null,
      "metadata": {
        "colab": {
          "base_uri": "https://localhost:8080/"
        },
        "id": "DiF0-DT0zeRo",
        "outputId": "5c6c18e1-e90d-44dd-a7f9-243f576b312b"
      },
      "outputs": [
        {
          "output_type": "stream",
          "name": "stdout",
          "text": [
            "[0, 1, 2, 3]\n"
          ]
        }
      ],
      "source": [
        "ll_1 = LinkedList(0)\n",
        "ll_2 = LinkedList(1)\n",
        "ll_3 = LinkedList(2)\n",
        "ll_4 = LinkedList(3)\n",
        "\n",
        "ll_1.bind_next(ll_2)\n",
        "ll_2.bind_next(ll_3)\n",
        "ll_3.bind_next(ll_4)\n",
        "\n",
        "# ll_1.next -> ll_2\n",
        "# ll_2.next -> ll_3\n",
        "# ll_3.next -> ll_4\n",
        "# ll_4.next -> None\n",
        "ll_1.print_all()"
      ]
    },
    {
      "cell_type": "code",
      "source": [
        "dll_1 = DoubleLinkedList(0)\n",
        "dll_2 = DoubleLinkedList(1)\n",
        "dll_3 = DoubleLinkedList(2)\n",
        "\n",
        "dll_1.bind_next(dll_2)\n",
        "dll_2.bind_next(dll_3)\n",
        "\n",
        "print(dll_1.value, dll_1.next.value, dll_1.next.next.value)\n",
        "print(dll_3.value, dll_3.prev.value, dll_3.prev.prev.value)"
      ],
      "metadata": {
        "id": "fPALKf2b12AC",
        "colab": {
          "base_uri": "https://localhost:8080/"
        },
        "outputId": "8f1e756a-d27e-4878-b9aa-217f588b5cb3"
      },
      "execution_count": null,
      "outputs": [
        {
          "output_type": "stream",
          "name": "stdout",
          "text": [
            "0 1 2\n",
            "2 1 0\n"
          ]
        }
      ]
    },
    {
      "cell_type": "code",
      "source": [
        "def do_smth_v1(data):\n",
        "  if data.value > 1:\n",
        "     return True\n",
        "  else:\n",
        "    return False\n",
        "\n",
        "for item in data:\n",
        "  do_smth_v1(item)\n",
        "  # if ...\n",
        "\n",
        "def do_smth_v1(data):\n",
        "  if data.value > 1:\n",
        "     return True\n",
        "  elif data.next is None:\n",
        "      return True\n",
        "  else:\n",
        "    return False  \n",
        "\n",
        "# data[index], data[index+1], ..\n",
        "# item.next.next .."
      ],
      "metadata": {
        "id": "2QxSgALM3kzv"
      },
      "execution_count": null,
      "outputs": []
    },
    {
      "cell_type": "markdown",
      "source": [
        "Какие операции можно провернуть со списками? Можно добавлять элемент, удалять элемент, находить элемент и т.д."
      ],
      "metadata": {
        "id": "5KVwzGh52EQZ"
      }
    },
    {
      "cell_type": "code",
      "source": [
        "# elem1 -> elem2 -> elem3\n",
        "# DELETE elem2 ? elem1 -> elem3\n",
        "# ADD elem2.5 ? elem1 -> elem2 -> elem2.5 -> elem3\n",
        "\n",
        "# elem1 (0) <-> elem2 (1) <->elem3 (2)\n",
        "# while True:\n",
        "#   curr_node = curr_node.next\n",
        "#   if curr_node.value == target:\n",
        "#      curr_node.prev.next = curr_node.next\n",
        "#      curr_node.next.prev = curr_node.prev\n",
        "\n",
        "# curr_node = elem1\n",
        "# curr_node = elem1.next = elem2\n",
        "# elem1.next = elem2.next\n",
        "# elem3.prev = elem2.prev"
      ],
      "metadata": {
        "id": "cpTHRIOI4eY0"
      },
      "execution_count": null,
      "outputs": []
    },
    {
      "cell_type": "code",
      "source": [
        "def LinkedList_delete(curr_node, value):\n",
        "  head = curr_node\n",
        "  temp = curr_node\n",
        "\n",
        "  if temp:\n",
        "      if (temp.value == value):\n",
        "          head = temp.next\n",
        "          temp = None\n",
        "          return head\n",
        "\n",
        "\n",
        "  while temp:\n",
        "      if temp.value == value:\n",
        "          break\n",
        "      prev = temp\n",
        "      temp = temp.next\n",
        "\n",
        "  if not temp:\n",
        "      return\n",
        "\n",
        "  prev.next = temp.next\n",
        "\n",
        "  return head"
      ],
      "metadata": {
        "id": "-aSCtleE2Cks"
      },
      "execution_count": null,
      "outputs": []
    },
    {
      "cell_type": "code",
      "source": [
        "LinkedList_delete(ll_1, 1).print_all()"
      ],
      "metadata": {
        "id": "Z6tB1jbg4JMS"
      },
      "execution_count": null,
      "outputs": []
    },
    {
      "cell_type": "markdown",
      "source": [
        "есть односвязный список; как узнать, что у нас в нем нет циклов?"
      ],
      "metadata": {
        "id": "HDKq1-wm5yCs"
      }
    },
    {
      "cell_type": "code",
      "source": [
        "# e1 -> e2 -> e3 -> e4\n",
        "#       ^           |\n",
        "#       |           |\n",
        "#       -------------"
      ],
      "metadata": {
        "id": "cSas437254eO"
      },
      "execution_count": null,
      "outputs": []
    },
    {
      "cell_type": "code",
      "source": [
        "class LinkedList_flag():\n",
        "  def __init__(self, value):\n",
        "    self.next = None\n",
        "    self.value = value\n",
        "    self.checked = False\n",
        "\n",
        "visited = [\"e1\", \"e2\", \"e3\", \"e4\", \"e2\"]\n",
        "\n",
        "# 3: e3 e3 e3 ...\n",
        "# 2: e2 e4 e3 \n",
        "# ДЗ"
      ],
      "metadata": {
        "id": "md9uG3DY6LC7"
      },
      "execution_count": null,
      "outputs": []
    },
    {
      "cell_type": "markdown",
      "source": [
        "## Стеки"
      ],
      "metadata": {
        "id": "FnHJYPLc3aGO"
      }
    },
    {
      "cell_type": "markdown",
      "source": [
        "Last in - first out (LIFO)"
      ],
      "metadata": {
        "id": "UogYq9P37Kpu"
      }
    },
    {
      "cell_type": "code",
      "source": [
        "class Stack():\n",
        "  def __init__(self):\n",
        "    self.values = []\n",
        "  \n",
        "  def put(self, value):\n",
        "    self.values.append(value)\n",
        "\n",
        "  def pop(self):\n",
        "    print(self.values[len(self.values)-1])\n",
        "    self.values = self.values[:len(self.values)-1]"
      ],
      "metadata": {
        "id": "xTtw3bRn3qKN"
      },
      "execution_count": null,
      "outputs": []
    },
    {
      "cell_type": "code",
      "source": [
        "s = Stack()\n",
        "s.put(3)\n",
        "s.put(5)\n",
        "s.put(7)\n",
        "s.pop()\n",
        "s.pop()\n",
        "s.pop()"
      ],
      "metadata": {
        "id": "BqrbNtZj7GOQ",
        "colab": {
          "base_uri": "https://localhost:8080/"
        },
        "outputId": "09c56943-ee4d-4845-9128-38be6f227105"
      },
      "execution_count": null,
      "outputs": [
        {
          "output_type": "stream",
          "name": "stdout",
          "text": [
            "7\n",
            "5\n",
            "3\n"
          ]
        }
      ]
    },
    {
      "cell_type": "markdown",
      "source": [
        "## Очереди"
      ],
      "metadata": {
        "id": "kgO9iyFW3d0X"
      }
    },
    {
      "cell_type": "markdown",
      "source": [
        "First in - first out (FIFO)"
      ],
      "metadata": {
        "id": "5f3gjO5k7OEw"
      }
    },
    {
      "cell_type": "code",
      "source": [
        "class Queue():\n",
        "  def __init__(self):\n",
        "    self.values = []\n",
        "  \n",
        "  def put(self, value):\n",
        "    self.values.append(value)\n",
        "\n",
        "  def pop(self):\n",
        "    print(self.values[0])\n",
        "    self.values = self.values[1:]"
      ],
      "metadata": {
        "id": "Jn4mkitQ3qnP"
      },
      "execution_count": null,
      "outputs": []
    },
    {
      "cell_type": "code",
      "source": [
        "q = Queue()\n",
        "q.put(3)\n",
        "q.put(5)\n",
        "q.put(7)\n",
        "q.pop()\n",
        "q.pop()\n",
        "q.pop()"
      ],
      "metadata": {
        "id": "rnJY8QoY7iR2",
        "colab": {
          "base_uri": "https://localhost:8080/"
        },
        "outputId": "dbb57933-8614-438c-c0a7-a0cf2ddcd029"
      },
      "execution_count": null,
      "outputs": [
        {
          "output_type": "stream",
          "name": "stdout",
          "text": [
            "3\n",
            "5\n",
            "7\n"
          ]
        }
      ]
    },
    {
      "cell_type": "code",
      "source": [
        "# service 1 (2), service 2 (100)\n",
        "# service 1 -> service 2\n",
        "# 1) http\n",
        "# 2) DB\n",
        "# 3) q (rabbitMQ, kafka)"
      ],
      "metadata": {
        "id": "nRTpv5dR7xOv"
      },
      "execution_count": null,
      "outputs": []
    },
    {
      "cell_type": "markdown",
      "source": [
        "## Деревья"
      ],
      "metadata": {
        "id": "3qZIXG5J3i1j"
      }
    },
    {
      "cell_type": "code",
      "source": [
        "# [1-6]\n",
        "# MIN?\n",
        "min = data[0]\n",
        "for item in data:\n",
        "  if item < min:\n",
        "    min = item\n",
        "\n",
        "max = data[0]\n",
        "for item in data:\n",
        "  if item > min:\n",
        "    max = item\n",
        "\n",
        "#         5\n",
        "#       3   6\n",
        "#    1   4    \n",
        "#       2\n",
        "\n",
        "#      5\n",
        "#     4 6\n",
        "#    3\n",
        "#   2\n",
        "#  1"
      ],
      "metadata": {
        "id": "ztJhAr0p-DZE"
      },
      "execution_count": null,
      "outputs": []
    },
    {
      "cell_type": "code",
      "source": [
        "# 1-10\n",
        "\n",
        "#      1\n",
        "#        2\n",
        "#          3\n",
        "#  ............."
      ],
      "metadata": {
        "id": "4Oha5R_8AuqG"
      },
      "execution_count": null,
      "outputs": []
    },
    {
      "cell_type": "code",
      "source": [
        "class BinaryTreeNode():\n",
        "  def __init__(self, value):\n",
        "    self.l = None\n",
        "    self.r = None\n",
        "    self.value = value\n",
        "\n",
        "  def print(self):\n",
        "    print(self.value)\n",
        "    if self.l:\n",
        "      print(\"left for\", self.value)\n",
        "      self.l.print()\n",
        "    if self.r:\n",
        "      print(\"right for\", self.value)\n",
        "      self.r.print()\n",
        "\n",
        "class BinaryTree():\n",
        "  def __init__(self):\n",
        "    self.root = None\n",
        "\n",
        "  def add(self, value):\n",
        "    if not self.root:\n",
        "        self.root = BinaryTreeNode(value)\n",
        "        return\n",
        "    \n",
        "    def _add(node, value):\n",
        "      if node.value > value:\n",
        "        if node.l:\n",
        "          _add(node.l, value)\n",
        "        else:\n",
        "          node.l = BinaryTreeNode(value)\n",
        "      else:\n",
        "        if node.r:\n",
        "          _add(node.r, value)\n",
        "        else:\n",
        "          node.r = BinaryTreeNode(value)\n",
        "    \n",
        "    _add(self.root, value)\n",
        "  \n",
        "  def print_all(self):\n",
        "    self.root.print()"
      ],
      "metadata": {
        "id": "txdxh9JU3rTU"
      },
      "execution_count": null,
      "outputs": []
    },
    {
      "cell_type": "code",
      "source": [
        "t = BinaryTree()\n",
        "t.add(5)\n",
        "t.add(4)\n",
        "t.add(1)\n",
        "t.add(8)\n",
        "t.add(6)\n",
        "t.add(9)"
      ],
      "metadata": {
        "id": "xYLHekL39Z6V"
      },
      "execution_count": null,
      "outputs": []
    },
    {
      "cell_type": "code",
      "source": [
        "t.print_all()"
      ],
      "metadata": {
        "id": "IiyqMtAK9841",
        "colab": {
          "base_uri": "https://localhost:8080/"
        },
        "outputId": "1086af3a-6c1f-46fe-9fde-c4eef710ea70"
      },
      "execution_count": null,
      "outputs": [
        {
          "output_type": "stream",
          "name": "stdout",
          "text": [
            "5\n",
            "left for 5\n",
            "4\n",
            "left for 4\n",
            "1\n",
            "right for 5\n",
            "8\n",
            "left for 8\n",
            "6\n",
            "right for 8\n",
            "9\n"
          ]
        }
      ]
    },
    {
      "cell_type": "markdown",
      "source": [
        "## Оценка"
      ],
      "metadata": {
        "id": "u3Yx2ziI-iXl"
      }
    },
    {
      "cell_type": "markdown",
      "source": [
        "Обычно алгоритмы оценивают, делают это по:\n",
        "- памяти\n",
        "- сложности"
      ],
      "metadata": {
        "id": "koJwC21z-koV"
      }
    },
    {
      "cell_type": "markdown",
      "source": [
        "https://leetcode.com/problemset/all/?sorting=W3sic29ydE9yZGVyIjoiQVNDRU5ESU5HIiwib3JkZXJCeSI6IkRJRkZJQ1VMVFkifV0%3D\n",
        "\n",
        "https://www.codewars.com/"
      ],
      "metadata": {
        "id": "x0iQuD90E252"
      }
    },
    {
      "cell_type": "markdown",
      "source": [
        "Оценка по памяти заключается в ответе на вопрос, сколько нужно будет выделить памяти для решения задачи (n -> inf)"
      ],
      "metadata": {
        "id": "Wp-Nl245-teo"
      }
    },
    {
      "cell_type": "markdown",
      "source": [
        "пусть есть массив чисел; хотим убрать все нечетные\n",
        "\n"
      ],
      "metadata": {
        "id": "sjDwZ8bFBT8-"
      }
    },
    {
      "cell_type": "code",
      "source": [
        "def bad_clear(data):\n",
        "  new_data = []\n",
        "  for item in data:\n",
        "    if item % 2 == 0:\n",
        "      new_data.append(item)\n",
        "\n",
        "  return new_data\n",
        "\n",
        "# [0 3 4 1 7 8 11 4 5]\n",
        "# i end\n",
        "# 0 8\n",
        "# 1 8 [0 5 4 1 7 8 11 4 3]\n",
        "# 1 7 [0 4 4 1 7 8 11 5 3]\n",
        "# 1 6\n",
        "# 2 6\n",
        "# 3 6 [0 4 4 11 7 8 1 5 3]\n",
        "# 3 5 [0 4 4 8 7 11 1 5 3]\n",
        "# 3 4\n",
        "# 4 4 [0 4 4 8 7 11 1 5 3]\n",
        "# 4 3\n",
        "def good_clear(data):\n",
        "  i = 0\n",
        "  end = len(data)\n",
        "\n",
        "  while i < end:\n",
        "    if data[i] % 2 == 0:\n",
        "      i += 1\n",
        "    else:\n",
        "      data[i], data[end-1] = data[end-1], data[i]\n",
        "      end -= 1\n",
        "\n",
        "  return data[:end]"
      ],
      "metadata": {
        "id": "bs8uO28O-__x"
      },
      "execution_count": null,
      "outputs": []
    },
    {
      "cell_type": "code",
      "source": [
        "data_1 = [2,4,6,8,10,12]\n",
        "print(bad_clear(data_1))\n",
        "print(good_clear(data_1))"
      ],
      "metadata": {
        "id": "cwleOaKXBy5_",
        "colab": {
          "base_uri": "https://localhost:8080/"
        },
        "outputId": "12d8c1a3-abef-43f6-b197-2ba23b43b601"
      },
      "execution_count": null,
      "outputs": [
        {
          "output_type": "stream",
          "name": "stdout",
          "text": [
            "[2, 4, 6, 8, 10, 12]\n",
            "[2, 4, 6, 8, 10, 12]\n"
          ]
        }
      ]
    },
    {
      "cell_type": "code",
      "source": [
        "data_2 = [1,5,2,4,9,10,2,8,1]\n",
        "print(bad_clear(data_2))\n",
        "print(good_clear(data_2))"
      ],
      "metadata": {
        "id": "s2ey8yQlCZSf",
        "colab": {
          "base_uri": "https://localhost:8080/"
        },
        "outputId": "761d4b4c-b3e2-4b76-ccd5-adfcbfd2acdb"
      },
      "execution_count": null,
      "outputs": [
        {
          "output_type": "stream",
          "name": "stdout",
          "text": [
            "[2, 4, 10, 2, 8]\n",
            "[8, 2, 2, 4, 10]\n"
          ]
        }
      ]
    },
    {
      "cell_type": "code",
      "source": [
        "data_3 = [1,5,7,11,5,7,21,2]\n",
        "print(bad_clear(data_3))\n",
        "print(good_clear(data_3))"
      ],
      "metadata": {
        "id": "BvYhdC8hCrXE",
        "colab": {
          "base_uri": "https://localhost:8080/"
        },
        "outputId": "282a34f2-fdd9-4f7b-c39a-7d2bf73787ff"
      },
      "execution_count": null,
      "outputs": [
        {
          "output_type": "stream",
          "name": "stdout",
          "text": [
            "[2]\n",
            "[2]\n"
          ]
        }
      ]
    },
    {
      "cell_type": "markdown",
      "source": [
        "Оценка по сложности заключается в ответе на вопрос, сколько времени займет решение проблемы (n -> inf)"
      ],
      "metadata": {
        "id": "hDmfvscZ-1Xd"
      }
    },
    {
      "cell_type": "code",
      "source": [
        "# [1 4 2 6]\n",
        "# [1 2 4 6]"
      ],
      "metadata": {
        "id": "BI2BRvrcDaOB"
      },
      "execution_count": null,
      "outputs": []
    },
    {
      "cell_type": "code",
      "source": [
        "def bubble_sort(data):\n",
        "  for i in range(len(data)):\n",
        "    for j in range(len(data)-i-1):\n",
        "      if data[j] > data[j+1]:\n",
        "        data[j], data[j+1] = data[j+1], data[j]"
      ],
      "metadata": {
        "id": "XzIYKqqN-h1P"
      },
      "execution_count": null,
      "outputs": []
    },
    {
      "cell_type": "code",
      "source": [
        "data = [1,3,67,21,3,45,1]\n",
        "bubble_sort(data)\n",
        "print(data)"
      ],
      "metadata": {
        "id": "XAvMYC0w_w7T"
      },
      "execution_count": null,
      "outputs": []
    },
    {
      "cell_type": "markdown",
      "source": [
        "https://www.google.com/url?sa=i&url=https%3A%2F%2Fwww.youtube.com%2Fwatch%3Fv%3DBeoCbJPuvSE&psig=AOvVaw3MIpl3SlvRL8U0Z5FYYxct&ust=1668011058837000&source=images&cd=vfe&ved=0CA0QjRxqFwoTCPjYicf_nvsCFQAAAAAdAAAAABAD"
      ],
      "metadata": {
        "id": "BXhWgIggDvvz"
      }
    },
    {
      "cell_type": "markdown",
      "source": [
        "# Паттерны"
      ],
      "metadata": {
        "id": "sbKytuOxzfZV"
      }
    },
    {
      "cell_type": "markdown",
      "source": [
        "Паттерн, в общем то, представляет из себя некую конструкцию, которую удобно переиспользовать из раза в раз на разных проектах (так, некоторые паттерны включены изначально в языках)\n",
        "\n",
        "https://refactoring.guru/ru/design-patterns/catalog"
      ],
      "metadata": {
        "id": "5K2PNw8WDszR"
      }
    },
    {
      "cell_type": "markdown",
      "source": [
        "## Синглтон"
      ],
      "metadata": {
        "id": "ms1obbeCD8RO"
      }
    },
    {
      "cell_type": "code",
      "source": [
        "logger = None\n",
        "\n",
        "def new_logger():\n",
        "  pass\n",
        "\n",
        "def create_logger():\n",
        "  if logger:\n",
        "    return logger\n",
        "  logger = new_logger()\n",
        "  return logger"
      ],
      "metadata": {
        "id": "74FXdfaLLylJ"
      },
      "execution_count": null,
      "outputs": []
    },
    {
      "cell_type": "code",
      "source": [
        "class Logger():\n",
        "  logfile = \"\"\n",
        "\n",
        "  def __new__(cls, *args, **kwargs):\n",
        "    if not hasattr(cls, '_logger'):\n",
        "        cls._logger = super(Logger, cls).__new__(cls)\n",
        "    # Возвращаем созданный (только что или ранее) объект.\n",
        "    return cls._logger\n",
        "    \n",
        "  def __init__(self):\n",
        "    pass\n",
        "\n",
        "# ДЗ"
      ],
      "metadata": {
        "id": "a4VnRrQxzgq6"
      },
      "execution_count": null,
      "outputs": []
    },
    {
      "cell_type": "code",
      "source": [
        "l = Logger()\n",
        "l2 = Logger()\n",
        "print(l is l2)\n",
        "\n",
        "# l = Logger()\n",
        "# value = class.__new__()\n",
        "# class._logger = value\n",
        "# class.__init__(class._logger)\n",
        "\n",
        "# l2 = Logger()\n",
        "# class._logger\n",
        "# class.__init__(class._logger)"
      ],
      "metadata": {
        "colab": {
          "base_uri": "https://localhost:8080/"
        },
        "id": "fY-NG5a0Eexa",
        "outputId": "3d32e48b-8262-41c9-9968-d1085635198d"
      },
      "execution_count": null,
      "outputs": [
        {
          "output_type": "stream",
          "name": "stdout",
          "text": [
            "True\n"
          ]
        }
      ]
    },
    {
      "cell_type": "markdown",
      "source": [
        "## Адаптер"
      ],
      "metadata": {
        "id": "iVSiHPOhD_3B"
      }
    },
    {
      "cell_type": "code",
      "source": [
        "class ForeignRunner():\n",
        "  def foreign_run(self):\n",
        "    return \"gninnur\"\n",
        "\n",
        "class MyRunner():\n",
        "  def run(self):\n",
        "    return \"running\"\n",
        "\n",
        "class Adapter(MyRunner, ForeignRunner):\n",
        "  def run(self):\n",
        "    return self.foreign_run()[::-1]"
      ],
      "metadata": {
        "id": "jQ_0Zr9JE52B"
      },
      "execution_count": null,
      "outputs": []
    },
    {
      "cell_type": "code",
      "source": [
        "mr = MyRunner()\n",
        "mr.run()"
      ],
      "metadata": {
        "colab": {
          "base_uri": "https://localhost:8080/",
          "height": 35
        },
        "id": "L_Kki9kKFnod",
        "outputId": "837181e8-dd0d-4ed7-f9f3-3800dbfd5ee6"
      },
      "execution_count": null,
      "outputs": [
        {
          "output_type": "execute_result",
          "data": {
            "text/plain": [
              "'running'"
            ],
            "application/vnd.google.colaboratory.intrinsic+json": {
              "type": "string"
            }
          },
          "metadata": {},
          "execution_count": 23
        }
      ]
    },
    {
      "cell_type": "code",
      "source": [
        "fr = ForeignRunner()\n",
        "fr.foreign_run()"
      ],
      "metadata": {
        "colab": {
          "base_uri": "https://localhost:8080/",
          "height": 35
        },
        "id": "eMKxC3iaFy9k",
        "outputId": "6ee746a5-042d-4025-d6e1-733399111781"
      },
      "execution_count": null,
      "outputs": [
        {
          "output_type": "execute_result",
          "data": {
            "text/plain": [
              "'gninnur'"
            ],
            "application/vnd.google.colaboratory.intrinsic+json": {
              "type": "string"
            }
          },
          "metadata": {},
          "execution_count": 24
        }
      ]
    },
    {
      "cell_type": "code",
      "source": [
        "ar = Adapter()\n",
        "ar.run()"
      ],
      "metadata": {
        "colab": {
          "base_uri": "https://localhost:8080/",
          "height": 35
        },
        "id": "GsWaA-YaF33z",
        "outputId": "52bf7e86-2d73-4d99-cc31-9c925bda7de3"
      },
      "execution_count": null,
      "outputs": [
        {
          "output_type": "execute_result",
          "data": {
            "text/plain": [
              "'running'"
            ],
            "application/vnd.google.colaboratory.intrinsic+json": {
              "type": "string"
            }
          },
          "metadata": {},
          "execution_count": 25
        }
      ]
    },
    {
      "cell_type": "markdown",
      "source": [
        "## Наблюдатель"
      ],
      "metadata": {
        "id": "s6qbkEIYGANC"
      }
    },
    {
      "cell_type": "code",
      "source": [
        "#  class 1 (react to) -> class 2\n",
        "#  1) class 2 -> DB -> class 1\n",
        "#  class 1: while True ...\n",
        "#  2) class 2 -> [] -> class 1\n",
        "#  ..."
      ],
      "metadata": {
        "id": "3QbzkPVKNbdX"
      },
      "execution_count": null,
      "outputs": []
    },
    {
      "cell_type": "code",
      "source": [
        "class Child():\n",
        "  def __init__(self, name):\n",
        "    self.name = name\n",
        "    self.state = \"calm\"\n",
        "    self.observers = []\n",
        "    self.shout_count = 0\n",
        "\n",
        "  def do_smth_good(self):\n",
        "    print(\"doing smth\")\n",
        "    self.state = \"calm\"\n",
        "    for o in self.observers:\n",
        "      o.check_state()\n",
        "\n",
        "  def do_smth_bad(self):\n",
        "    print(\"doing smth bad\")\n",
        "    self.state = \"not calm\"\n",
        "    for o in self.observers:\n",
        "      # o.check_state_v2(self)\n",
        "      o.check_state()\n",
        "\n",
        "class Parent():\n",
        "  def __init__(self):\n",
        "    self.observant = None\n",
        "\n",
        "  def look_at(self, child):\n",
        "    self.observant = child\n",
        "    child.observers.append(self)\n",
        "\n",
        "  def check_state(self):\n",
        "    if self.observant.state == \"not calm\":\n",
        "      print(self.observant.name.upper())\n",
        "      self.observant.state = \"calm\"\n",
        "\n",
        "  def check_state_v2(self, child):\n",
        "    if child.state == \"not calm\":\n",
        "      print(child.name.upper())\n",
        "      child.state = \"calm\"  \n",
        "  \n",
        "  def check_state_v3(self, child):\n",
        "    if child.state == \"not calm\":\n",
        "      print(child.name.upper())\n",
        "      child.shout_count += 1\n",
        "      if child.shout_count == len(child.observers):\n",
        "        child.state = \"calm\"\n",
        "        child.shout_count = 0 \n"
      ],
      "metadata": {
        "id": "N7gqTXq1F8PO"
      },
      "execution_count": null,
      "outputs": []
    },
    {
      "cell_type": "code",
      "source": [
        "c = Child(\"Alice\")\n",
        "p1 = Parent()\n",
        "p2 = Parent()\n",
        "p1.look_at(c)\n",
        "p2.look_at(c)"
      ],
      "metadata": {
        "id": "Jxks5YYbIEzS"
      },
      "execution_count": null,
      "outputs": []
    },
    {
      "cell_type": "code",
      "source": [
        "actions = [0,0,0,1,0,1,1,0]\n",
        "for a in actions:\n",
        "  if a == 0:\n",
        "    c.do_smth_good()\n",
        "  else:\n",
        "    c.do_smth_bad()"
      ],
      "metadata": {
        "id": "2DDpNfemIOZ9",
        "colab": {
          "base_uri": "https://localhost:8080/"
        },
        "outputId": "1d5de528-6f21-44a5-dd59-8450541c6912"
      },
      "execution_count": null,
      "outputs": [
        {
          "output_type": "stream",
          "name": "stdout",
          "text": [
            "doing smth\n",
            "doing smth\n",
            "doing smth\n",
            "doing smth bad\n",
            "ALICE\n",
            "doing smth\n",
            "doing smth bad\n",
            "ALICE\n",
            "doing smth bad\n",
            "ALICE\n",
            "doing smth\n"
          ]
        }
      ]
    },
    {
      "cell_type": "markdown",
      "source": [
        "# Мини домашка"
      ],
      "metadata": {
        "id": "ZAWHwZcy26QJ"
      }
    },
    {
      "cell_type": "markdown",
      "source": [
        "## Задание 1"
      ],
      "metadata": {
        "id": "CukyqrDk3ZYO"
      }
    },
    {
      "cell_type": "markdown",
      "source": [
        "Хотим найти цикл в односвязном списке; если он есть - возвращаем True, если нет - False\n",
        "При этом нам нельзя сохранять список уже посещенных нод, хотим сделать проверку в формате, который обсуждали на лекции (идти с разным шагом)"
      ],
      "metadata": {
        "id": "agh9K9By5aUR"
      }
    },
    {
      "cell_type": "code",
      "source": [
        "def find_cycle(node):\n",
        "  pass"
      ],
      "metadata": {
        "id": "mldmMtEMOPGk"
      },
      "execution_count": 5,
      "outputs": []
    },
    {
      "cell_type": "code",
      "source": [
        "ll_1 = LinkedList(0)\n",
        "ll_2 = LinkedList(1)\n",
        "ll_3 = LinkedList(2)\n",
        "ll_4 = LinkedList(3)\n",
        "\n",
        "ll_1.bind_next(ll_2)\n",
        "ll_2.bind_next(ll_3)\n",
        "ll_3.bind_next(ll_4)\n",
        "\n",
        "assert find_cycle(ll_1) == False\n",
        "\n",
        "ll_4.bind_next(ll_2)\n",
        "\n",
        "assert find_cycle(ll_1) == True"
      ],
      "metadata": {
        "id": "e1has-wC4MFs"
      },
      "execution_count": 6,
      "outputs": []
    },
    {
      "cell_type": "markdown",
      "source": [
        "## Задание 2"
      ],
      "metadata": {
        "id": "vU3wsfnw51Bt"
      }
    },
    {
      "cell_type": "markdown",
      "source": [
        "Напишите класс ConnectToDB так, чтобы при передаче уже однажды переданных параметров возвращался созданный ранее экземлпяр класса, при новых - новый"
      ],
      "metadata": {
        "id": "T2Va-LsZ52n7"
      }
    },
    {
      "cell_type": "code",
      "source": [
        "class ConnectToDB():\n",
        "  connections = {}\n",
        "\n",
        "  def __new__(cls, *args, **kwargs):\n",
        "    pass\n",
        "    \n",
        "  def __init__(self, address=\"\"):\n",
        "    self.address = address"
      ],
      "metadata": {
        "id": "h-96XM7l6ZvM"
      },
      "execution_count": 14,
      "outputs": []
    },
    {
      "cell_type": "code",
      "source": [
        "c1 = ConnectToDB(address=\"addr1\")\n",
        "c2 = ConnectToDB(address=\"addr1\")\n",
        "c3 = ConnectToDB(address=\"addr2\")\n",
        "assert c1 is c2\n",
        "assert c1 is not c3"
      ],
      "metadata": {
        "id": "VWMMbYdI4qe6"
      },
      "execution_count": 18,
      "outputs": []
    },
    {
      "cell_type": "code",
      "source": [],
      "metadata": {
        "id": "6Cyc5YsB7tii"
      },
      "execution_count": null,
      "outputs": []
    }
  ]
}