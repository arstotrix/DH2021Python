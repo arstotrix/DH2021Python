{
  "nbformat": 4,
  "nbformat_minor": 0,
  "metadata": {
    "colab": {
      "name": "Untitled23.ipynb",
      "provenance": []
    },
    "kernelspec": {
      "name": "python3",
      "display_name": "Python 3"
    },
    "language_info": {
      "name": "python"
    }
  },
  "cells": [
    {
      "cell_type": "markdown",
      "source": [
        "# Структуры и алгоритмы"
      ],
      "metadata": {
        "id": "hHMNvgukzlj1"
      }
    },
    {
      "cell_type": "markdown",
      "source": [
        "Структуры - объекты, хранящие в себе однотипные данные. Рассмотрим некоторые из них."
      ],
      "metadata": {
        "id": "diVXA05j0Jtz"
      }
    },
    {
      "cell_type": "markdown",
      "source": [
        "## Списки"
      ],
      "metadata": {
        "id": "inawvqla0cU5"
      }
    },
    {
      "cell_type": "markdown",
      "source": [
        "Списки бывают односвязные (самые простые) и двусвязные. "
      ],
      "metadata": {
        "id": "Ve30mcyy0gmo"
      }
    },
    {
      "cell_type": "code",
      "source": [
        "class LinkedList():\n",
        "  def __init__(self, value):\n",
        "    self.next = None\n",
        "    self.value = value\n",
        "\n",
        "  def bind_next(self, other):\n",
        "    self.next = other\n",
        "\n",
        "  def print_all(self):\n",
        "    curr_node = self\n",
        "    vals = []\n",
        "    while curr_node:\n",
        "      vals.append(curr_node.value)\n",
        "      curr_node = curr_node.next\n",
        "    print(vals)\n",
        "\n",
        "class DoubleLinkedList():\n",
        "  def __init__(self, value):\n",
        "    self.prev = None\n",
        "    self.next = None\n",
        "    self.value = value\n",
        "\n",
        "  def bind_next(self, other):\n",
        "    self.next = other\n",
        "    other.prev = self"
      ],
      "metadata": {
        "id": "FhrWdN8Gzkwb"
      },
      "execution_count": 17,
      "outputs": []
    },
    {
      "cell_type": "code",
      "execution_count": 45,
      "metadata": {
        "colab": {
          "base_uri": "https://localhost:8080/"
        },
        "id": "DiF0-DT0zeRo",
        "outputId": "a65920cb-a3b3-4f69-fcd8-268724d5abff"
      },
      "outputs": [
        {
          "output_type": "stream",
          "name": "stdout",
          "text": [
            "[0, 1, 2, 3]\n"
          ]
        }
      ],
      "source": [
        "ll_1 = LinkedList(0)\n",
        "ll_2 = LinkedList(1)\n",
        "ll_3 = LinkedList(2)\n",
        "ll_4 = LinkedList(3)\n",
        "\n",
        "ll_1.bind_next(ll_2)\n",
        "ll_2.bind_next(ll_3)\n",
        "ll_3.bind_next(ll_4)\n",
        "\n",
        "ll_1.print_all()"
      ]
    },
    {
      "cell_type": "code",
      "source": [
        "dll_1 = DoubleLinkedList(0)\n",
        "dll_2 = DoubleLinkedList(1)\n",
        "dll_3 = DoubleLinkedList(2)\n",
        "\n",
        "dll_1.bind_next(dll_2)\n",
        "dll_2.bind_next(dll_3)\n",
        "\n",
        "print(dll_1.value, dll_1.next.value, dll_1.next.next.value)\n",
        "print(dll_3.value, dll_3.prev.value, dll_3.prev.prev.value)"
      ],
      "metadata": {
        "id": "fPALKf2b12AC"
      },
      "execution_count": null,
      "outputs": []
    },
    {
      "cell_type": "markdown",
      "source": [
        "Какие операции можно провернуть со списками? Можно добавлять элемент, удалять элемент, находить элемент и т.д."
      ],
      "metadata": {
        "id": "5KVwzGh52EQZ"
      }
    },
    {
      "cell_type": "code",
      "source": [
        "def LinkedList_delete(curr_node, value):\n",
        "  head = curr_node\n",
        "  temp = curr_node\n",
        "\n",
        "  if temp:\n",
        "      if (temp.value == value):\n",
        "          head = temp.next\n",
        "          temp = None\n",
        "          return head\n",
        "\n",
        "\n",
        "  while temp:\n",
        "      if temp.value == value:\n",
        "          break\n",
        "      prev = temp\n",
        "      temp = temp.next\n",
        "\n",
        "  if not temp:\n",
        "      return\n",
        "\n",
        "  prev.next = temp.next\n",
        "\n",
        "  return head"
      ],
      "metadata": {
        "id": "-aSCtleE2Cks"
      },
      "execution_count": 34,
      "outputs": []
    },
    {
      "cell_type": "code",
      "source": [
        "LinkedList_delete(ll_1, 1).print_all()"
      ],
      "metadata": {
        "id": "Z6tB1jbg4JMS"
      },
      "execution_count": null,
      "outputs": []
    },
    {
      "cell_type": "markdown",
      "source": [
        "## Стеки"
      ],
      "metadata": {
        "id": "FnHJYPLc3aGO"
      }
    },
    {
      "cell_type": "code",
      "source": [
        "class Stack():\n",
        "  def __init__(self):\n",
        "    self.values = []\n",
        "  \n",
        "  def put(self, value):\n",
        "    self.values.append(value)\n",
        "\n",
        "  def pop(self):\n",
        "    print(self.values[len(self.values)-1])\n",
        "    self.values = self.values[:len(self.values)-1]"
      ],
      "metadata": {
        "id": "xTtw3bRn3qKN"
      },
      "execution_count": 51,
      "outputs": []
    },
    {
      "cell_type": "code",
      "source": [
        "s = Stack()\n",
        "s.put(3)\n",
        "s.put(5)\n",
        "s.put(7)\n",
        "s.pop()\n",
        "s.pop()\n",
        "s.pop()"
      ],
      "metadata": {
        "id": "BqrbNtZj7GOQ"
      },
      "execution_count": null,
      "outputs": []
    },
    {
      "cell_type": "markdown",
      "source": [
        "## Очереди"
      ],
      "metadata": {
        "id": "kgO9iyFW3d0X"
      }
    },
    {
      "cell_type": "code",
      "source": [
        "class Queue():\n",
        "  def __init__(self):\n",
        "    self.values = []\n",
        "  \n",
        "  def put(self, value):\n",
        "    self.values.append(value)\n",
        "\n",
        "  def pop(self):\n",
        "    print(self.values[0])\n",
        "    self.values = self.values[1:]"
      ],
      "metadata": {
        "id": "Jn4mkitQ3qnP"
      },
      "execution_count": 55,
      "outputs": []
    },
    {
      "cell_type": "code",
      "source": [
        "q = Queue()\n",
        "q.put(3)\n",
        "q.put(5)\n",
        "q.put(7)\n",
        "q.pop()\n",
        "q.pop()\n",
        "q.pop()"
      ],
      "metadata": {
        "id": "rnJY8QoY7iR2"
      },
      "execution_count": null,
      "outputs": []
    },
    {
      "cell_type": "markdown",
      "source": [
        "## Деревья"
      ],
      "metadata": {
        "id": "3qZIXG5J3i1j"
      }
    },
    {
      "cell_type": "code",
      "source": [
        "class BinaryTreeNode():\n",
        "  def __init__(self, value):\n",
        "    self.l = None\n",
        "    self.r = None\n",
        "    self.value = value\n",
        "\n",
        "  def print(self):\n",
        "    print(self.value)\n",
        "    if self.l:\n",
        "      print(\"left for\", self.value)\n",
        "      self.l.print()\n",
        "    if self.r:\n",
        "      print(\"right for\", self.value)\n",
        "      self.r.print()\n",
        "\n",
        "class BinaryTree():\n",
        "  def __init__(self):\n",
        "    self.root = None\n",
        "\n",
        "  def add(self, value):\n",
        "    if not self.root:\n",
        "        self.root = BinaryTreeNode(value)\n",
        "        return\n",
        "    \n",
        "    def _add(node, value):\n",
        "      if node.value > value:\n",
        "        if node.l:\n",
        "          _add(node.l, value)\n",
        "        else:\n",
        "          node.l = BinaryTreeNode(value)\n",
        "      else:\n",
        "        if node.r:\n",
        "          _add(node.r, value)\n",
        "        else:\n",
        "          node.r = BinaryTreeNode(value)\n",
        "    \n",
        "    _add(self.root, value)\n",
        "  \n",
        "  def print_all(self):\n",
        "    self.root.print()"
      ],
      "metadata": {
        "id": "txdxh9JU3rTU"
      },
      "execution_count": 67,
      "outputs": []
    },
    {
      "cell_type": "code",
      "source": [
        "t = BinaryTree()\n",
        "t.add(5)\n",
        "t.add(4)\n",
        "t.add(1)\n",
        "t.add(8)\n",
        "t.add(6)\n",
        "t.add(9)"
      ],
      "metadata": {
        "id": "xYLHekL39Z6V"
      },
      "execution_count": 68,
      "outputs": []
    },
    {
      "cell_type": "code",
      "source": [
        "t.print_all()"
      ],
      "metadata": {
        "id": "IiyqMtAK9841"
      },
      "execution_count": null,
      "outputs": []
    },
    {
      "cell_type": "markdown",
      "source": [
        "## Оценка"
      ],
      "metadata": {
        "id": "u3Yx2ziI-iXl"
      }
    },
    {
      "cell_type": "markdown",
      "source": [
        "Обычно алгоритмы оценивают, делают это по:\n",
        "- памяти\n",
        "- сложности"
      ],
      "metadata": {
        "id": "koJwC21z-koV"
      }
    },
    {
      "cell_type": "markdown",
      "source": [
        "Оценка по памяти заключается в ответе на вопрос, сколько нужно будет выделить памяти для решения задачи (n -> inf)"
      ],
      "metadata": {
        "id": "Wp-Nl245-teo"
      }
    },
    {
      "cell_type": "code",
      "source": [
        "def bad_clear(data):\n",
        "  new_data = []\n",
        "  for item in data:\n",
        "    if item % 2 == 0:\n",
        "      new_data.append(item)\n",
        "\n",
        "  return new_data\n",
        "\n",
        "\n",
        "def good_clear(data):\n",
        "  i = 0\n",
        "  end = len(data)\n",
        "\n",
        "  while i < end:\n",
        "    if data[i] % 2 == 0:\n",
        "      i += 1\n",
        "    else:\n",
        "      data[i], data[end-1] = data[end-1], data[i]\n",
        "      end -= 1\n",
        "\n",
        "  return data[:end]"
      ],
      "metadata": {
        "id": "bs8uO28O-__x"
      },
      "execution_count": 92,
      "outputs": []
    },
    {
      "cell_type": "code",
      "source": [
        "data_1 = [2,4,6,8,10,12]\n",
        "print(bad_clear(data_1))\n",
        "print(good_clear(data_1))"
      ],
      "metadata": {
        "id": "cwleOaKXBy5_"
      },
      "execution_count": null,
      "outputs": []
    },
    {
      "cell_type": "code",
      "source": [
        "data_2 = [1,5,2,4,9,10,2,8,1]\n",
        "print(bad_clear(data_2))\n",
        "print(good_clear(data_2))"
      ],
      "metadata": {
        "id": "s2ey8yQlCZSf"
      },
      "execution_count": null,
      "outputs": []
    },
    {
      "cell_type": "code",
      "source": [
        "data_3 = [1,5,7,11,5,7,21,2]\n",
        "print(bad_clear(data_3))\n",
        "print(good_clear(data_3))"
      ],
      "metadata": {
        "id": "BvYhdC8hCrXE"
      },
      "execution_count": null,
      "outputs": []
    },
    {
      "cell_type": "markdown",
      "source": [
        "Оценка по сложности заключается в ответе на вопрос, сколько времени займет решение проблемы (n -> inf)"
      ],
      "metadata": {
        "id": "hDmfvscZ-1Xd"
      }
    },
    {
      "cell_type": "code",
      "source": [
        "def bubble_sort(data):\n",
        "  for i in range(len(data)):\n",
        "    for j in range(len(data)-i-1):\n",
        "      if data[j] > data[j+1]:\n",
        "        data[j], data[j+1] = data[j+1], data[j]"
      ],
      "metadata": {
        "id": "XzIYKqqN-h1P"
      },
      "execution_count": 80,
      "outputs": []
    },
    {
      "cell_type": "code",
      "source": [
        "data = [1,3,67,21,3,45,1]\n",
        "bubble_sort(data)\n",
        "print(data)"
      ],
      "metadata": {
        "id": "XAvMYC0w_w7T"
      },
      "execution_count": null,
      "outputs": []
    },
    {
      "cell_type": "markdown",
      "source": [
        "# Паттерны"
      ],
      "metadata": {
        "id": "sbKytuOxzfZV"
      }
    },
    {
      "cell_type": "markdown",
      "source": [
        "Паттерн, в общем то, представляет из себя некую конструкцию, которую удобно переиспользовать из раза в раз на разных проектах (так, некоторые паттерны включены изначально в языках)"
      ],
      "metadata": {
        "id": "5K2PNw8WDszR"
      }
    },
    {
      "cell_type": "markdown",
      "source": [
        "## Синглтон"
      ],
      "metadata": {
        "id": "ms1obbeCD8RO"
      }
    },
    {
      "cell_type": "code",
      "source": [
        "class Logger():\n",
        "  logfile = \"\"\n",
        "\n",
        "  def __new__(cls, *args, **kwargs):\n",
        "    if not hasattr(cls, '_logger'):\n",
        "        cls._logger = super(Logger, cls).__new__(cls, *args, **kwargs)\n",
        "    # Возвращаем созданный (только что или ранее) объект.\n",
        "    return cls._logger\n",
        "    \n",
        "  def __init__(self):\n",
        "    pass"
      ],
      "metadata": {
        "id": "a4VnRrQxzgq6"
      },
      "execution_count": 101,
      "outputs": []
    },
    {
      "cell_type": "code",
      "source": [
        "l = Logger()\n",
        "l2 = Logger()\n",
        "print(l is l2)"
      ],
      "metadata": {
        "colab": {
          "base_uri": "https://localhost:8080/"
        },
        "id": "fY-NG5a0Eexa",
        "outputId": "f0c401c9-4f77-4c05-8271-0017b31c3a9d"
      },
      "execution_count": 102,
      "outputs": [
        {
          "output_type": "stream",
          "name": "stdout",
          "text": [
            "True\n"
          ]
        }
      ]
    },
    {
      "cell_type": "markdown",
      "source": [
        "## Адаптер"
      ],
      "metadata": {
        "id": "iVSiHPOhD_3B"
      }
    },
    {
      "cell_type": "code",
      "source": [
        "class ForeignRunner():\n",
        "  def foreign_run(self):\n",
        "    return \"gninnur\"\n",
        "\n",
        "class MyRunner():\n",
        "  def run(self):\n",
        "    return \"running\"\n",
        "\n",
        "class Adapter(MyRunner, ForeignRunner):\n",
        "  def run(self):\n",
        "    return self.foreign_run()[::-1]"
      ],
      "metadata": {
        "id": "jQ_0Zr9JE52B"
      },
      "execution_count": 111,
      "outputs": []
    },
    {
      "cell_type": "code",
      "source": [
        "mr = MyRunner()\n",
        "mr.run()"
      ],
      "metadata": {
        "colab": {
          "base_uri": "https://localhost:8080/",
          "height": 35
        },
        "id": "L_Kki9kKFnod",
        "outputId": "8ed57441-08da-45fd-ecb2-11abff6ef5d3"
      },
      "execution_count": 107,
      "outputs": [
        {
          "output_type": "execute_result",
          "data": {
            "application/vnd.google.colaboratory.intrinsic+json": {
              "type": "string"
            },
            "text/plain": [
              "'running'"
            ]
          },
          "metadata": {},
          "execution_count": 107
        }
      ]
    },
    {
      "cell_type": "code",
      "source": [
        "fr = ForeignRunner()\n",
        "fr.foreign_run()"
      ],
      "metadata": {
        "colab": {
          "base_uri": "https://localhost:8080/",
          "height": 35
        },
        "id": "eMKxC3iaFy9k",
        "outputId": "2d9c4254-1607-44bd-8e4e-4523b3f1b556"
      },
      "execution_count": 109,
      "outputs": [
        {
          "output_type": "execute_result",
          "data": {
            "application/vnd.google.colaboratory.intrinsic+json": {
              "type": "string"
            },
            "text/plain": [
              "'gninnur'"
            ]
          },
          "metadata": {},
          "execution_count": 109
        }
      ]
    },
    {
      "cell_type": "code",
      "source": [
        "ar = Adapter()\n",
        "ar.run()"
      ],
      "metadata": {
        "colab": {
          "base_uri": "https://localhost:8080/",
          "height": 35
        },
        "id": "GsWaA-YaF33z",
        "outputId": "8751a765-b555-48d2-b9db-03402749cdb6"
      },
      "execution_count": 112,
      "outputs": [
        {
          "output_type": "execute_result",
          "data": {
            "application/vnd.google.colaboratory.intrinsic+json": {
              "type": "string"
            },
            "text/plain": [
              "'running'"
            ]
          },
          "metadata": {},
          "execution_count": 112
        }
      ]
    },
    {
      "cell_type": "markdown",
      "source": [
        "## Наблюдатель"
      ],
      "metadata": {
        "id": "s6qbkEIYGANC"
      }
    },
    {
      "cell_type": "code",
      "source": [
        "class Child():\n",
        "  def __init__(self, name):\n",
        "    self.name = name\n",
        "    self.state = \"calm\"\n",
        "    self.observers = []\n",
        "\n",
        "  def do_smth_good(self):\n",
        "    print(\"doing smth\")\n",
        "    self.state = \"calm\"\n",
        "    for o in self.observers:\n",
        "      o.check_state()\n",
        "\n",
        "  def do_smth_bad(self):\n",
        "    print(\"doing smth bad\")\n",
        "    self.state = \"not calm\"\n",
        "    for o in self.observers:\n",
        "      o.check_state()\n",
        "\n",
        "class Parent():\n",
        "  def __init__(self):\n",
        "    self.observant = None\n",
        "\n",
        "  def look_at(self, child):\n",
        "    self.observant = child\n",
        "    child.observers.append(self)\n",
        "\n",
        "  def check_state(self):\n",
        "    if self.observant.state == \"not calm\":\n",
        "      print(self.observant.name.upper())\n",
        "      self.observant.state = \"calm\"\n"
      ],
      "metadata": {
        "id": "N7gqTXq1F8PO"
      },
      "execution_count": 123,
      "outputs": []
    },
    {
      "cell_type": "code",
      "source": [
        "c = Child(\"Alice\")\n",
        "p1 = Parent()\n",
        "p2 = Parent()\n",
        "p1.look_at(c)\n",
        "p2.look_at(c)"
      ],
      "metadata": {
        "id": "Jxks5YYbIEzS"
      },
      "execution_count": 124,
      "outputs": []
    },
    {
      "cell_type": "code",
      "source": [
        "actions = [0,0,0,1,0,1,1,0]\n",
        "for a in actions:\n",
        "  if a == 0:\n",
        "    c.do_smth_good()\n",
        "  else:\n",
        "    c.do_smth_bad()"
      ],
      "metadata": {
        "id": "2DDpNfemIOZ9"
      },
      "execution_count": null,
      "outputs": []
    }
  ]
}